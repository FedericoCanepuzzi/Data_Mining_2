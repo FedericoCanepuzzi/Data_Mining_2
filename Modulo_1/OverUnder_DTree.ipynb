{
 "cells": [
  {
   "cell_type": "code",
   "execution_count": 61,
   "metadata": {},
   "outputs": [],
   "source": [
    "import os\n",
    "\n",
    "import IPython.display as ipd\n",
    "import numpy as np\n",
    "import pandas as pd\n",
    "import matplotlib.pyplot as plt\n",
    "import seaborn as sns\n",
    "import sklearn as skl\n",
    "import sklearn.utils, sklearn.preprocessing, sklearn.decomposition, sklearn.svm\n",
    "import librosa\n",
    "import librosa.display\n",
    "\n",
    "import utils\n",
    "plt.rcParams['figure.figsize'] = (13, 5)\n",
    "\n",
    "from sklearn.feature_selection import SelectKBest, f_classif\n",
    "from sklearn.feature_selection import VarianceThreshold\n",
    "from sklearn.preprocessing import LabelEncoder\n",
    "from sklearn.model_selection import train_test_split\n",
    "from sklearn.tree import DecisionTreeClassifier\n",
    "from sklearn.model_selection import GridSearchCV\n",
    "from sklearn.model_selection import StratifiedKFold\n",
    "from sklearn.metrics import accuracy_score, f1_score, recall_score, precision_score, classification_report\n",
    "from sklearn.metrics import roc_curve, auc, roc_auc_score\n",
    "from sklearn.metrics import confusion_matrix\n",
    "import itertools\n",
    "from sklearn.model_selection import RandomizedSearchCV\n",
    "from imblearn.under_sampling import RandomUnderSampler\n",
    "from imblearn.under_sampling import CondensedNearestNeighbour\n",
    "from collections import Counter\n",
    "from sklearn.preprocessing import label_binarize\n",
    "from sklearn.metrics import roc_curve, auc\n",
    "from sklearn.metrics import roc_auc_score\n",
    "from scipy import interp\n",
    "from itertools import cycle\n",
    "from scikitplot.metrics import plot_roc\n",
    "from scikitplot.metrics import plot_precision_recall\n",
    "from scikitplot.metrics import plot_cumulative_gain\n",
    "from scikitplot.metrics import plot_lift_curve\n",
    "from sklearn.metrics import precision_recall_curve\n",
    "from sklearn.metrics import precision_recall_curve\n",
    "from sklearn.metrics import average_precision_score\n",
    "from collections import Counter\n",
    "from sklearn.datasets import make_classification\n",
    "from imblearn.over_sampling import SMOTE\n",
    "from imblearn.under_sampling import RandomUnderSampler\n",
    "from imblearn.under_sampling import CondensedNearestNeighbour"
   ]
  },
  {
   "cell_type": "code",
   "execution_count": 1,
   "metadata": {},
   "outputs": [
    {
     "ename": "NameError",
     "evalue": "name 'pd' is not defined",
     "output_type": "error",
     "traceback": [
      "\u001b[1;31m---------------------------------------------------------------------------\u001b[0m",
      "\u001b[1;31mNameError\u001b[0m                                 Traceback (most recent call last)",
      "\u001b[1;32m<ipython-input-1-6d3a85290a7f>\u001b[0m in \u001b[0;36m<module>\u001b[1;34m\u001b[0m\n\u001b[1;32m----> 1\u001b[1;33m \u001b[0mfeatures\u001b[0m \u001b[1;33m=\u001b[0m \u001b[0mpd\u001b[0m\u001b[1;33m.\u001b[0m\u001b[0mread_csv\u001b[0m\u001b[1;33m(\u001b[0m\u001b[1;34m'data/fma_metadata/df_senzaOutliers.csv'\u001b[0m\u001b[1;33m,\u001b[0m\u001b[0mindex_col\u001b[0m\u001b[1;33m=\u001b[0m\u001b[1;33m[\u001b[0m\u001b[1;36m0\u001b[0m\u001b[1;33m]\u001b[0m\u001b[1;33m,\u001b[0m \u001b[0mheader\u001b[0m\u001b[1;33m=\u001b[0m\u001b[1;33m[\u001b[0m\u001b[1;36m0\u001b[0m\u001b[1;33m,\u001b[0m\u001b[1;36m1\u001b[0m\u001b[1;33m,\u001b[0m\u001b[1;36m2\u001b[0m\u001b[1;33m]\u001b[0m\u001b[1;33m)\u001b[0m\u001b[1;33m\u001b[0m\u001b[1;33m\u001b[0m\u001b[0m\n\u001b[0m\u001b[0;32m      2\u001b[0m \u001b[1;33m\u001b[0m\u001b[0m\n\u001b[0;32m      3\u001b[0m \u001b[0mfeatures\u001b[0m\u001b[1;33m\u001b[0m\u001b[1;33m\u001b[0m\u001b[0m\n",
      "\u001b[1;31mNameError\u001b[0m: name 'pd' is not defined"
     ]
    }
   ],
   "source": [
    "features = pd.read_csv('data/fma_metadata/df_senzaOutliers.csv',index_col=[0], header=[0,1,2])\n",
    "\n",
    "features"
   ]
  },
  {
   "cell_type": "code",
   "execution_count": null,
   "metadata": {},
   "outputs": [],
   "source": [
    "features['metadata','track','genre_top'].value_counts()"
   ]
  },
  {
   "cell_type": "code",
   "execution_count": 2,
   "metadata": {},
   "outputs": [
    {
     "ename": "NameError",
     "evalue": "name 'features' is not defined",
     "output_type": "error",
     "traceback": [
      "\u001b[1;31m---------------------------------------------------------------------------\u001b[0m",
      "\u001b[1;31mNameError\u001b[0m                                 Traceback (most recent call last)",
      "\u001b[1;32m<ipython-input-2-ab12903fd890>\u001b[0m in \u001b[0;36m<module>\u001b[1;34m\u001b[0m\n\u001b[1;32m----> 1\u001b[1;33m attributes = [col for col in features.columns if (col != ('metadata','track','genre_top') and \n\u001b[0m\u001b[0;32m      2\u001b[0m                                                   \u001b[0mcol\u001b[0m \u001b[1;33m!=\u001b[0m \u001b[1;33m(\u001b[0m\u001b[1;34m'metadata'\u001b[0m\u001b[1;33m,\u001b[0m\u001b[1;34m'set'\u001b[0m\u001b[1;33m,\u001b[0m\u001b[1;34m'subset'\u001b[0m\u001b[1;33m)\u001b[0m  \u001b[1;32mand\u001b[0m\u001b[1;33m\u001b[0m\u001b[1;33m\u001b[0m\u001b[0m\n\u001b[0;32m      3\u001b[0m                                                  col != ('metadata','track','genre_top_Cat'))] \n\u001b[0;32m      4\u001b[0m \u001b[1;33m\u001b[0m\u001b[0m\n\u001b[0;32m      5\u001b[0m \u001b[0mX\u001b[0m \u001b[1;33m=\u001b[0m \u001b[0mfeatures\u001b[0m\u001b[1;33m[\u001b[0m\u001b[0mattributes\u001b[0m\u001b[1;33m]\u001b[0m\u001b[1;33m.\u001b[0m\u001b[0mvalues\u001b[0m\u001b[1;33m\u001b[0m\u001b[1;33m\u001b[0m\u001b[0m\n",
      "\u001b[1;31mNameError\u001b[0m: name 'features' is not defined"
     ]
    }
   ],
   "source": [
    "attributes = [col for col in features.columns if (col != ('metadata','track','genre_top') and \n",
    "                                                  col != ('metadata','set','subset')  and\n",
    "                                                 col != ('metadata','track','genre_top_Cat'))] \n",
    "\n",
    "X = features[attributes].values\n",
    "y = features[('metadata','track','genre_top_Cat')]\n",
    "\n",
    "X_train, X_test, y_train, y_test = train_test_split(X, y, test_size=0.2, random_state=1, stratify=y)"
   ]
  },
  {
   "cell_type": "code",
   "execution_count": 65,
   "metadata": {},
   "outputs": [
    {
     "data": {
      "text/plain": [
       "19801"
      ]
     },
     "execution_count": 65,
     "metadata": {},
     "output_type": "execute_result"
    }
   ],
   "source": [
    "len(X_train)"
   ]
  },
  {
   "cell_type": "code",
   "execution_count": 66,
   "metadata": {},
   "outputs": [
    {
     "data": {
      "text/plain": [
       "4951"
      ]
     },
     "execution_count": 66,
     "metadata": {},
     "output_type": "execute_result"
    }
   ],
   "source": [
    "len(X_test)"
   ]
  },
  {
   "cell_type": "code",
   "execution_count": 67,
   "metadata": {},
   "outputs": [],
   "source": [
    "X_train, X_val, y_train, y_val = train_test_split(X_train, y_train, test_size=0.25, random_state=1, stratify=y_train)"
   ]
  },
  {
   "cell_type": "code",
   "execution_count": 68,
   "metadata": {},
   "outputs": [
    {
     "data": {
      "text/plain": [
       "14850"
      ]
     },
     "execution_count": 68,
     "metadata": {},
     "output_type": "execute_result"
    }
   ],
   "source": [
    "len(X_train)"
   ]
  },
  {
   "cell_type": "code",
   "execution_count": 69,
   "metadata": {},
   "outputs": [
    {
     "data": {
      "text/plain": [
       "4951"
      ]
     },
     "execution_count": 69,
     "metadata": {},
     "output_type": "execute_result"
    }
   ],
   "source": [
    "len(X_val)"
   ]
  },
  {
   "cell_type": "code",
   "execution_count": 70,
   "metadata": {},
   "outputs": [
    {
     "name": "stdout",
     "output_type": "stream",
     "text": [
      "Counter({13: 4251, 4: 3742, 7: 1318, 5: 1291, 6: 910, 8: 793, 12: 709, 9: 607, 1: 371, 11: 302, 10: 230, 2: 107, 14: 92, 15: 70, 0: 44, 3: 13})\n"
     ]
    }
   ],
   "source": [
    "counter = Counter(y_train)\n",
    "print(counter)"
   ]
  },
  {
   "cell_type": "code",
   "execution_count": 71,
   "metadata": {},
   "outputs": [
    {
     "name": "stdout",
     "output_type": "stream",
     "text": [
      "Counter({13: 4251, 4: 3742, 7: 1318, 5: 1291, 6: 910, 8: 793, 12: 709, 9: 607, 1: 371, 11: 302, 10: 230, 2: 107, 14: 92, 15: 70, 0: 44, 3: 13})\n",
      "Counter({4: 1000, 5: 1000, 7: 1000, 13: 1000, 6: 910, 8: 793, 12: 709, 9: 607, 1: 371, 11: 302, 10: 230, 2: 107, 14: 92, 15: 70, 0: 44, 3: 13})\n"
     ]
    }
   ],
   "source": [
    "# summarize class distribution\n",
    "counter = Counter(y_train)\n",
    "print(counter)\n",
    "# define pipeline\n",
    "under = RandomUnderSampler(sampling_strategy={0:44,1:371,2:107,3:13,4:1000,5:1000,6:910,7:1000,8:793,9:607,10:230,11:302,\n",
    "                                              12:709,13:1000,14:92,15:70}, random_state=1)\n",
    "\n",
    "# transform the dataset\n",
    "X_train, y_train = under.fit_resample(X_train, y_train)\n",
    "# summarize the new class distribution\n",
    "counter = Counter(y_train)\n",
    "print(counter)"
   ]
  },
  {
   "cell_type": "code",
   "execution_count": 72,
   "metadata": {},
   "outputs": [
    {
     "name": "stdout",
     "output_type": "stream",
     "text": [
      "Counter({4: 1000, 5: 1000, 7: 1000, 13: 1000, 6: 910, 8: 793, 12: 709, 9: 607, 1: 371, 11: 302, 10: 230, 2: 107, 14: 92, 15: 70, 0: 44, 3: 13})\n",
      "Counter({4: 1000, 5: 1000, 7: 1000, 13: 1000, 6: 910, 8: 793, 12: 709, 9: 607, 1: 371, 11: 302, 10: 230, 2: 107, 0: 100, 3: 100, 14: 100, 15: 100})\n"
     ]
    }
   ],
   "source": [
    "# summarize class distribution\n",
    "counter = Counter(y_train)\n",
    "print(counter)\n",
    "# define pipeline\n",
    "#over = SMOTE(sampling_strategy={0:200,1:371,2:200,3:200,4:3742,5:1291,6:910,7:1318,8:793,9:607,10:230,11:302,12:709,13:4251\n",
    "                                #,14:200,15:200}, random_state=1)\n",
    "over = SMOTE(sampling_strategy={0:100,1:371,2:107,3:100,4:1000,5:1000,6:910,7:1000,8:793,9:607,10:230,11:302,12:709,13:1000\n",
    "                                ,14:100,15:100}, random_state=1)\n",
    "\n",
    "# transform the dataset\n",
    "X_train, y_train = over.fit_resample(X_train, y_train)\n",
    "# summarize the new class distribution\n",
    "counter = Counter(y_train)\n",
    "print(counter)"
   ]
  },
  {
   "cell_type": "code",
   "execution_count": 73,
   "metadata": {},
   "outputs": [],
   "source": [
    "# Import Libraries\n",
    "from sklearn.model_selection import PredefinedSplit\n",
    "\n",
    "# Split Data to Train and Validation\n",
    "#X_train, X_val, y_train, y_val = train_test_split(X, y, train_size = 0.8, stratify = y,random_state = 2020)\n",
    "\n",
    "\n",
    "merged_X = np.concatenate((X_train,X_val),axis=0)\n",
    "merged_y = np.concatenate((y_train,y_val),axis=0)\n",
    "myValfold = []\n",
    "\n",
    "for i in range(len(X_train)):\n",
    "    myValfold.append(-1)\n",
    "\n",
    "for i in range(len(X_val)):\n",
    "    myValfold.append(0)\n",
    "\n",
    "\n",
    "\n",
    "ps = PredefinedSplit(test_fold=myValfold)\n"
   ]
  },
  {
   "cell_type": "code",
   "execution_count": 74,
   "metadata": {},
   "outputs": [],
   "source": [
    "def report(results, n_top=3):\n",
    "    for i in range(1, n_top + 1):\n",
    "        candidates = np.flatnonzero(results['rank_test_score'] == i)\n",
    "        for candidate in candidates:\n",
    "            print(\"Model with rank: {0}\".format(i))\n",
    "            print(\"Mean validation score: {0:.3f} (std: {1:.3f})\".format(\n",
    "                  results['mean_test_score'][candidate],\n",
    "                  results['std_test_score'][candidate]))\n",
    "            \n",
    "            print(\"Parameters: {0}\".format(results['params'][candidate]))\n",
    "            print(\"\")"
   ]
  },
  {
   "cell_type": "code",
   "execution_count": 75,
   "metadata": {},
   "outputs": [
    {
     "name": "stdout",
     "output_type": "stream",
     "text": [
      "Model with rank: 1\n",
      "Mean validation score: 0.304 (std: 0.000)\n",
      "Parameters: {'criterion': 'entropy', 'max_depth': 11, 'min_samples_leaf': 20, 'min_samples_split': 10}\n",
      "\n",
      "Model with rank: 1\n",
      "Mean validation score: 0.304 (std: 0.000)\n",
      "Parameters: {'criterion': 'entropy', 'max_depth': 11, 'min_samples_leaf': 20, 'min_samples_split': 20}\n",
      "\n",
      "Model with rank: 1\n",
      "Mean validation score: 0.304 (std: 0.000)\n",
      "Parameters: {'criterion': 'entropy', 'max_depth': 11, 'min_samples_leaf': 20, 'min_samples_split': 30}\n",
      "\n",
      "Model with rank: 1\n",
      "Mean validation score: 0.304 (std: 0.000)\n",
      "Parameters: {'criterion': 'entropy', 'max_depth': 11, 'min_samples_leaf': 20, 'min_samples_split': 40}\n",
      "\n",
      "Model with rank: 5\n",
      "Mean validation score: 0.303 (std: 0.000)\n",
      "Parameters: {'criterion': 'entropy', 'max_depth': 14, 'min_samples_leaf': 30, 'min_samples_split': 10}\n",
      "\n",
      "Model with rank: 5\n",
      "Mean validation score: 0.303 (std: 0.000)\n",
      "Parameters: {'criterion': 'entropy', 'max_depth': 14, 'min_samples_leaf': 30, 'min_samples_split': 20}\n",
      "\n",
      "Model with rank: 5\n",
      "Mean validation score: 0.303 (std: 0.000)\n",
      "Parameters: {'criterion': 'entropy', 'max_depth': 14, 'min_samples_leaf': 30, 'min_samples_split': 30}\n",
      "\n",
      "Model with rank: 5\n",
      "Mean validation score: 0.303 (std: 0.000)\n",
      "Parameters: {'criterion': 'entropy', 'max_depth': 14, 'min_samples_leaf': 30, 'min_samples_split': 40}\n",
      "\n",
      "Model with rank: 5\n",
      "Mean validation score: 0.303 (std: 0.000)\n",
      "Parameters: {'criterion': 'entropy', 'max_depth': 14, 'min_samples_leaf': 30, 'min_samples_split': 50}\n",
      "\n",
      "Model with rank: 5\n",
      "Mean validation score: 0.303 (std: 0.000)\n",
      "Parameters: {'criterion': 'entropy', 'max_depth': 14, 'min_samples_leaf': 30, 'min_samples_split': 60}\n",
      "\n",
      "Model with rank: 5\n",
      "Mean validation score: 0.303 (std: 0.000)\n",
      "Parameters: {'criterion': 'entropy', 'max_depth': 17, 'min_samples_leaf': 30, 'min_samples_split': 10}\n",
      "\n",
      "Model with rank: 5\n",
      "Mean validation score: 0.303 (std: 0.000)\n",
      "Parameters: {'criterion': 'entropy', 'max_depth': 17, 'min_samples_leaf': 30, 'min_samples_split': 20}\n",
      "\n",
      "Model with rank: 5\n",
      "Mean validation score: 0.303 (std: 0.000)\n",
      "Parameters: {'criterion': 'entropy', 'max_depth': 17, 'min_samples_leaf': 30, 'min_samples_split': 30}\n",
      "\n",
      "Model with rank: 5\n",
      "Mean validation score: 0.303 (std: 0.000)\n",
      "Parameters: {'criterion': 'entropy', 'max_depth': 17, 'min_samples_leaf': 30, 'min_samples_split': 40}\n",
      "\n",
      "Model with rank: 5\n",
      "Mean validation score: 0.303 (std: 0.000)\n",
      "Parameters: {'criterion': 'entropy', 'max_depth': 17, 'min_samples_leaf': 30, 'min_samples_split': 50}\n",
      "\n",
      "Model with rank: 5\n",
      "Mean validation score: 0.303 (std: 0.000)\n",
      "Parameters: {'criterion': 'entropy', 'max_depth': 17, 'min_samples_leaf': 30, 'min_samples_split': 60}\n",
      "\n"
     ]
    }
   ],
   "source": [
    "param_grid = {'criterion': ['gini', 'entropy'],\n",
    "              'min_samples_split' : range(10,70,10),\n",
    "              'min_samples_leaf' : range(10,70,10),\n",
    "              'max_depth': range(5, 20, 3)}\n",
    "\n",
    "dt1 = GridSearchCV(DecisionTreeClassifier(class_weight=\"balanced\"), \n",
    "                         param_grid, cv=ps, scoring='balanced_accuracy')\n",
    "\n",
    "dt1_fit = dt1.fit(merged_X, merged_y)\n",
    "report(dt1_fit.cv_results_, n_top=5)"
   ]
  },
  {
   "cell_type": "code",
   "execution_count": 81,
   "metadata": {},
   "outputs": [
    {
     "name": "stdout",
     "output_type": "stream",
     "text": [
      "Train Accuracy 0.36979475619883734\n",
      "Train F1-score [0.24 0.59 0.24 0.48 0.32 0.15 0.42 0.47 0.35 0.37 0.29 0.84 0.17 0.42\n",
      " 0.26 0.36]\n",
      "Val Recall [0.94 0.77 0.79 0.98 0.25 0.09 0.37 0.4  0.32 0.33 0.52 0.97 0.12 0.34\n",
      " 0.87 0.95]\n",
      "Val Precision [0.14 0.48 0.14 0.32 0.46 0.41 0.49 0.58 0.39 0.43 0.2  0.73 0.27 0.52\n",
      " 0.15 0.22]\n",
      "              precision    recall  f1-score   support\n",
      "\n",
      "           0       0.14      0.94      0.24       100\n",
      "           1       0.48      0.77      0.59       371\n",
      "           2       0.14      0.79      0.24       107\n",
      "           3       0.32      0.98      0.48       100\n",
      "           4       0.46      0.25      0.32      1000\n",
      "           5       0.41      0.09      0.15      1000\n",
      "           6       0.49      0.37      0.42       910\n",
      "           7       0.58      0.40      0.47      1000\n",
      "           8       0.39      0.32      0.35       793\n",
      "           9       0.43      0.33      0.37       607\n",
      "          10       0.20      0.52      0.29       230\n",
      "          11       0.73      0.97      0.84       302\n",
      "          12       0.27      0.12      0.17       709\n",
      "          13       0.52      0.34      0.42      1000\n",
      "          14       0.15      0.87      0.26       100\n",
      "          15       0.22      0.95      0.36       100\n",
      "\n",
      "    accuracy                           0.37      8429\n",
      "   macro avg       0.37      0.56      0.37      8429\n",
      "weighted avg       0.44      0.37      0.36      8429\n",
      "\n"
     ]
    },
    {
     "data": {
      "text/plain": [
       "array([[ 94,   0,   4,   1,   0,   0,   0,   0,   0,   0,   0,   0,   0,\n",
       "          0,   0,   1],\n",
       "       [  5, 286,   0,   3,   0,   1,   8,   1,  27,   4,  15,  13,   0,\n",
       "          0,   5,   3],\n",
       "       [  7,   0,  85,   0,   0,   0,   1,   1,   2,   1,   0,   0,   0,\n",
       "          3,   5,   2],\n",
       "       [  1,   1,   0,  98,   0,   0,   0,   0,   0,   0,   0,   0,   0,\n",
       "          0,   0,   0],\n",
       "       [ 64,  24,  48,  23, 247,  27,  40, 107,  60,  34,  58,   3,  57,\n",
       "         46, 113,  49],\n",
       "       [ 85,  81,  42,  18,  58,  92,  66,  47, 120,  53,  90,  39,  36,\n",
       "         63,  38,  72],\n",
       "       [ 77,  36, 134,  17,   8,  10, 337,  19,  62,  31,  64,   4,  30,\n",
       "         21,  31,  29],\n",
       "       [ 64,   1,  61,  33, 100,  31,  36, 398,  15,  21,  28,   0,  34,\n",
       "         48,  89,  41],\n",
       "       [ 41, 118,  17,  34,  16,  24,  39,  13, 251,  10,  89,  18,  25,\n",
       "         44,  17,  37],\n",
       "       [ 40,  10,  50,  23,  35,   2,  42,  37,  20, 201,  35,  10,  17,\n",
       "         13,  41,  31],\n",
       "       [ 20,  12,   9,   7,   3,   0,   4,   2,  18,   4, 120,   1,   3,\n",
       "         12,  11,   4],\n",
       "       [  0,   4,   0,   0,   1,   0,   0,   0,   2,   1,   0, 294,   0,\n",
       "          0,   0,   0],\n",
       "       [ 83,  12,  63,  30,  42,  12,  67,  36,  28,  38,  51,  11,  87,\n",
       "         67,  47,  35],\n",
       "       [ 96,  17,  94,  20,  25,  24,  48,  23,  34,  66,  52,   9,  34,\n",
       "        345,  81,  32],\n",
       "       [  1,   0,   4,   1,   1,   0,   0,   2,   0,   1,   0,   0,   0,\n",
       "          0,  87,   3],\n",
       "       [  2,   0,   0,   0,   0,   0,   0,   1,   0,   1,   0,   0,   0,\n",
       "          0,   1,  95]], dtype=int64)"
      ]
     },
     "execution_count": 81,
     "metadata": {},
     "output_type": "execute_result"
    }
   ],
   "source": [
    "clf1 = DecisionTreeClassifier(criterion='entropy', max_depth=11, min_samples_split=10, min_samples_leaf=20,class_weight=\"balanced\")\n",
    "clf1 = clf1.fit(X_train, y_train)\n",
    "\n",
    "y_pred_tr = clf1.predict(X_train)\n",
    "print('Train Accuracy %s' % accuracy_score(y_train, y_pred_tr))\n",
    "print('Train F1-score %s' % f1_score(y_train, y_pred_tr, average=None))\n",
    "print('Val Recall %s' % recall_score(y_train, y_pred_tr,average=None))\n",
    "print('Val Precision %s' % precision_score(y_train, y_pred_tr,average=None))\n",
    "\n",
    "print(classification_report(y_train, y_pred_tr))\n",
    "\n",
    "confusion_matrix(y_train, y_pred_tr)\n"
   ]
  },
  {
   "cell_type": "code",
   "execution_count": 82,
   "metadata": {},
   "outputs": [
    {
     "name": "stdout",
     "output_type": "stream",
     "text": [
      "Train Accuracy 0.2605534235507978\n",
      "Train F1-score [0.01 0.44 0.06 0.   0.33 0.07 0.3  0.31 0.23 0.22 0.08 0.74 0.08 0.4\n",
      " 0.03 0.11]\n",
      "Val Recall [0.13 0.62 0.37 0.   0.22 0.05 0.33 0.3  0.25 0.26 0.2  0.94 0.07 0.28\n",
      " 0.23 0.61]\n",
      "Val Precision [0.01 0.34 0.04 0.   0.63 0.16 0.28 0.32 0.21 0.19 0.05 0.61 0.08 0.69\n",
      " 0.02 0.06]\n",
      "              precision    recall  f1-score   support\n",
      "\n",
      "           0       0.01      0.13      0.01        15\n",
      "           1       0.34      0.62      0.44       123\n",
      "           2       0.04      0.37      0.06        35\n",
      "           3       0.00      0.00      0.00         4\n",
      "           4       0.63      0.22      0.33      1248\n",
      "           5       0.16      0.05      0.07       431\n",
      "           6       0.28      0.33      0.30       303\n",
      "           7       0.32      0.30      0.31       440\n",
      "           8       0.21      0.25      0.23       265\n",
      "           9       0.19      0.26      0.22       203\n",
      "          10       0.05      0.20      0.08        76\n",
      "          11       0.61      0.94      0.74       100\n",
      "          12       0.08      0.07      0.08       237\n",
      "          13       0.69      0.28      0.40      1417\n",
      "          14       0.02      0.23      0.03        31\n",
      "          15       0.06      0.61      0.11        23\n",
      "\n",
      "    accuracy                           0.26      4951\n",
      "   macro avg       0.23      0.30      0.21      4951\n",
      "weighted avg       0.46      0.26      0.30      4951\n",
      "\n"
     ]
    },
    {
     "data": {
      "text/plain": [
       "array([[  2,   0,   0,   1,   1,   0,   1,   0,   0,   3,   1,   1,   0,\n",
       "          0,   2,   3],\n",
       "       [  2,  76,   0,   3,   1,   3,   2,   0,  13,   2,  13,   5,   1,\n",
       "          1,   0,   1],\n",
       "       [  6,   0,  13,   1,   1,   1,   3,   0,   0,   0,   2,   0,   2,\n",
       "          4,   1,   1],\n",
       "       [  0,   2,   0,   0,   0,   1,   0,   1,   0,   0,   0,   0,   0,\n",
       "          0,   0,   0],\n",
       "       [ 65,  16,  64,  47, 276,  30,  50, 168,  86,  34,  61,   5,  49,\n",
       "         71, 158,  68],\n",
       "       [ 44,  29,  24,  16,  27,  20,  21,  10,  41,  29,  36,  19,  22,\n",
       "         24,  29,  40],\n",
       "       [ 19,  10,  37,   9,   4,   7, 101,   8,  19,  19,  21,   2,   8,\n",
       "         13,  18,   8],\n",
       "       [ 38,   1,  28,  21,  46,   6,  21, 134,  11,  17,  16,   0,  20,\n",
       "         12,  46,  23],\n",
       "       [ 14,  44,   7,  12,   5,   6,  20,   9,  67,   4,  31,  10,   6,\n",
       "         16,   4,  10],\n",
       "       [ 15,   2,  16,   7,  13,   2,  19,  17,   3,  53,  11,   2,  10,\n",
       "         13,  10,  10],\n",
       "       [  7,   8,   6,   3,   2,   4,   4,   2,   7,   7,  15,   3,   2,\n",
       "          2,   3,   1],\n",
       "       [  1,   3,   0,   0,   0,   0,   0,   0,   1,   1,   0,  94,   0,\n",
       "          0,   0,   0],\n",
       "       [ 21,   6,  26,   9,   7,   6,  27,  20,  12,  13,  18,   3,  17,\n",
       "         19,  19,  14],\n",
       "       [147,  28, 146,  21,  54,  37,  91,  47,  56, 102,  83,  10,  71,\n",
       "        401,  75,  48],\n",
       "       [  2,   0,   2,   2,   2,   3,   0,   7,   1,   0,   2,   0,   1,\n",
       "          1,   7,   1],\n",
       "       [  0,   0,   2,   0,   1,   0,   0,   0,   2,   2,   1,   0,   0,\n",
       "          1,   0,  14]], dtype=int64)"
      ]
     },
     "execution_count": 82,
     "metadata": {},
     "output_type": "execute_result"
    }
   ],
   "source": [
    "\n",
    "y_pred_val = clf1.predict(X_val)\n",
    "print('Train Accuracy %s' % accuracy_score(y_val, y_pred_val))\n",
    "print('Train F1-score %s' % f1_score(y_val, y_pred_val, average=None))\n",
    "print('Val Recall %s' % recall_score(y_val, y_pred_val,average=None))\n",
    "print('Val Precision %s' % precision_score(y_val, y_pred_val,average=None))\n",
    "\n",
    "print(classification_report(y_val, y_pred_val))\n",
    "\n",
    "confusion_matrix(y_val, y_pred_val)\n"
   ]
  },
  {
   "cell_type": "code",
   "execution_count": 83,
   "metadata": {},
   "outputs": [
    {
     "name": "stdout",
     "output_type": "stream",
     "text": [
      "Val Accuracy 0.2434\n",
      "Train F1-score [0.01 0.48 0.06 0.   0.3  0.04 0.25 0.36 0.25 0.16 0.06 0.7  0.06 0.35\n",
      " 0.05 0.08]\n",
      "Val Recall [0.2  0.68 0.33 0.   0.21 0.03 0.29 0.36 0.29 0.19 0.16 0.89 0.06 0.24\n",
      " 0.32 0.43]\n",
      "Val Precision [0.01 0.37 0.03 0.   0.57 0.1  0.23 0.36 0.22 0.14 0.04 0.58 0.06 0.63\n",
      " 0.03 0.04]\n",
      "              precision    recall  f1-score   support\n",
      "\n",
      "           0       0.01      0.20      0.01        15\n",
      "           1       0.37      0.68      0.48       124\n",
      "           2       0.03      0.33      0.06        36\n",
      "           3       0.00      0.00      0.00         4\n",
      "           4       0.57      0.21      0.30      1248\n",
      "           5       0.10      0.03      0.04       431\n",
      "           6       0.23      0.29      0.25       303\n",
      "           7       0.36      0.36      0.36       439\n",
      "           8       0.22      0.29      0.25       265\n",
      "           9       0.14      0.19      0.16       203\n",
      "          10       0.04      0.16      0.06        76\n",
      "          11       0.58      0.89      0.70       100\n",
      "          12       0.06      0.06      0.06       236\n",
      "          13       0.63      0.24      0.35      1417\n",
      "          14       0.03      0.32      0.05        31\n",
      "          15       0.04      0.43      0.08        23\n",
      "\n",
      "    accuracy                           0.24      4951\n",
      "   macro avg       0.21      0.29      0.20      4951\n",
      "weighted avg       0.42      0.24      0.28      4951\n",
      "\n"
     ]
    },
    {
     "data": {
      "text/plain": [
       "array([[  3,   0,   0,   0,   0,   0,   3,   0,   2,   0,   2,   0,   1,\n",
       "          2,   2,   0],\n",
       "       [  2,  84,   0,   3,   0,   3,   2,   1,  17,   2,   5,   3,   1,\n",
       "          0,   0,   1],\n",
       "       [  2,   0,  12,   1,   0,   0,   5,   2,   0,   1,   2,   1,   1,\n",
       "          3,   5,   1],\n",
       "       [  0,   1,   1,   0,   1,   0,   0,   0,   0,   0,   0,   0,   0,\n",
       "          0,   1,   0],\n",
       "       [ 73,  23,  49,  43, 257,  40,  59, 164,  72,  40,  76,  13,  62,\n",
       "         71, 130,  76],\n",
       "       [ 43,  36,  34,  15,  19,  12,  28,  20,  55,  18,  39,  15,  11,\n",
       "         35,  22,  29],\n",
       "       [ 30,  11,  32,   6,   2,   4,  88,  10,  22,  12,  25,   3,  15,\n",
       "         17,  12,  14],\n",
       "       [ 25,   0,  24,  19,  62,   7,  21, 156,  13,  11,  10,   1,  12,\n",
       "         16,  43,  19],\n",
       "       [ 15,  36,   8,  11,   9,   5,  17,   0,  76,   4,  38,   8,  10,\n",
       "         11,  10,   7],\n",
       "       [ 13,   2,  25,   6,  11,   2,  19,  11,   7,  38,  13,   3,   6,\n",
       "         14,  16,  17],\n",
       "       [  6,   3,   6,   4,   5,   2,   7,   3,   9,   7,  12,   3,   0,\n",
       "          5,   3,   1],\n",
       "       [  2,   3,   0,   0,   0,   0,   0,   0,   1,   1,   1,  89,   0,\n",
       "          0,   0,   3],\n",
       "       [ 30,   3,  24,  14,  18,  10,  19,  20,  11,  15,   9,   3,  14,\n",
       "         20,  15,  11],\n",
       "       [151,  24, 134,  32,  60,  35, 116,  41,  56, 115,  80,  11,  86,\n",
       "        344,  89,  43],\n",
       "       [  5,   0,   3,   1,   4,   1,   2,   0,   1,   0,   0,   0,   0,\n",
       "          4,  10,   0],\n",
       "       [  0,   0,   1,   0,   0,   1,   4,   1,   1,   2,   1,   0,   1,\n",
       "          1,   0,  10]], dtype=int64)"
      ]
     },
     "execution_count": 83,
     "metadata": {},
     "output_type": "execute_result"
    }
   ],
   "source": [
    "y_pred = clf1.predict(X_test)\n",
    "\n",
    "print('Val Accuracy %0.4f' % accuracy_score(y_test, y_pred))\n",
    "\n",
    "\n",
    "print('Train F1-score %s' % f1_score(y_test, y_pred, average=None))\n",
    "print('Val Recall %s' % recall_score(y_test, y_pred,average=None))\n",
    "print('Val Precision %s' % precision_score(y_test, y_pred,average=None))\n",
    "\n",
    "print(classification_report(y_test, y_pred))\n",
    "\n",
    "confusion_matrix(y_test, y_pred)"
   ]
  },
  {
   "cell_type": "code",
   "execution_count": 84,
   "metadata": {},
   "outputs": [],
   "source": [
    "def plot_confusion_matrix(cm, classes,\n",
    "                          normalize=False,\n",
    "                          title='Confusion matrix',\n",
    "                          cmap=plt.cm.Blues):\n",
    "    \"\"\"\n",
    "    This function prints and plots the confusion matrix.\n",
    "    Normalization can be applied by setting `normalize=True`.\n",
    "    \"\"\"\n",
    "    plt.imshow(cm, interpolation='nearest', cmap=cmap)\n",
    "    plt.title(title)\n",
    "    plt.colorbar()\n",
    "    tick_marks = np.arange(len(classes))\n",
    "    plt.xticks(tick_marks, classes, rotation=45)\n",
    "    plt.yticks(tick_marks, classes)\n",
    "\n",
    "    if normalize:\n",
    "        cm = cm.astype('float') / cm.sum(axis=1)[:, np.newaxis]\n",
    "        print(\"Normalized confusion matrix\")\n",
    "    else:\n",
    "        print('Confusion matrix, without normalization')\n",
    "\n",
    "    print(cm)\n",
    "\n",
    "    thresh = cm.max() / 1.\n",
    "    for i, j in itertools.product(range(cm.shape[0]), range(cm.shape[1])):\n",
    "        plt.text(j, i, format(cm[i, j]),\n",
    "                 horizontalalignment=\"center\",\n",
    "                 color=\"white\" if cm[i, j] > thresh else \"black\")\n",
    "\n",
    "\n",
    "    plt.tight_layout()\n",
    "    plt.ylabel('True label')\n",
    "    plt.xlabel('Predicted label')\n"
   ]
  },
  {
   "cell_type": "code",
   "execution_count": 85,
   "metadata": {},
   "outputs": [
    {
     "name": "stdout",
     "output_type": "stream",
     "text": [
      "Confusion matrix, without normalization\n",
      "[[  3   0   0   0   0   0   3   0   2   0   2   0   1   2   2   0]\n",
      " [  2  84   0   3   0   3   2   1  17   2   5   3   1   0   0   1]\n",
      " [  2   0  12   1   0   0   5   2   0   1   2   1   1   3   5   1]\n",
      " [  0   1   1   0   1   0   0   0   0   0   0   0   0   0   1   0]\n",
      " [ 73  23  49  43 257  40  59 164  72  40  76  13  62  71 130  76]\n",
      " [ 43  36  34  15  19  12  28  20  55  18  39  15  11  35  22  29]\n",
      " [ 30  11  32   6   2   4  88  10  22  12  25   3  15  17  12  14]\n",
      " [ 25   0  24  19  62   7  21 156  13  11  10   1  12  16  43  19]\n",
      " [ 15  36   8  11   9   5  17   0  76   4  38   8  10  11  10   7]\n",
      " [ 13   2  25   6  11   2  19  11   7  38  13   3   6  14  16  17]\n",
      " [  6   3   6   4   5   2   7   3   9   7  12   3   0   5   3   1]\n",
      " [  2   3   0   0   0   0   0   0   1   1   1  89   0   0   0   3]\n",
      " [ 30   3  24  14  18  10  19  20  11  15   9   3  14  20  15  11]\n",
      " [151  24 134  32  60  35 116  41  56 115  80  11  86 344  89  43]\n",
      " [  5   0   3   1   4   1   2   0   1   0   0   0   0   4  10   0]\n",
      " [  0   0   1   0   0   1   4   1   1   2   1   0   1   1   0  10]]\n"
     ]
    },
    {
     "data": {
      "image/png": "[encoded data removed]",
      "text/plain": [
       "<Figure size 936x936 with 2 Axes>"
      ]
     },
     "metadata": {
      "needs_background": "light"
     },
     "output_type": "display_data"
    }
   ],
   "source": [
    "plt.rcParams['figure.figsize'] = (13, 13)\n",
    "\n",
    "cm1=confusion_matrix(y_test, y_pred)\n",
    "np.set_printoptions(precision=2)\n",
    "plt.figure()\n",
    "plot_confusion_matrix(cm1, classes=clf1.classes_,\n",
    "                      title='Confusion matrix')\n",
    "\n",
    "\n",
    "\n",
    "plt.show()"
   ]
  },
  {
   "cell_type": "code",
   "execution_count": null,
   "metadata": {},
   "outputs": [],
   "source": []
  }
 ],
 "metadata": {
  "kernelspec": {
   "display_name": "Python 3",
   "language": "python",
   "name": "python3"
  },
  "language_info": {
   "codemirror_mode": {
    "name": "ipython",
    "version": 3
   },
   "file_extension": ".py",
   "mimetype": "text/x-python",
   "name": "python",
   "nbconvert_exporter": "python",
   "pygments_lexer": "ipython3",
   "version": "3.8.3"
  }
 },
 "nbformat": 4,
 "nbformat_minor": 4
}
