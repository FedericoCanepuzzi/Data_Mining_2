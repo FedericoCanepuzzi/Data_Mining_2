{
 "cells": [
  {
   "cell_type": "markdown",
   "metadata": {},
   "source": [
    "# Dataset per GENRES"
   ]
  },
  {
   "cell_type": "code",
   "execution_count": 1,
   "metadata": {},
   "outputs": [],
   "source": [
    "%matplotlib inline\n",
    "import numpy as np\n",
    "import pandas as pd\n",
    "import matplotlib.pyplot as plt\n",
    "import scipy.stats as stats\n",
    "\n",
    "\n",
    "\n",
    "import plotly.offline as py\n",
    "import plotly.graph_objs as go\n",
    "\n",
    "import seaborn as sns\n",
    "\n",
    "import missingno as msno\n",
    "\n",
    "import os\n",
    "\n",
    "import IPython.display as ipd\n",
    "import numpy as np\n",
    "import pandas as pd\n",
    "import matplotlib.pyplot as plt\n",
    "import seaborn as sns\n",
    "import sklearn as skl\n",
    "import sklearn.utils, sklearn.preprocessing, sklearn.decomposition, sklearn.svm\n",
    "import librosa\n",
    "import librosa.display\n",
    "\n",
    "import utils\n",
    "from utils import load\n",
    "import plotly.express as px\n",
    "import plotly.graph_objects as go"
   ]
  },
  {
   "cell_type": "markdown",
   "metadata": {},
   "source": [
    "# Preso dal file pdf:\n",
    "- While the artists\n",
    "are the best placed to judge the positioning of their creations, they might be inconsistent and motivated by factors not necessarily objective, such as achieving a higher\n",
    "play count. As labeling noise is unavoidable, those labels\n",
    "should ideally be one of many ground truths, to be complemented by crowd-sourcing and experts\n",
    "\n",
    "- "
   ]
  },
  {
   "cell_type": "code",
   "execution_count": 3,
   "metadata": {},
   "outputs": [],
   "source": [
    "\n",
    "genres = utils.load('data/fma_metadata/genres.csv')\n"
   ]
  },
  {
   "cell_type": "code",
   "execution_count": 4,
   "metadata": {},
   "outputs": [
    {
     "name": "stdout",
     "output_type": "stream",
     "text": [
      "<class 'pandas.core.frame.DataFrame'>\n",
      "Int64Index: 163 entries, 1 to 1235\n",
      "Data columns (total 4 columns):\n",
      " #   Column     Non-Null Count  Dtype \n",
      "---  ------     --------------  ----- \n",
      " 0   #tracks    163 non-null    int64 \n",
      " 1   parent     163 non-null    int64 \n",
      " 2   title      163 non-null    object\n",
      " 3   top_level  163 non-null    int64 \n",
      "dtypes: int64(3), object(1)\n",
      "memory usage: 6.4+ KB\n"
     ]
    }
   ],
   "source": [
    "genres.info()"
   ]
  },
  {
   "cell_type": "code",
   "execution_count": 5,
   "metadata": {},
   "outputs": [
    {
     "data": {
      "text/plain": [
       "Metal            1\n",
       "Loud-Rock        1\n",
       "Free-Folk        1\n",
       "Noise            1\n",
       "Folk             1\n",
       "                ..\n",
       "Salsa            1\n",
       "Sound Effects    1\n",
       "Talk Radio       1\n",
       "Progressive      1\n",
       "Sound Collage    1\n",
       "Name: title, Length: 163, dtype: int64"
      ]
     },
     "execution_count": 5,
     "metadata": {},
     "output_type": "execute_result"
    }
   ],
   "source": [
    "genres['title'].value_counts()"
   ]
  },
  {
   "cell_type": "code",
   "execution_count": 8,
   "metadata": {},
   "outputs": [
    {
     "data": {
      "text/plain": [
       "['#tracks', 'parent', 'title', 'top_level']"
      ]
     },
     "execution_count": 8,
     "metadata": {},
     "output_type": "execute_result"
    }
   ],
   "source": [
    "genres.columns.tolist()"
   ]
  },
  {
   "cell_type": "code",
   "execution_count": 9,
   "metadata": {},
   "outputs": [
    {
     "name": "stdout",
     "output_type": "stream",
     "text": [
      "**********************************************************\n",
      "GENRES #tracks ------> 0\n",
      "**********************************************************\n",
      "GENRES parent ------> 0\n",
      "**********************************************************\n",
      "GENRES title ------> 0\n",
      "**********************************************************\n",
      "GENRES top_level ------> 0\n"
     ]
    }
   ],
   "source": [
    "genres_columns = ['#tracks', 'parent', 'title', 'top_level']\n",
    "for genre in genres_columns:\n",
    "    print('**********************************************************')\n",
    "    print('GENRES {}'.format(genre), \"------>\", genres[genre].isna().sum())"
   ]
  },
  {
   "cell_type": "code",
   "execution_count": 10,
   "metadata": {},
   "outputs": [
    {
     "data": {
      "text/html": [
       "<div>\n",
       "<style scoped>\n",
       "    .dataframe tbody tr th:only-of-type {\n",
       "        vertical-align: middle;\n",
       "    }\n",
       "\n",
       "    .dataframe tbody tr th {\n",
       "        vertical-align: top;\n",
       "    }\n",
       "\n",
       "    .dataframe thead th {\n",
       "        text-align: right;\n",
       "    }\n",
       "</style>\n",
       "<table border=\"1\" class=\"dataframe\">\n",
       "  <thead>\n",
       "    <tr style=\"text-align: right;\">\n",
       "      <th></th>\n",
       "      <th>#tracks</th>\n",
       "      <th>parent</th>\n",
       "      <th>top_level</th>\n",
       "    </tr>\n",
       "  </thead>\n",
       "  <tbody>\n",
       "    <tr>\n",
       "      <th>count</th>\n",
       "      <td>163.000000</td>\n",
       "      <td>163.000000</td>\n",
       "      <td>163.000000</td>\n",
       "    </tr>\n",
       "    <tr>\n",
       "      <th>mean</th>\n",
       "      <td>2142.085890</td>\n",
       "      <td>60.447853</td>\n",
       "      <td>51.374233</td>\n",
       "    </tr>\n",
       "    <tr>\n",
       "      <th>std</th>\n",
       "      <td>5199.542574</td>\n",
       "      <td>185.396011</td>\n",
       "      <td>211.470836</td>\n",
       "    </tr>\n",
       "    <tr>\n",
       "      <th>min</th>\n",
       "      <td>0.000000</td>\n",
       "      <td>0.000000</td>\n",
       "      <td>2.000000</td>\n",
       "    </tr>\n",
       "    <tr>\n",
       "      <th>25%</th>\n",
       "      <td>125.000000</td>\n",
       "      <td>5.000000</td>\n",
       "      <td>5.000000</td>\n",
       "    </tr>\n",
       "    <tr>\n",
       "      <th>50%</th>\n",
       "      <td>563.000000</td>\n",
       "      <td>15.000000</td>\n",
       "      <td>12.000000</td>\n",
       "    </tr>\n",
       "    <tr>\n",
       "      <th>75%</th>\n",
       "      <td>1846.500000</td>\n",
       "      <td>38.000000</td>\n",
       "      <td>20.000000</td>\n",
       "    </tr>\n",
       "    <tr>\n",
       "      <th>max</th>\n",
       "      <td>38154.000000</td>\n",
       "      <td>1235.000000</td>\n",
       "      <td>1235.000000</td>\n",
       "    </tr>\n",
       "  </tbody>\n",
       "</table>\n",
       "</div>"
      ],
      "text/plain": [
       "            #tracks       parent    top_level\n",
       "count    163.000000   163.000000   163.000000\n",
       "mean    2142.085890    60.447853    51.374233\n",
       "std     5199.542574   185.396011   211.470836\n",
       "min        0.000000     0.000000     2.000000\n",
       "25%      125.000000     5.000000     5.000000\n",
       "50%      563.000000    15.000000    12.000000\n",
       "75%     1846.500000    38.000000    20.000000\n",
       "max    38154.000000  1235.000000  1235.000000"
      ]
     },
     "execution_count": 10,
     "metadata": {},
     "output_type": "execute_result"
    }
   ],
   "source": [
    "genres.describe()"
   ]
  },
  {
   "cell_type": "code",
   "execution_count": 11,
   "metadata": {},
   "outputs": [
    {
     "data": {
      "text/html": [
       "<div>\n",
       "<style scoped>\n",
       "    .dataframe tbody tr th:only-of-type {\n",
       "        vertical-align: middle;\n",
       "    }\n",
       "\n",
       "    .dataframe tbody tr th {\n",
       "        vertical-align: top;\n",
       "    }\n",
       "\n",
       "    .dataframe thead th {\n",
       "        text-align: right;\n",
       "    }\n",
       "</style>\n",
       "<table border=\"1\" class=\"dataframe\">\n",
       "  <thead>\n",
       "    <tr style=\"text-align: right;\">\n",
       "      <th></th>\n",
       "      <th>#tracks</th>\n",
       "      <th>parent</th>\n",
       "      <th>title</th>\n",
       "      <th>top_level</th>\n",
       "    </tr>\n",
       "    <tr>\n",
       "      <th>genre_id</th>\n",
       "      <th></th>\n",
       "      <th></th>\n",
       "      <th></th>\n",
       "      <th></th>\n",
       "    </tr>\n",
       "  </thead>\n",
       "  <tbody>\n",
       "    <tr>\n",
       "      <th>1</th>\n",
       "      <td>8693</td>\n",
       "      <td>38</td>\n",
       "      <td>Avant-Garde</td>\n",
       "      <td>38</td>\n",
       "    </tr>\n",
       "    <tr>\n",
       "      <th>2</th>\n",
       "      <td>5271</td>\n",
       "      <td>0</td>\n",
       "      <td>International</td>\n",
       "      <td>2</td>\n",
       "    </tr>\n",
       "    <tr>\n",
       "      <th>3</th>\n",
       "      <td>1752</td>\n",
       "      <td>0</td>\n",
       "      <td>Blues</td>\n",
       "      <td>3</td>\n",
       "    </tr>\n",
       "    <tr>\n",
       "      <th>4</th>\n",
       "      <td>4126</td>\n",
       "      <td>0</td>\n",
       "      <td>Jazz</td>\n",
       "      <td>4</td>\n",
       "    </tr>\n",
       "    <tr>\n",
       "      <th>5</th>\n",
       "      <td>4106</td>\n",
       "      <td>0</td>\n",
       "      <td>Classical</td>\n",
       "      <td>5</td>\n",
       "    </tr>\n",
       "  </tbody>\n",
       "</table>\n",
       "</div>"
      ],
      "text/plain": [
       "          #tracks  parent          title  top_level\n",
       "genre_id                                           \n",
       "1            8693      38    Avant-Garde         38\n",
       "2            5271       0  International          2\n",
       "3            1752       0          Blues          3\n",
       "4            4126       0           Jazz          4\n",
       "5            4106       0      Classical          5"
      ]
     },
     "execution_count": 11,
     "metadata": {},
     "output_type": "execute_result"
    }
   ],
   "source": [
    "genres.head()"
   ]
  },
  {
   "cell_type": "code",
   "execution_count": 12,
   "metadata": {},
   "outputs": [
    {
     "data": {
      "text/plain": [
       "163"
      ]
     },
     "execution_count": 12,
     "metadata": {},
     "output_type": "execute_result"
    }
   ],
   "source": [
    "len(genres)"
   ]
  },
  {
   "cell_type": "code",
   "execution_count": 13,
   "metadata": {},
   "outputs": [
    {
     "data": {
      "text/plain": [
       "155"
      ]
     },
     "execution_count": 13,
     "metadata": {},
     "output_type": "execute_result"
    }
   ],
   "source": [
    "genres['#tracks'].nunique()"
   ]
  },
  {
   "cell_type": "code",
   "execution_count": 14,
   "metadata": {},
   "outputs": [
    {
     "data": {
      "text/plain": [
       "#tracks      155\n",
       "parent        40\n",
       "title        163\n",
       "top_level     16\n",
       "dtype: int64"
      ]
     },
     "execution_count": 14,
     "metadata": {},
     "output_type": "execute_result"
    }
   ],
   "source": [
    "# valori distinti\n",
    "genres.nunique()"
   ]
  },
  {
   "cell_type": "code",
   "execution_count": null,
   "metadata": {},
   "outputs": [],
   "source": []
  },
  {
   "cell_type": "code",
   "execution_count": 15,
   "metadata": {},
   "outputs": [
    {
     "data": {
      "text/html": [
       "<div>\n",
       "<style scoped>\n",
       "    .dataframe tbody tr th:only-of-type {\n",
       "        vertical-align: middle;\n",
       "    }\n",
       "\n",
       "    .dataframe tbody tr th {\n",
       "        vertical-align: top;\n",
       "    }\n",
       "\n",
       "    .dataframe thead th {\n",
       "        text-align: right;\n",
       "    }\n",
       "</style>\n",
       "<table border=\"1\" class=\"dataframe\">\n",
       "  <thead>\n",
       "    <tr style=\"text-align: right;\">\n",
       "      <th></th>\n",
       "      <th>#tracks</th>\n",
       "      <th>parent</th>\n",
       "      <th>title</th>\n",
       "      <th>top_level</th>\n",
       "    </tr>\n",
       "    <tr>\n",
       "      <th>genre_id</th>\n",
       "      <th></th>\n",
       "      <th></th>\n",
       "      <th></th>\n",
       "      <th></th>\n",
       "    </tr>\n",
       "  </thead>\n",
       "  <tbody>\n",
       "    <tr>\n",
       "      <th>2</th>\n",
       "      <td>5271</td>\n",
       "      <td>0</td>\n",
       "      <td>International</td>\n",
       "      <td>2</td>\n",
       "    </tr>\n",
       "    <tr>\n",
       "      <th>3</th>\n",
       "      <td>1752</td>\n",
       "      <td>0</td>\n",
       "      <td>Blues</td>\n",
       "      <td>3</td>\n",
       "    </tr>\n",
       "    <tr>\n",
       "      <th>4</th>\n",
       "      <td>4126</td>\n",
       "      <td>0</td>\n",
       "      <td>Jazz</td>\n",
       "      <td>4</td>\n",
       "    </tr>\n",
       "    <tr>\n",
       "      <th>5</th>\n",
       "      <td>4106</td>\n",
       "      <td>0</td>\n",
       "      <td>Classical</td>\n",
       "      <td>5</td>\n",
       "    </tr>\n",
       "    <tr>\n",
       "      <th>8</th>\n",
       "      <td>868</td>\n",
       "      <td>0</td>\n",
       "      <td>Old-Time / Historic</td>\n",
       "      <td>8</td>\n",
       "    </tr>\n",
       "    <tr>\n",
       "      <th>9</th>\n",
       "      <td>1987</td>\n",
       "      <td>0</td>\n",
       "      <td>Country</td>\n",
       "      <td>9</td>\n",
       "    </tr>\n",
       "    <tr>\n",
       "      <th>10</th>\n",
       "      <td>13845</td>\n",
       "      <td>0</td>\n",
       "      <td>Pop</td>\n",
       "      <td>10</td>\n",
       "    </tr>\n",
       "    <tr>\n",
       "      <th>12</th>\n",
       "      <td>32923</td>\n",
       "      <td>0</td>\n",
       "      <td>Rock</td>\n",
       "      <td>12</td>\n",
       "    </tr>\n",
       "    <tr>\n",
       "      <th>13</th>\n",
       "      <td>730</td>\n",
       "      <td>0</td>\n",
       "      <td>Easy Listening</td>\n",
       "      <td>13</td>\n",
       "    </tr>\n",
       "    <tr>\n",
       "      <th>14</th>\n",
       "      <td>1499</td>\n",
       "      <td>0</td>\n",
       "      <td>Soul-RnB</td>\n",
       "      <td>14</td>\n",
       "    </tr>\n",
       "    <tr>\n",
       "      <th>15</th>\n",
       "      <td>34413</td>\n",
       "      <td>0</td>\n",
       "      <td>Electronic</td>\n",
       "      <td>15</td>\n",
       "    </tr>\n",
       "    <tr>\n",
       "      <th>17</th>\n",
       "      <td>12706</td>\n",
       "      <td>0</td>\n",
       "      <td>Folk</td>\n",
       "      <td>17</td>\n",
       "    </tr>\n",
       "    <tr>\n",
       "      <th>20</th>\n",
       "      <td>1876</td>\n",
       "      <td>0</td>\n",
       "      <td>Spoken</td>\n",
       "      <td>20</td>\n",
       "    </tr>\n",
       "    <tr>\n",
       "      <th>21</th>\n",
       "      <td>8389</td>\n",
       "      <td>0</td>\n",
       "      <td>Hip-Hop</td>\n",
       "      <td>21</td>\n",
       "    </tr>\n",
       "    <tr>\n",
       "      <th>38</th>\n",
       "      <td>38154</td>\n",
       "      <td>0</td>\n",
       "      <td>Experimental</td>\n",
       "      <td>38</td>\n",
       "    </tr>\n",
       "    <tr>\n",
       "      <th>1235</th>\n",
       "      <td>14938</td>\n",
       "      <td>0</td>\n",
       "      <td>Instrumental</td>\n",
       "      <td>1235</td>\n",
       "    </tr>\n",
       "  </tbody>\n",
       "</table>\n",
       "</div>"
      ],
      "text/plain": [
       "          #tracks  parent                title  top_level\n",
       "genre_id                                                 \n",
       "2            5271       0        International          2\n",
       "3            1752       0                Blues          3\n",
       "4            4126       0                 Jazz          4\n",
       "5            4106       0            Classical          5\n",
       "8             868       0  Old-Time / Historic          8\n",
       "9            1987       0              Country          9\n",
       "10          13845       0                  Pop         10\n",
       "12          32923       0                 Rock         12\n",
       "13            730       0       Easy Listening         13\n",
       "14           1499       0             Soul-RnB         14\n",
       "15          34413       0           Electronic         15\n",
       "17          12706       0                 Folk         17\n",
       "20           1876       0               Spoken         20\n",
       "21           8389       0              Hip-Hop         21\n",
       "38          38154       0         Experimental         38\n",
       "1235        14938       0         Instrumental       1235"
      ]
     },
     "execution_count": 15,
     "metadata": {},
     "output_type": "execute_result"
    }
   ],
   "source": [
    "genres[genres['parent'] == 0]"
   ]
  },
  {
   "cell_type": "code",
   "execution_count": 16,
   "metadata": {},
   "outputs": [
    {
     "data": {
      "text/html": [
       "<div>\n",
       "<style scoped>\n",
       "    .dataframe tbody tr th:only-of-type {\n",
       "        vertical-align: middle;\n",
       "    }\n",
       "\n",
       "    .dataframe tbody tr th {\n",
       "        vertical-align: top;\n",
       "    }\n",
       "\n",
       "    .dataframe thead th {\n",
       "        text-align: right;\n",
       "    }\n",
       "</style>\n",
       "<table border=\"1\" class=\"dataframe\">\n",
       "  <thead>\n",
       "    <tr style=\"text-align: right;\">\n",
       "      <th></th>\n",
       "      <th>title</th>\n",
       "    </tr>\n",
       "    <tr>\n",
       "      <th>genre_id</th>\n",
       "      <th></th>\n",
       "    </tr>\n",
       "  </thead>\n",
       "  <tbody>\n",
       "    <tr>\n",
       "      <th>2</th>\n",
       "      <td>International</td>\n",
       "    </tr>\n",
       "    <tr>\n",
       "      <th>3</th>\n",
       "      <td>Blues</td>\n",
       "    </tr>\n",
       "    <tr>\n",
       "      <th>4</th>\n",
       "      <td>Jazz</td>\n",
       "    </tr>\n",
       "    <tr>\n",
       "      <th>5</th>\n",
       "      <td>Classical</td>\n",
       "    </tr>\n",
       "    <tr>\n",
       "      <th>8</th>\n",
       "      <td>Old-Time / Historic</td>\n",
       "    </tr>\n",
       "    <tr>\n",
       "      <th>9</th>\n",
       "      <td>Country</td>\n",
       "    </tr>\n",
       "    <tr>\n",
       "      <th>10</th>\n",
       "      <td>Pop</td>\n",
       "    </tr>\n",
       "    <tr>\n",
       "      <th>12</th>\n",
       "      <td>Rock</td>\n",
       "    </tr>\n",
       "    <tr>\n",
       "      <th>13</th>\n",
       "      <td>Easy Listening</td>\n",
       "    </tr>\n",
       "    <tr>\n",
       "      <th>14</th>\n",
       "      <td>Soul-RnB</td>\n",
       "    </tr>\n",
       "    <tr>\n",
       "      <th>15</th>\n",
       "      <td>Electronic</td>\n",
       "    </tr>\n",
       "    <tr>\n",
       "      <th>17</th>\n",
       "      <td>Folk</td>\n",
       "    </tr>\n",
       "    <tr>\n",
       "      <th>20</th>\n",
       "      <td>Spoken</td>\n",
       "    </tr>\n",
       "    <tr>\n",
       "      <th>21</th>\n",
       "      <td>Hip-Hop</td>\n",
       "    </tr>\n",
       "    <tr>\n",
       "      <th>38</th>\n",
       "      <td>Experimental</td>\n",
       "    </tr>\n",
       "    <tr>\n",
       "      <th>1235</th>\n",
       "      <td>Instrumental</td>\n",
       "    </tr>\n",
       "  </tbody>\n",
       "</table>\n",
       "</div>"
      ],
      "text/plain": [
       "                        title\n",
       "genre_id                     \n",
       "2               International\n",
       "3                       Blues\n",
       "4                        Jazz\n",
       "5                   Classical\n",
       "8         Old-Time / Historic\n",
       "9                     Country\n",
       "10                        Pop\n",
       "12                       Rock\n",
       "13             Easy Listening\n",
       "14                   Soul-RnB\n",
       "15                 Electronic\n",
       "17                       Folk\n",
       "20                     Spoken\n",
       "21                    Hip-Hop\n",
       "38               Experimental\n",
       "1235             Instrumental"
      ]
     },
     "execution_count": 16,
     "metadata": {},
     "output_type": "execute_result"
    }
   ],
   "source": [
    "genres_parent = genres[genres['parent'] == 0]\n",
    "genres_parent[['title']]"
   ]
  },
  {
   "cell_type": "code",
   "execution_count": 17,
   "metadata": {},
   "outputs": [
    {
     "name": "stdout",
     "output_type": "stream",
     "text": [
      "16\n"
     ]
    }
   ],
   "source": [
    "print(len(genres[genres['parent'] == 0]))"
   ]
  },
  {
   "cell_type": "code",
   "execution_count": null,
   "metadata": {},
   "outputs": [],
   "source": []
  },
  {
   "cell_type": "markdown",
   "metadata": {},
   "source": [
    "# Generi\n",
    "- si tratta di sotto-generi associati alle diverse tracce: ogni artista ha identificato una gerarchia di genere tale che esiste un genere \"root\", il quale si divide in sotto-generi che, a loro volta, sono \"parents\" di altri sotto-generi. \n",
    "## Presenta 4 diversi attributi:\n",
    "- #tracks (attributo numerico che identifica la traccia in questione, la quale appartiene ad un certo genere\n",
    "- Parent: come suddetto, il genere-radice si divide in sotto-generi; tale gerarchia è stata creata dai musicisti stessi. La gerarchia è composta da 161 diversi generi (?) a me dice 163! - di cui 16 sono roots.\n",
    "- Title: indica il tipo di genere in questione: ad esempio, il genere 2 corrisponde ad \"International\". Sono quindi presenti 163 diversi \"titoli\" (tipi di genere), che sono tanti quanti genre_id\n",
    "- Top_level: indica il \"parent\" del genere: quindi, se le radici sono coloro che hanno come parent \"0\", nella tabella sopra (che è un dataframe, ma poi lo scriviamo meglio) possiamo identificare i diversi top_level che non sono solo parent, bensì roots: di conseguenza, quelli che vediamo in \"title\" saranno i nomi identificativi dei vari generi.\n",
    "\n",
    "- Il genre id che vediamo corrisponde al numero identificativo del genere che vediamo in \"title\". A esempio, il genere Instrumental è genre_id 2.\n",
    "\n",
    "--> Compiendo un'analisi più specifica, possiamo a questo punto andare ad individuare alcuni elementi che ci permettono di ricostruire la gerarchia dei generi: "
   ]
  },
  {
   "cell_type": "markdown",
   "metadata": {},
   "source": [
    "Siccome vediamo che da genre_id 1 a genre_id 12 questi vanno di pari passo con \"top level\" (quindi i primi 21 sono sia parent che root), andiamo a vedere dalla riga 22 qual è il relativo top_level, in modo da identificare un genere che, però, NON è anche root: (*stress out!:* il top_level 38 è sia parent, che root, ma genres[22] NON è root:"
   ]
  },
  {
   "cell_type": "code",
   "execution_count": 18,
   "metadata": {},
   "outputs": [
    {
     "data": {
      "text/plain": [
       "#tracks                774\n",
       "parent                  38\n",
       "title        Audio Collage\n",
       "top_level               38\n",
       "Name: 22, dtype: object"
      ]
     },
     "execution_count": 18,
     "metadata": {},
     "output_type": "execute_result"
    }
   ],
   "source": [
    "genres.loc[22]\n",
    "#top_level = 38"
   ]
  },
  {
   "cell_type": "markdown",
   "metadata": {},
   "source": [
    "Da qui capiamo che:\n",
    "1. genres[22] = Audio Collage ha come \"parent\" 38, il quale, non avento parent (vedi parent == 0), è anche root.\n",
    "Di conseguenza, sapremo che il genere Experimental sarà una radice e avrà come figlio Audio Collage (e non solo: avrà anche tutti gli altri mostrati qui sotto):"
   ]
  },
  {
   "cell_type": "code",
   "execution_count": 19,
   "metadata": {},
   "outputs": [
    {
     "data": {
      "text/html": [
       "<div>\n",
       "<style scoped>\n",
       "    .dataframe tbody tr th:only-of-type {\n",
       "        vertical-align: middle;\n",
       "    }\n",
       "\n",
       "    .dataframe tbody tr th {\n",
       "        vertical-align: top;\n",
       "    }\n",
       "\n",
       "    .dataframe thead th {\n",
       "        text-align: right;\n",
       "    }\n",
       "</style>\n",
       "<table border=\"1\" class=\"dataframe\">\n",
       "  <thead>\n",
       "    <tr style=\"text-align: right;\">\n",
       "      <th></th>\n",
       "      <th>#tracks</th>\n",
       "      <th>parent</th>\n",
       "      <th>title</th>\n",
       "      <th>top_level</th>\n",
       "    </tr>\n",
       "    <tr>\n",
       "      <th>genre_id</th>\n",
       "      <th></th>\n",
       "      <th></th>\n",
       "      <th></th>\n",
       "      <th></th>\n",
       "    </tr>\n",
       "  </thead>\n",
       "  <tbody>\n",
       "    <tr>\n",
       "      <th>1</th>\n",
       "      <td>8693</td>\n",
       "      <td>38</td>\n",
       "      <td>Avant-Garde</td>\n",
       "      <td>38</td>\n",
       "    </tr>\n",
       "    <tr>\n",
       "      <th>6</th>\n",
       "      <td>914</td>\n",
       "      <td>38</td>\n",
       "      <td>Novelty</td>\n",
       "      <td>38</td>\n",
       "    </tr>\n",
       "    <tr>\n",
       "      <th>16</th>\n",
       "      <td>304</td>\n",
       "      <td>6</td>\n",
       "      <td>Sound Effects</td>\n",
       "      <td>38</td>\n",
       "    </tr>\n",
       "    <tr>\n",
       "      <th>22</th>\n",
       "      <td>774</td>\n",
       "      <td>38</td>\n",
       "      <td>Audio Collage</td>\n",
       "      <td>38</td>\n",
       "    </tr>\n",
       "    <tr>\n",
       "      <th>30</th>\n",
       "      <td>3237</td>\n",
       "      <td>38</td>\n",
       "      <td>Field Recordings</td>\n",
       "      <td>38</td>\n",
       "    </tr>\n",
       "    <tr>\n",
       "      <th>32</th>\n",
       "      <td>7268</td>\n",
       "      <td>38</td>\n",
       "      <td>Noise</td>\n",
       "      <td>38</td>\n",
       "    </tr>\n",
       "    <tr>\n",
       "      <th>38</th>\n",
       "      <td>38154</td>\n",
       "      <td>0</td>\n",
       "      <td>Experimental</td>\n",
       "      <td>38</td>\n",
       "    </tr>\n",
       "    <tr>\n",
       "      <th>41</th>\n",
       "      <td>6110</td>\n",
       "      <td>38</td>\n",
       "      <td>Electroacoustic</td>\n",
       "      <td>38</td>\n",
       "    </tr>\n",
       "    <tr>\n",
       "      <th>47</th>\n",
       "      <td>2546</td>\n",
       "      <td>38</td>\n",
       "      <td>Drone</td>\n",
       "      <td>38</td>\n",
       "    </tr>\n",
       "    <tr>\n",
       "      <th>125</th>\n",
       "      <td>1511</td>\n",
       "      <td>38</td>\n",
       "      <td>Unclassifiable</td>\n",
       "      <td>38</td>\n",
       "    </tr>\n",
       "    <tr>\n",
       "      <th>186</th>\n",
       "      <td>682</td>\n",
       "      <td>38</td>\n",
       "      <td>Sound Poetry</td>\n",
       "      <td>38</td>\n",
       "    </tr>\n",
       "    <tr>\n",
       "      <th>224</th>\n",
       "      <td>1916</td>\n",
       "      <td>38</td>\n",
       "      <td>Sound Collage</td>\n",
       "      <td>38</td>\n",
       "    </tr>\n",
       "    <tr>\n",
       "      <th>247</th>\n",
       "      <td>2957</td>\n",
       "      <td>38</td>\n",
       "      <td>Musique Concrete</td>\n",
       "      <td>38</td>\n",
       "    </tr>\n",
       "    <tr>\n",
       "      <th>250</th>\n",
       "      <td>4261</td>\n",
       "      <td>38</td>\n",
       "      <td>Improv</td>\n",
       "      <td>38</td>\n",
       "    </tr>\n",
       "    <tr>\n",
       "      <th>360</th>\n",
       "      <td>201</td>\n",
       "      <td>6</td>\n",
       "      <td>Kid-Friendly</td>\n",
       "      <td>38</td>\n",
       "    </tr>\n",
       "    <tr>\n",
       "      <th>456</th>\n",
       "      <td>1392</td>\n",
       "      <td>38</td>\n",
       "      <td>Minimalism</td>\n",
       "      <td>38</td>\n",
       "    </tr>\n",
       "    <tr>\n",
       "      <th>514</th>\n",
       "      <td>1414</td>\n",
       "      <td>38</td>\n",
       "      <td>Sound Art</td>\n",
       "      <td>38</td>\n",
       "    </tr>\n",
       "    <tr>\n",
       "      <th>763</th>\n",
       "      <td>268</td>\n",
       "      <td>16</td>\n",
       "      <td>Holiday</td>\n",
       "      <td>38</td>\n",
       "    </tr>\n",
       "    <tr>\n",
       "      <th>1193</th>\n",
       "      <td>72</td>\n",
       "      <td>763</td>\n",
       "      <td>Christmas</td>\n",
       "      <td>38</td>\n",
       "    </tr>\n",
       "  </tbody>\n",
       "</table>\n",
       "</div>"
      ],
      "text/plain": [
       "          #tracks  parent             title  top_level\n",
       "genre_id                                              \n",
       "1            8693      38       Avant-Garde         38\n",
       "6             914      38           Novelty         38\n",
       "16            304       6     Sound Effects         38\n",
       "22            774      38     Audio Collage         38\n",
       "30           3237      38  Field Recordings         38\n",
       "32           7268      38             Noise         38\n",
       "38          38154       0      Experimental         38\n",
       "41           6110      38   Electroacoustic         38\n",
       "47           2546      38             Drone         38\n",
       "125          1511      38    Unclassifiable         38\n",
       "186           682      38      Sound Poetry         38\n",
       "224          1916      38     Sound Collage         38\n",
       "247          2957      38  Musique Concrete         38\n",
       "250          4261      38            Improv         38\n",
       "360           201       6      Kid-Friendly         38\n",
       "456          1392      38        Minimalism         38\n",
       "514          1414      38         Sound Art         38\n",
       "763           268      16           Holiday         38\n",
       "1193           72     763         Christmas         38"
      ]
     },
     "execution_count": 19,
     "metadata": {},
     "output_type": "execute_result"
    }
   ],
   "source": [
    "genres[genres['top_level'] == 38]"
   ]
  },
  {
   "cell_type": "code",
   "execution_count": 20,
   "metadata": {},
   "outputs": [
    {
     "data": {
      "text/plain": [
       "19"
      ]
     },
     "execution_count": 20,
     "metadata": {},
     "output_type": "execute_result"
    }
   ],
   "source": [
    "len(genres[genres['top_level'] == 38])"
   ]
  },
  {
   "cell_type": "code",
   "execution_count": 21,
   "metadata": {},
   "outputs": [
    {
     "data": {
      "text/plain": [
       "0.1332375077091256"
      ]
     },
     "execution_count": 21,
     "metadata": {},
     "output_type": "execute_result"
    }
   ],
   "source": [
    "genres['#tracks'].corr(genres['top_level'])"
   ]
  },
  {
   "cell_type": "code",
   "execution_count": 22,
   "metadata": {},
   "outputs": [
    {
     "data": {
      "text/html": [
       "<div>\n",
       "<style scoped>\n",
       "    .dataframe tbody tr th:only-of-type {\n",
       "        vertical-align: middle;\n",
       "    }\n",
       "\n",
       "    .dataframe tbody tr th {\n",
       "        vertical-align: top;\n",
       "    }\n",
       "\n",
       "    .dataframe thead th {\n",
       "        text-align: right;\n",
       "    }\n",
       "</style>\n",
       "<table border=\"1\" class=\"dataframe\">\n",
       "  <thead>\n",
       "    <tr style=\"text-align: right;\">\n",
       "      <th></th>\n",
       "      <th>#tracks</th>\n",
       "      <th>parent</th>\n",
       "      <th>title</th>\n",
       "      <th>top_level</th>\n",
       "    </tr>\n",
       "    <tr>\n",
       "      <th>genre_id</th>\n",
       "      <th></th>\n",
       "      <th></th>\n",
       "      <th></th>\n",
       "      <th></th>\n",
       "    </tr>\n",
       "  </thead>\n",
       "  <tbody>\n",
       "    <tr>\n",
       "      <th>22</th>\n",
       "      <td>774</td>\n",
       "      <td>38</td>\n",
       "      <td>Audio Collage</td>\n",
       "      <td>38</td>\n",
       "    </tr>\n",
       "    <tr>\n",
       "      <th>25</th>\n",
       "      <td>9261</td>\n",
       "      <td>12</td>\n",
       "      <td>Punk</td>\n",
       "      <td>12</td>\n",
       "    </tr>\n",
       "    <tr>\n",
       "      <th>26</th>\n",
       "      <td>1952</td>\n",
       "      <td>12</td>\n",
       "      <td>Post-Rock</td>\n",
       "      <td>12</td>\n",
       "    </tr>\n",
       "    <tr>\n",
       "      <th>27</th>\n",
       "      <td>6041</td>\n",
       "      <td>12</td>\n",
       "      <td>Lo-Fi</td>\n",
       "      <td>12</td>\n",
       "    </tr>\n",
       "    <tr>\n",
       "      <th>30</th>\n",
       "      <td>3237</td>\n",
       "      <td>38</td>\n",
       "      <td>Field Recordings</td>\n",
       "      <td>38</td>\n",
       "    </tr>\n",
       "    <tr>\n",
       "      <th>31</th>\n",
       "      <td>1498</td>\n",
       "      <td>12</td>\n",
       "      <td>Metal</td>\n",
       "      <td>12</td>\n",
       "    </tr>\n",
       "    <tr>\n",
       "      <th>32</th>\n",
       "      <td>7268</td>\n",
       "      <td>38</td>\n",
       "      <td>Noise</td>\n",
       "      <td>38</td>\n",
       "    </tr>\n",
       "    <tr>\n",
       "      <th>33</th>\n",
       "      <td>2267</td>\n",
       "      <td>17</td>\n",
       "      <td>Psych-Folk</td>\n",
       "      <td>17</td>\n",
       "    </tr>\n",
       "    <tr>\n",
       "      <th>36</th>\n",
       "      <td>688</td>\n",
       "      <td>12</td>\n",
       "      <td>Krautrock</td>\n",
       "      <td>12</td>\n",
       "    </tr>\n",
       "    <tr>\n",
       "      <th>37</th>\n",
       "      <td>97</td>\n",
       "      <td>4</td>\n",
       "      <td>Jazz: Vocal</td>\n",
       "      <td>4</td>\n",
       "    </tr>\n",
       "    <tr>\n",
       "      <th>38</th>\n",
       "      <td>38154</td>\n",
       "      <td>0</td>\n",
       "      <td>Experimental</td>\n",
       "      <td>38</td>\n",
       "    </tr>\n",
       "  </tbody>\n",
       "</table>\n",
       "</div>"
      ],
      "text/plain": [
       "          #tracks  parent             title  top_level\n",
       "genre_id                                              \n",
       "22            774      38     Audio Collage         38\n",
       "25           9261      12              Punk         12\n",
       "26           1952      12         Post-Rock         12\n",
       "27           6041      12             Lo-Fi         12\n",
       "30           3237      38  Field Recordings         38\n",
       "31           1498      12             Metal         12\n",
       "32           7268      38             Noise         38\n",
       "33           2267      17        Psych-Folk         17\n",
       "36            688      12         Krautrock         12\n",
       "37             97       4       Jazz: Vocal          4\n",
       "38          38154       0      Experimental         38"
      ]
     },
     "execution_count": 22,
     "metadata": {},
     "output_type": "execute_result"
    }
   ],
   "source": [
    "genres.loc[22:38]\n",
    "#qui ad esempio post-Rock è parent di sé stesso, quindi non ci sono altri sotto di lui, ma non è\n",
    "#root, quindi ha qualcosa sopra (Rock)"
   ]
  },
  {
   "cell_type": "markdown",
   "metadata": {},
   "source": [
    "## Vediamo di trovare tutti i parents, faccio un altro grafico ad albero e poi basta"
   ]
  },
  {
   "cell_type": "code",
   "execution_count": 23,
   "metadata": {},
   "outputs": [
    {
     "data": {
      "text/html": [
       "<div>\n",
       "<style scoped>\n",
       "    .dataframe tbody tr th:only-of-type {\n",
       "        vertical-align: middle;\n",
       "    }\n",
       "\n",
       "    .dataframe tbody tr th {\n",
       "        vertical-align: top;\n",
       "    }\n",
       "\n",
       "    .dataframe thead th {\n",
       "        text-align: right;\n",
       "    }\n",
       "</style>\n",
       "<table border=\"1\" class=\"dataframe\">\n",
       "  <thead>\n",
       "    <tr style=\"text-align: right;\">\n",
       "      <th></th>\n",
       "      <th>title</th>\n",
       "    </tr>\n",
       "    <tr>\n",
       "      <th>genre_id</th>\n",
       "      <th></th>\n",
       "    </tr>\n",
       "  </thead>\n",
       "  <tbody>\n",
       "    <tr>\n",
       "      <th>2</th>\n",
       "      <td>International</td>\n",
       "    </tr>\n",
       "    <tr>\n",
       "      <th>3</th>\n",
       "      <td>Blues</td>\n",
       "    </tr>\n",
       "    <tr>\n",
       "      <th>4</th>\n",
       "      <td>Jazz</td>\n",
       "    </tr>\n",
       "    <tr>\n",
       "      <th>5</th>\n",
       "      <td>Classical</td>\n",
       "    </tr>\n",
       "    <tr>\n",
       "      <th>8</th>\n",
       "      <td>Old-Time / Historic</td>\n",
       "    </tr>\n",
       "    <tr>\n",
       "      <th>9</th>\n",
       "      <td>Country</td>\n",
       "    </tr>\n",
       "    <tr>\n",
       "      <th>10</th>\n",
       "      <td>Pop</td>\n",
       "    </tr>\n",
       "    <tr>\n",
       "      <th>12</th>\n",
       "      <td>Rock</td>\n",
       "    </tr>\n",
       "    <tr>\n",
       "      <th>13</th>\n",
       "      <td>Easy Listening</td>\n",
       "    </tr>\n",
       "    <tr>\n",
       "      <th>14</th>\n",
       "      <td>Soul-RnB</td>\n",
       "    </tr>\n",
       "    <tr>\n",
       "      <th>15</th>\n",
       "      <td>Electronic</td>\n",
       "    </tr>\n",
       "    <tr>\n",
       "      <th>17</th>\n",
       "      <td>Folk</td>\n",
       "    </tr>\n",
       "    <tr>\n",
       "      <th>20</th>\n",
       "      <td>Spoken</td>\n",
       "    </tr>\n",
       "    <tr>\n",
       "      <th>21</th>\n",
       "      <td>Hip-Hop</td>\n",
       "    </tr>\n",
       "    <tr>\n",
       "      <th>38</th>\n",
       "      <td>Experimental</td>\n",
       "    </tr>\n",
       "    <tr>\n",
       "      <th>1235</th>\n",
       "      <td>Instrumental</td>\n",
       "    </tr>\n",
       "  </tbody>\n",
       "</table>\n",
       "</div>"
      ],
      "text/plain": [
       "                        title\n",
       "genre_id                     \n",
       "2               International\n",
       "3                       Blues\n",
       "4                        Jazz\n",
       "5                   Classical\n",
       "8         Old-Time / Historic\n",
       "9                     Country\n",
       "10                        Pop\n",
       "12                       Rock\n",
       "13             Easy Listening\n",
       "14                   Soul-RnB\n",
       "15                 Electronic\n",
       "17                       Folk\n",
       "20                     Spoken\n",
       "21                    Hip-Hop\n",
       "38               Experimental\n",
       "1235             Instrumental"
      ]
     },
     "execution_count": 23,
     "metadata": {},
     "output_type": "execute_result"
    }
   ],
   "source": [
    "#radici\n",
    "genres_parent = genres[genres['parent'] == 0]\n",
    "genres_parent[['title']]"
   ]
  },
  {
   "cell_type": "code",
   "execution_count": 37,
   "metadata": {},
   "outputs": [
    {
     "data": {
      "text/html": [
       "<div>\n",
       "<style scoped>\n",
       "    .dataframe tbody tr th:only-of-type {\n",
       "        vertical-align: middle;\n",
       "    }\n",
       "\n",
       "    .dataframe tbody tr th {\n",
       "        vertical-align: top;\n",
       "    }\n",
       "\n",
       "    .dataframe thead th {\n",
       "        text-align: right;\n",
       "    }\n",
       "</style>\n",
       "<table border=\"1\" class=\"dataframe\">\n",
       "  <thead>\n",
       "    <tr style=\"text-align: right;\">\n",
       "      <th></th>\n",
       "      <th>title</th>\n",
       "    </tr>\n",
       "    <tr>\n",
       "      <th>genre_id</th>\n",
       "      <th></th>\n",
       "    </tr>\n",
       "  </thead>\n",
       "  <tbody>\n",
       "    <tr>\n",
       "      <th>46</th>\n",
       "      <td>Latin America</td>\n",
       "    </tr>\n",
       "    <tr>\n",
       "      <th>77</th>\n",
       "      <td>French</td>\n",
       "    </tr>\n",
       "    <tr>\n",
       "      <th>79</th>\n",
       "      <td>Reggae - Dub</td>\n",
       "    </tr>\n",
       "    <tr>\n",
       "      <th>86</th>\n",
       "      <td>Indian</td>\n",
       "    </tr>\n",
       "    <tr>\n",
       "      <th>92</th>\n",
       "      <td>African</td>\n",
       "    </tr>\n",
       "    <tr>\n",
       "      <th>102</th>\n",
       "      <td>Middle East</td>\n",
       "    </tr>\n",
       "    <tr>\n",
       "      <th>117</th>\n",
       "      <td>Polka</td>\n",
       "    </tr>\n",
       "    <tr>\n",
       "      <th>118</th>\n",
       "      <td>Balkan</td>\n",
       "    </tr>\n",
       "    <tr>\n",
       "      <th>130</th>\n",
       "      <td>Europe</td>\n",
       "    </tr>\n",
       "    <tr>\n",
       "      <th>171</th>\n",
       "      <td>Brazilian</td>\n",
       "    </tr>\n",
       "    <tr>\n",
       "      <th>172</th>\n",
       "      <td>Asia-Far East</td>\n",
       "    </tr>\n",
       "    <tr>\n",
       "      <th>176</th>\n",
       "      <td>Pacific</td>\n",
       "    </tr>\n",
       "    <tr>\n",
       "      <th>177</th>\n",
       "      <td>Celtic</td>\n",
       "    </tr>\n",
       "    <tr>\n",
       "      <th>232</th>\n",
       "      <td>Flamenco</td>\n",
       "    </tr>\n",
       "    <tr>\n",
       "      <th>504</th>\n",
       "      <td>Latin</td>\n",
       "    </tr>\n",
       "  </tbody>\n",
       "</table>\n",
       "</div>"
      ],
      "text/plain": [
       "                  title\n",
       "genre_id               \n",
       "46        Latin America\n",
       "77               French\n",
       "79         Reggae - Dub\n",
       "86               Indian\n",
       "92              African\n",
       "102         Middle East\n",
       "117               Polka\n",
       "118              Balkan\n",
       "130              Europe\n",
       "171           Brazilian\n",
       "172       Asia-Far East\n",
       "176             Pacific\n",
       "177              Celtic\n",
       "232            Flamenco\n",
       "504               Latin"
      ]
     },
     "execution_count": 37,
     "metadata": {},
     "output_type": "execute_result"
    }
   ],
   "source": [
    "# figli di \"International\"\n",
    "genres_International_children = genres[genres['parent'] == 2]\n",
    "genres_International_children[['title']]"
   ]
  },
  {
   "cell_type": "code",
   "execution_count": 81,
   "metadata": {},
   "outputs": [
    {
     "name": "stdout",
     "output_type": "stream",
     "text": [
      "Int64Index([46, 77, 79, 86, 92, 102, 117, 118, 130, 171, 172, 176, 177, 232,\n",
      "            504],\n",
      "           dtype='int64', name='genre_id')\n"
     ]
    }
   ],
   "source": [
    "print(genres_International_children[['title']].index)"
   ]
  },
  {
   "cell_type": "code",
   "execution_count": 84,
   "metadata": {},
   "outputs": [
    {
     "data": {
      "text/plain": [
       "46"
      ]
     },
     "execution_count": 84,
     "metadata": {},
     "output_type": "execute_result"
    }
   ],
   "source": [
    "indexes = genres_International_children[['title']].index\n",
    "indexes[0]"
   ]
  },
  {
   "cell_type": "code",
   "execution_count": 100,
   "metadata": {},
   "outputs": [
    {
     "name": "stdout",
     "output_type": "stream",
     "text": [
      "genres_Latin America_children= genres[genres['parent'] == 46]\n",
      "genres_French_children= genres[genres['parent'] == 77]\n",
      "genres_Reggae - Dub_children= genres[genres['parent'] == 79]\n",
      "genres_Indian_children= genres[genres['parent'] == 86]\n",
      "genres_African_children= genres[genres['parent'] == 92]\n",
      "genres_Middle East_children= genres[genres['parent'] == 102]\n",
      "genres_Polka_children= genres[genres['parent'] == 117]\n",
      "genres_Balkan_children= genres[genres['parent'] == 118]\n",
      "genres_Europe_children= genres[genres['parent'] == 130]\n",
      "genres_Brazilian_children= genres[genres['parent'] == 171]\n",
      "genres_Asia-Far East_children= genres[genres['parent'] == 172]\n",
      "genres_Pacific_children= genres[genres['parent'] == 176]\n",
      "genres_Celtic_children= genres[genres['parent'] == 177]\n",
      "genres_Flamenco_children= genres[genres['parent'] == 232]\n",
      "genres_Latin_children= genres[genres['parent'] == 504]\n"
     ]
    },
    {
     "ename": "IndexError",
     "evalue": "list index out of range",
     "output_type": "error",
     "traceback": [
      "\u001b[1;31m---------------------------------------------------------------------------\u001b[0m",
      "\u001b[1;31mIndexError\u001b[0m                                Traceback (most recent call last)",
      "\u001b[1;32m<ipython-input-100-2dd4bfbc0831>\u001b[0m in \u001b[0;36m<module>\u001b[1;34m\u001b[0m\n\u001b[0;32m      3\u001b[0m     \u001b[1;32mfor\u001b[0m \u001b[0mi\u001b[0m \u001b[1;32min\u001b[0m \u001b[0mrange\u001b[0m\u001b[1;33m(\u001b[0m\u001b[0mlen\u001b[0m\u001b[1;33m(\u001b[0m\u001b[0mindexes\u001b[0m\u001b[1;33m)\u001b[0m\u001b[1;33m+\u001b[0m\u001b[1;36m1\u001b[0m \u001b[1;33m)\u001b[0m\u001b[1;33m:\u001b[0m\u001b[1;33m\u001b[0m\u001b[1;33m\u001b[0m\u001b[0m\n\u001b[0;32m      4\u001b[0m         \u001b[1;32mif\u001b[0m \u001b[0mtitle\u001b[0m \u001b[1;33m==\u001b[0m \u001b[0mi\u001b[0m\u001b[1;33m:\u001b[0m\u001b[1;33m\u001b[0m\u001b[1;33m\u001b[0m\u001b[0m\n\u001b[1;32m----> 5\u001b[1;33m             \u001b[0mprint\u001b[0m\u001b[1;33m(\u001b[0m \u001b[1;34m\"genres_{}_children\"\u001b[0m\u001b[1;33m.\u001b[0m\u001b[0mformat\u001b[0m\u001b[1;33m(\u001b[0m\u001b[0mlista\u001b[0m\u001b[1;33m[\u001b[0m\u001b[0mtitle\u001b[0m\u001b[1;33m]\u001b[0m\u001b[1;33m)\u001b[0m\u001b[1;33m+\u001b[0m\u001b[1;34m\"= genres[genres['parent'] == {}\"\u001b[0m\u001b[1;33m.\u001b[0m\u001b[0mformat\u001b[0m\u001b[1;33m(\u001b[0m\u001b[0mindexes\u001b[0m\u001b[1;33m[\u001b[0m\u001b[0mi\u001b[0m\u001b[1;33m]\u001b[0m\u001b[1;33m)\u001b[0m\u001b[1;33m+\u001b[0m\u001b[1;34m\"]\"\u001b[0m\u001b[1;33m)\u001b[0m\u001b[1;33m\u001b[0m\u001b[1;33m\u001b[0m\u001b[0m\n\u001b[0m",
      "\u001b[1;31mIndexError\u001b[0m: list index out of range"
     ]
    }
   ],
   "source": [
    "lista = genres_International_children['title'].tolist()\n",
    "for title in range(len(lista)+1):\n",
    "    for i in range(len(indexes)+1 ):\n",
    "        if title == i:\n",
    "            print( \"genres_{}_children\".format(lista[title])+\"= genres[genres['parent'] == {}\".format(indexes[i])+\"]\")"
   ]
  },
  {
   "cell_type": "code",
   "execution_count": 103,
   "metadata": {},
   "outputs": [],
   "source": [
    "genres_LatinAmerica_children= genres[genres['parent'] == 46]\n",
    "genres_French_children= genres[genres['parent'] == 77]\n",
    "genres_ReggaeDub_children= genres[genres['parent'] == 79]\n",
    "genres_Indian_children= genres[genres['parent'] == 86]\n",
    "genres_African_children= genres[genres['parent'] == 92]\n",
    "genres_MiddleEast_children= genres[genres['parent'] == 102]\n",
    "genres_Polka_children= genres[genres['parent'] == 117]\n",
    "genres_Balkan_children= genres[genres['parent'] == 118]\n",
    "genres_Europe_children= genres[genres['parent'] == 130\n",
    "genres_Brazilian_children= genres[genres['parent'] == 171]\n",
    "genres_AsiaFarEast_children= genres[genres['parent'] == 172]\n",
    "genres_Pacific_children= genres[genres['parent'] == 176]\n",
    "genres_Celtic_children= genres[genres['parent'] == 177]\n",
    "genres_Flamenco_children= genres[genres['parent'] == 232]\n",
    "genres_Latin_children= genres[genres['parent'] == 504]"
   ]
  },
  {
   "cell_type": "code",
   "execution_count": 148,
   "metadata": {},
   "outputs": [
    {
     "data": {
      "text/html": [
       "<div>\n",
       "<style scoped>\n",
       "    .dataframe tbody tr th:only-of-type {\n",
       "        vertical-align: middle;\n",
       "    }\n",
       "\n",
       "    .dataframe tbody tr th {\n",
       "        vertical-align: top;\n",
       "    }\n",
       "\n",
       "    .dataframe thead th {\n",
       "        text-align: right;\n",
       "    }\n",
       "</style>\n",
       "<table border=\"1\" class=\"dataframe\">\n",
       "  <thead>\n",
       "    <tr style=\"text-align: right;\">\n",
       "      <th></th>\n",
       "      <th>#tracks</th>\n",
       "      <th>parent</th>\n",
       "      <th>title</th>\n",
       "      <th>top_level</th>\n",
       "    </tr>\n",
       "    <tr>\n",
       "      <th>genre_id</th>\n",
       "      <th></th>\n",
       "      <th></th>\n",
       "      <th></th>\n",
       "      <th></th>\n",
       "    </tr>\n",
       "  </thead>\n",
       "  <tbody>\n",
       "  </tbody>\n",
       "</table>\n",
       "</div>"
      ],
      "text/plain": [
       "Empty DataFrame\n",
       "Columns: [#tracks, parent, title, top_level]\n",
       "Index: []"
      ]
     },
     "execution_count": 148,
     "metadata": {},
     "output_type": "execute_result"
    }
   ],
   "source": [
    "genres_Latin_children"
   ]
  },
  {
   "cell_type": "code",
   "execution_count": 59,
   "metadata": {},
   "outputs": [
    {
     "name": "stdout",
     "output_type": "stream",
     "text": [
      "['Latin America', 'French', 'Reggae - Dub', 'Indian', 'African', 'Middle East', 'Polka', 'Balkan', 'Europe', 'Brazilian', 'Asia-Far East', 'Pacific', 'Celtic', 'Flamenco', 'Latin']\n",
      "['A', 'B', 'C', 'D', 'E', 'F', 'G', 'H', 'I', 'L', 'M', 'N', 'O', 'P', 'Q']\n"
     ]
    }
   ],
   "source": [
    "lista = genres_International_children['title'].tolist()\n",
    "lettere = ['A', 'B', 'C', 'D', 'E', 'F', 'G', 'H', 'I', 'L', 'M', 'N', 'O', 'P', 'Q']\n",
    "print(lista)\n",
    "print(lettere)"
   ]
  },
  {
   "cell_type": "code",
   "execution_count": 164,
   "metadata": {},
   "outputs": [],
   "source": [
    "dot = Digraph(comment = 'International')\n",
    "dot.node('A', 'International')\n",
    "dot.node('B', 'French')\n",
    "dot.node('C', 'Reggae - Dub')\n",
    "dot.node('D', 'Indian')\n",
    "dot.node('E', 'African')\n",
    "dot.node('F', 'Middle East')\n",
    "dot.node('G', 'Polka')\n",
    "dot.node('H', 'Balkan')\n",
    "dot.node('I', 'Europe')\n",
    "dot.node('L', 'Brazilian')\n",
    "dot.node('M', 'Asia-Far East')\n",
    "dot.node('N', 'Pacific')\n",
    "dot.node('O', 'Celtic')\n",
    "dot.node('P', 'Flamenco')\n",
    "dot.node('Q', 'Latin')\n",
    "\n",
    "#per Latin America\n",
    "dot.node('#', 'Latin - America ')\n",
    "dot.node('R', 'Cumbia')\n",
    "dot.node('S', 'Salsa')\n",
    "dot.node ('T', 'Tango')\n",
    "\n",
    "#per French-children\n",
    "\n",
    "#per RaggaeDub children\n",
    "dot.node('U', 'Reggae-Dancehall')\n",
    "\n",
    "#per Indian\n",
    "dot.node('V','N.Indian Traditional')\n",
    "dot.node('W', 'South Indian Traditional')\n",
    "dot.node('X','Bollywood')\n",
    "\n",
    "#per African\n",
    "dot.node('Y', 'Afrobeat')\n",
    "dot.node('Z', 'North African')\n",
    "\n",
    "#per Middle east\n",
    "dot.node('1', 'Turkish')\n",
    "\n",
    "#per Europe\n",
    "dot.node('2', 'Romany(Gypsy)')\n",
    "dot.node('3', 'Spanish')\n",
    "dot.node('4', 'SKlezmer')\n",
    "dot.node('5', 'Fado')\n",
    "#-------------------------------------------------#\n",
    "dot.edges(['A#','AB', 'AC', 'AD', 'AE', 'AF', 'AG', 'AH', 'AI', 'AL', 'AM', 'AN', 'AO', 'AP', 'AQ', ])\n",
    "dot.edges(['#R', '#S', '#T']) #Latin America\n",
    "dot.edges(['CU']) #Raggae\n",
    "dot.edges(['DV', 'DW', 'DX']) #Indian\n",
    "dot.edges(['EY', 'EZ']) #African\n",
    "dot.edges(['F1']) #middle east\n",
    "dot.edges(['I2', 'I3', 'I4', 'I5']) #Europe"
   ]
  },
  {
   "cell_type": "code",
   "execution_count": 199,
   "metadata": {},
   "outputs": [],
   "source": [
    "from anytree import Node, RenderTree\n",
    "from anytree.exporter import DotExporter\n",
    "from anytree.dotexport import RenderTreeGraph\n",
    "from anytree import Node\n",
    "\n",
    "International = Node ('International') #root\n",
    "Latin_America = Node('Latin America', parent = International)\n",
    "c2 = Node('French', parent = International)\n",
    "RaggaeDub= Node( 'Reggae - Dub', parent = International)\n",
    "Indian= Node('Indian', parent = International)\n",
    "African= Node('African', parent = International)\n",
    "Middle_East= Node( 'Middle East', parent = International)\n",
    "c7= Node( 'Polka', parent = International)\n",
    "c8= Node('Balkan', parent = International)\n",
    "Europe= Node('Europe', parent = International)\n",
    "c10= Node('Brazilian', parent = International)\n",
    "c11= Node( 'Asia-Far East', parent = International)\n",
    "c12= Node('Pacific', parent = International)\n",
    "c13= Node('Celtic', parent = International)\n",
    "c14= Node('Flamenco', parent = International)\n",
    "c15= Node('Latin', parent = International)\n",
    "c16 = Node('Cumbia', parent = Latin_America)\n",
    "c17 = Node('Salsa', parent = Latin_America)\n",
    "c18 = Node ( 'Tango', parent = Latin_America)\n",
    "c19 = Node('Reggae-Dancehall', parent =RaggaeDub )\n",
    "c20 = Node('N.Indian Traditional', parent = Indian)\n",
    "c21= Node('South Indian Traditional', parent = Indian)\n",
    "c22 = Node('Bollywood', parent = Indian)\n",
    "c23 = Node('Afrobeat', parent = African)\n",
    "c24= Node('North African', parent = African)\n",
    "c25 = Node('Turkish', parent = Middle_East)\n",
    "c26 = Node( 'Romany(Gypsy)', parent = Europe)\n",
    "c27 = Node( 'Spanish', parent = Europe)\n",
    "c28 = Node( 'SKlezmer', parent = Europe)\n",
    "c29 = Node('Fado', parent = Europe)\n",
    "\n",
    "DotExporter(International).to_dotfile(\"International.dot\")"
   ]
  },
  {
   "cell_type": "code",
   "execution_count": 200,
   "metadata": {},
   "outputs": [
    {
     "data": {
      "image/png": "[encoded data removed]",
      "text/plain": [
       "<IPython.core.display.Image object>"
      ]
     },
     "execution_count": 200,
     "metadata": {},
     "output_type": "execute_result"
    }
   ],
   "source": [
    "import os\n",
    "os.environ['PATH'] = os.environ['PATH'] + ';' + os.environ['CONDA_PREFIX']+r\"\\Library\\bin\\graphviz\"\n",
    "\n",
    "import pydot\n",
    "import pydotplus\n",
    "from sklearn import tree\n",
    "from IPython.display import Image\n",
    "\n",
    "International = pydotplus.graph_from_dot_file('International.dot') #<=====\n",
    "Image(International.create_png()) #<===="
   ]
  },
  {
   "cell_type": "code",
   "execution_count": 28,
   "metadata": {},
   "outputs": [],
   "source": [
    "from anytree import Node, RenderTree\n",
    "from anytree.exporter import DotExporter\n",
    "from anytree.dotexport import RenderTreeGraph\n",
    "from anytree import Node\n",
    "\n",
    "Jazz = Node ('Jazz') #root\n",
    "c_1 = Node ('Jazz Vocal', parent = Jazz)\n",
    "c_2 = Node ('Free Jazz', parent = Jazz)\n",
    "c_3 = Node ('Jazz - out', parent = Jazz)\n",
    "c_4 = Node ('Be- Bop', parent = Jazz)\n",
    "c_5 = Node ('Big Band /Swing', parent = Jazz)\n",
    "c_6 = Node ('Modern Jazz', parent = Jazz)\n",
    "\n",
    "DotExporter(Jazz).to_dotfile(\"Jazz.dot\")"
   ]
  },
  {
   "cell_type": "code",
   "execution_count": 29,
   "metadata": {},
   "outputs": [
    {
     "name": "stdout",
     "output_type": "stream",
     "text": [
      "digraph tree {\n",
      "    \"Jazz\";\n",
      "    \"Jazz Vocal\";\n",
      "    \"Free Jazz\";\n",
      "    \"Jazz - out\";\n",
      "    \"Be- Bop\";\n",
      "    \"Big Band /Swing\";\n",
      "    \"Modern Jazz\";\n",
      "    \"Jazz\" -> \"Jazz Vocal\";\n",
      "    \"Jazz\" -> \"Free Jazz\";\n",
      "    \"Jazz\" -> \"Jazz - out\";\n",
      "    \"Jazz\" -> \"Be- Bop\";\n",
      "    \"Jazz\" -> \"Big Band /Swing\";\n",
      "    \"Jazz\" -> \"Modern Jazz\";\n",
      "}\n"
     ]
    }
   ],
   "source": [
    "for line in DotExporter(Jazz):\n",
    "    print(line)"
   ]
  },
  {
   "cell_type": "code",
   "execution_count": 30,
   "metadata": {},
   "outputs": [],
   "source": [
    "import os\n",
    "os.environ['PATH'] = os.environ['PATH'] + ';' + os.environ['CONDA_PREFIX']+r\"\\Library\\bin\\graphviz\""
   ]
  },
  {
   "cell_type": "code",
   "execution_count": 31,
   "metadata": {},
   "outputs": [
    {
     "data": {
      "image/png": "[encoded data removed]",
      "text/plain": [
       "<IPython.core.display.Image object>"
      ]
     },
     "execution_count": 31,
     "metadata": {},
     "output_type": "execute_result"
    }
   ],
   "source": [
    "import pydot\n",
    "import pydotplus\n",
    "from sklearn import tree\n",
    "from IPython.display import Image\n",
    "\n",
    "Jazz = pydotplus.graph_from_dot_file('Jazz.dot') #<=====\n",
    "Image(Jazz.create_png()) #<===="
   ]
  },
  {
   "cell_type": "markdown",
   "metadata": {},
   "source": [
    "# Outliers"
   ]
  },
  {
   "cell_type": "code",
   "execution_count": 113,
   "metadata": {},
   "outputs": [
    {
     "data": {
      "text/plain": [
       "38154"
      ]
     },
     "execution_count": 113,
     "metadata": {},
     "output_type": "execute_result"
    }
   ],
   "source": [
    "genres['#tracks'].max()"
   ]
  },
  {
   "cell_type": "code",
   "execution_count": 34,
   "metadata": {},
   "outputs": [
    {
     "data": {
      "image/png": "[encoded data removed]",
      "text/plain": [
       "<Figure size 432x432 with 1 Axes>"
      ]
     },
     "metadata": {
      "needs_background": "light"
     },
     "output_type": "display_data"
    },
    {
     "data": {
      "image/png": "[encoded data removed]",
      "text/plain": [
       "<Figure size 432x432 with 1 Axes>"
      ]
     },
     "metadata": {
      "needs_background": "light"
     },
     "output_type": "display_data"
    },
    {
     "data": {
      "image/png": "[encoded data removed]",
      "text/plain": [
       "<Figure size 432x432 with 1 Axes>"
      ]
     },
     "metadata": {
      "needs_background": "light"
     },
     "output_type": "display_data"
    }
   ],
   "source": [
    "for i in numeric_col: \n",
    "    f = plt.figure(figsize=(6, 6))\n",
    "    ax = sns.boxplot(x=genres[i],orient=\"v\" )"
   ]
  },
  {
   "cell_type": "code",
   "execution_count": 116,
   "metadata": {},
   "outputs": [
    {
     "data": {
      "text/plain": [
       "[38,\n",
       " 2,\n",
       " 3,\n",
       " 4,\n",
       " 5,\n",
       " 38,\n",
       " 20,\n",
       " 8,\n",
       " 9,\n",
       " 10,\n",
       " 14,\n",
       " 12,\n",
       " 13,\n",
       " 14,\n",
       " 15,\n",
       " 38,\n",
       " 17,\n",
       " 1235,\n",
       " 14,\n",
       " 20,\n",
       " 21,\n",
       " 38,\n",
       " 12,\n",
       " 12,\n",
       " 12,\n",
       " 38,\n",
       " 12,\n",
       " 38,\n",
       " 17,\n",
       " 12,\n",
       " 4,\n",
       " 38,\n",
       " 38,\n",
       " 15,\n",
       " 20,\n",
       " 12,\n",
       " 2,\n",
       " 38,\n",
       " 17,\n",
       " 12,\n",
       " 12,\n",
       " 9,\n",
       " 12,\n",
       " 20,\n",
       " 12,\n",
       " 12,\n",
       " 12,\n",
       " 4,\n",
       " 10,\n",
       " 2,\n",
       " 2,\n",
       " 2,\n",
       " 21,\n",
       " 12,\n",
       " 2,\n",
       " 12,\n",
       " 12,\n",
       " 12,\n",
       " 2,\n",
       " 17,\n",
       " 4,\n",
       " 12,\n",
       " 21,\n",
       " 12,\n",
       " 2,\n",
       " 17,\n",
       " 1235,\n",
       " 12,\n",
       " 12,\n",
       " 12,\n",
       " 2,\n",
       " 2,\n",
       " 38,\n",
       " 2,\n",
       " 9,\n",
       " 20,\n",
       " 20,\n",
       " 12,\n",
       " 9,\n",
       " 13,\n",
       " 2,\n",
       " 2,\n",
       " 2,\n",
       " 2,\n",
       " 2,\n",
       " 2,\n",
       " 2,\n",
       " 4,\n",
       " 4,\n",
       " 17,\n",
       " 15,\n",
       " 15,\n",
       " 15,\n",
       " 15,\n",
       " 15,\n",
       " 38,\n",
       " 5,\n",
       " 20,\n",
       " 20,\n",
       " 2,\n",
       " 38,\n",
       " 2,\n",
       " 15,\n",
       " 15,\n",
       " 38,\n",
       " 38,\n",
       " 1235,\n",
       " 15,\n",
       " 15,\n",
       " 15,\n",
       " 13,\n",
       " 12,\n",
       " 5,\n",
       " 15,\n",
       " 12,\n",
       " 38,\n",
       " 12,\n",
       " 10,\n",
       " 20,\n",
       " 14,\n",
       " 20,\n",
       " 15,\n",
       " 15,\n",
       " 12,\n",
       " 20,\n",
       " 12,\n",
       " 12,\n",
       " 5,\n",
       " 5,\n",
       " 5,\n",
       " 5,\n",
       " 38,\n",
       " 20,\n",
       " 15,\n",
       " 15,\n",
       " 9,\n",
       " 15,\n",
       " 2,\n",
       " 2,\n",
       " 38,\n",
       " 2,\n",
       " 1235,\n",
       " 21,\n",
       " 21,\n",
       " 3,\n",
       " 21,\n",
       " 2,\n",
       " 2,\n",
       " 9,\n",
       " 5,\n",
       " 21,\n",
       " 15,\n",
       " 2,\n",
       " 38,\n",
       " 2,\n",
       " 13,\n",
       " 21,\n",
       " 4,\n",
       " 2,\n",
       " 2,\n",
       " 2,\n",
       " 38,\n",
       " 1235]"
      ]
     },
     "execution_count": 116,
     "metadata": {},
     "output_type": "execute_result"
    }
   ],
   "source": [
    "genres['top_level'].values.tolist()"
   ]
  },
  {
   "cell_type": "markdown",
   "metadata": {},
   "source": [
    "# Visualizzazioni "
   ]
  },
  {
   "cell_type": "code",
   "execution_count": 151,
   "metadata": {},
   "outputs": [
    {
     "data": {
      "image/png": "[encoded data removed]",
      "text/plain": [
       "<Figure size 1440x1440 with 3 Axes>"
      ]
     },
     "metadata": {
      "needs_background": "light"
     },
     "output_type": "display_data"
    }
   ],
   "source": [
    "numeric_col = ['#tracks', 'parent', 'top_level']\n",
    "plt.figure(figsize=(20, 20))\n",
    "\n",
    "for i, column in enumerate(numeric_col, 1):\n",
    "    plt.subplot(4, 6, i)\n",
    "    genres[genres[\"parent\"] == 0][column].hist(bins=30, color='red', label='parent == 0', alpha=0.6)\n",
    "    genres[genres['parent'] != 0][column].hist(bins=30, color='blue', label='parent != 0', alpha=0.6)\n",
    "    plt.legend()\n",
    "    plt.xlabel(column)"
   ]
  },
  {
   "cell_type": "code",
   "execution_count": 117,
   "metadata": {},
   "outputs": [
    {
     "data": {
      "image/png": "[encoded data removed]",
      "text/plain": [
       "<Figure size 288x288 with 1 Axes>"
      ]
     },
     "metadata": {
      "needs_background": "light"
     },
     "output_type": "display_data"
    }
   ],
   "source": [
    "import matplotlib.pyplot as plt\n",
    "\n",
    "plt.matshow(genres.corr())\n",
    "plt.show()"
   ]
  },
  {
   "cell_type": "code",
   "execution_count": 125,
   "metadata": {},
   "outputs": [
    {
     "name": "stdout",
     "output_type": "stream",
     "text": [
      "\n"
     ]
    }
   ],
   "source": [
    "from pandas_profiling import ProfileReport\n",
    "prof = ProfileReport(genres, progress_bar = False)\n",
    "print(prof)\n",
    "prof.to_file(output_file='report.html')"
   ]
  },
  {
   "cell_type": "markdown",
   "metadata": {},
   "source": [
    "# Prove ulteriori"
   ]
  },
  {
   "cell_type": "code",
   "execution_count": 132,
   "metadata": {},
   "outputs": [
    {
     "data": {
      "text/plain": [
       "MultiIndex([( 'album',          'comments'),\n",
       "            ( 'album',      'date_created'),\n",
       "            ( 'album',     'date_released'),\n",
       "            ( 'album',          'engineer'),\n",
       "            ( 'album',         'favorites'),\n",
       "            ( 'album',                'id'),\n",
       "            ( 'album',       'information'),\n",
       "            ( 'album',           'listens'),\n",
       "            ( 'album',          'producer'),\n",
       "            ( 'album',              'tags'),\n",
       "            ( 'album',             'title'),\n",
       "            ( 'album',            'tracks'),\n",
       "            ( 'album',              'type'),\n",
       "            ('artist', 'active_year_begin'),\n",
       "            ('artist',   'active_year_end'),\n",
       "            ('artist', 'associated_labels'),\n",
       "            ('artist',               'bio'),\n",
       "            ('artist',          'comments'),\n",
       "            ('artist',      'date_created'),\n",
       "            ('artist',         'favorites'),\n",
       "            ('artist',                'id'),\n",
       "            ('artist',          'latitude'),\n",
       "            ('artist',          'location'),\n",
       "            ('artist',         'longitude'),\n",
       "            ('artist',           'members'),\n",
       "            ('artist',              'name'),\n",
       "            ('artist',  'related_projects'),\n",
       "            ('artist',              'tags'),\n",
       "            ('artist',           'website'),\n",
       "            ('artist',    'wikipedia_page'),\n",
       "            (   'set',             'split'),\n",
       "            (   'set',            'subset'),\n",
       "            ( 'track',          'bit_rate'),\n",
       "            ( 'track',          'comments'),\n",
       "            ( 'track',          'composer'),\n",
       "            ( 'track',      'date_created'),\n",
       "            ( 'track',     'date_recorded'),\n",
       "            ( 'track',          'duration'),\n",
       "            ( 'track',         'favorites'),\n",
       "            ( 'track',         'genre_top'),\n",
       "            ( 'track',            'genres'),\n",
       "            ( 'track',        'genres_all'),\n",
       "            ( 'track',       'information'),\n",
       "            ( 'track',          'interest'),\n",
       "            ( 'track',     'language_code'),\n",
       "            ( 'track',           'license'),\n",
       "            ( 'track',           'listens'),\n",
       "            ( 'track',          'lyricist'),\n",
       "            ( 'track',            'number'),\n",
       "            ( 'track',         'publisher'),\n",
       "            ( 'track',              'tags'),\n",
       "            ( 'track',             'title')],\n",
       "           )"
      ]
     },
     "execution_count": 132,
     "metadata": {},
     "output_type": "execute_result"
    }
   ],
   "source": [
    "tracks.columns"
   ]
  },
  {
   "cell_type": "code",
   "execution_count": 137,
   "metadata": {},
   "outputs": [],
   "source": [
    "tracks_begin = tracks['artist','active_year_begin'].to_frame()\n",
    "tracks_end = tracks['artist','active_year_end'].to_frame()"
   ]
  },
  {
   "cell_type": "code",
   "execution_count": 140,
   "metadata": {},
   "outputs": [
    {
     "data": {
      "text/plain": [
       "<matplotlib.legend.Legend at 0x1bd75c25430>"
      ]
     },
     "execution_count": 140,
     "metadata": {},
     "output_type": "execute_result"
    },
    {
     "data": {
      "image/png": "[encoded data removed]",
      "text/plain": [
       "<Figure size 432x288 with 1 Axes>"
      ]
     },
     "metadata": {
      "needs_background": "light"
     },
     "output_type": "display_data"
    }
   ],
   "source": [
    "import matplotlib.pyplot as plt\n",
    "plt.plot(tracks_begin, tracks_end, label='andamenti date di inizio e fine') \n",
    "\n",
    "plt.xlabel('active_year_begin')\n",
    "plt.ylabel('active_year_end')\n",
    "plt.legend()"
   ]
  },
  {
   "cell_type": "code",
   "execution_count": 142,
   "metadata": {},
   "outputs": [
    {
     "data": {
      "text/html": [
       "<div>\n",
       "<style scoped>\n",
       "    .dataframe tbody tr th:only-of-type {\n",
       "        vertical-align: middle;\n",
       "    }\n",
       "\n",
       "    .dataframe tbody tr th {\n",
       "        vertical-align: top;\n",
       "    }\n",
       "\n",
       "    .dataframe thead tr th {\n",
       "        text-align: left;\n",
       "    }\n",
       "\n",
       "    .dataframe thead tr:last-of-type th {\n",
       "        text-align: right;\n",
       "    }\n",
       "</style>\n",
       "<table border=\"1\" class=\"dataframe\">\n",
       "  <thead>\n",
       "    <tr>\n",
       "      <th></th>\n",
       "      <th>artist</th>\n",
       "    </tr>\n",
       "    <tr>\n",
       "      <th></th>\n",
       "      <th>active_year_begin</th>\n",
       "    </tr>\n",
       "    <tr>\n",
       "      <th>track_id</th>\n",
       "      <th></th>\n",
       "    </tr>\n",
       "  </thead>\n",
       "  <tbody>\n",
       "    <tr>\n",
       "      <th>2</th>\n",
       "      <td>2006-01-01</td>\n",
       "    </tr>\n",
       "    <tr>\n",
       "      <th>3</th>\n",
       "      <td>2006-01-01</td>\n",
       "    </tr>\n",
       "    <tr>\n",
       "      <th>5</th>\n",
       "      <td>2006-01-01</td>\n",
       "    </tr>\n",
       "    <tr>\n",
       "      <th>10</th>\n",
       "      <td>NaT</td>\n",
       "    </tr>\n",
       "    <tr>\n",
       "      <th>20</th>\n",
       "      <td>1990-01-01</td>\n",
       "    </tr>\n",
       "    <tr>\n",
       "      <th>...</th>\n",
       "      <td>...</td>\n",
       "    </tr>\n",
       "    <tr>\n",
       "      <th>155316</th>\n",
       "      <td>NaT</td>\n",
       "    </tr>\n",
       "    <tr>\n",
       "      <th>155317</th>\n",
       "      <td>NaT</td>\n",
       "    </tr>\n",
       "    <tr>\n",
       "      <th>155318</th>\n",
       "      <td>NaT</td>\n",
       "    </tr>\n",
       "    <tr>\n",
       "      <th>155319</th>\n",
       "      <td>NaT</td>\n",
       "    </tr>\n",
       "    <tr>\n",
       "      <th>155320</th>\n",
       "      <td>NaT</td>\n",
       "    </tr>\n",
       "  </tbody>\n",
       "</table>\n",
       "<p>106574 rows × 1 columns</p>\n",
       "</div>"
      ],
      "text/plain": [
       "                    artist\n",
       "         active_year_begin\n",
       "track_id                  \n",
       "2               2006-01-01\n",
       "3               2006-01-01\n",
       "5               2006-01-01\n",
       "10                     NaT\n",
       "20              1990-01-01\n",
       "...                    ...\n",
       "155316                 NaT\n",
       "155317                 NaT\n",
       "155318                 NaT\n",
       "155319                 NaT\n",
       "155320                 NaT\n",
       "\n",
       "[106574 rows x 1 columns]"
      ]
     },
     "metadata": {},
     "output_type": "display_data"
    },
    {
     "data": {
      "text/html": [
       "<div>\n",
       "<style scoped>\n",
       "    .dataframe tbody tr th:only-of-type {\n",
       "        vertical-align: middle;\n",
       "    }\n",
       "\n",
       "    .dataframe tbody tr th {\n",
       "        vertical-align: top;\n",
       "    }\n",
       "\n",
       "    .dataframe thead tr th {\n",
       "        text-align: left;\n",
       "    }\n",
       "\n",
       "    .dataframe thead tr:last-of-type th {\n",
       "        text-align: right;\n",
       "    }\n",
       "</style>\n",
       "<table border=\"1\" class=\"dataframe\">\n",
       "  <thead>\n",
       "    <tr>\n",
       "      <th></th>\n",
       "      <th>artist</th>\n",
       "    </tr>\n",
       "    <tr>\n",
       "      <th></th>\n",
       "      <th>active_year_end</th>\n",
       "    </tr>\n",
       "    <tr>\n",
       "      <th>track_id</th>\n",
       "      <th></th>\n",
       "    </tr>\n",
       "  </thead>\n",
       "  <tbody>\n",
       "    <tr>\n",
       "      <th>2</th>\n",
       "      <td>NaT</td>\n",
       "    </tr>\n",
       "    <tr>\n",
       "      <th>3</th>\n",
       "      <td>NaT</td>\n",
       "    </tr>\n",
       "    <tr>\n",
       "      <th>5</th>\n",
       "      <td>NaT</td>\n",
       "    </tr>\n",
       "    <tr>\n",
       "      <th>10</th>\n",
       "      <td>NaT</td>\n",
       "    </tr>\n",
       "    <tr>\n",
       "      <th>20</th>\n",
       "      <td>2011-01-01</td>\n",
       "    </tr>\n",
       "    <tr>\n",
       "      <th>...</th>\n",
       "      <td>...</td>\n",
       "    </tr>\n",
       "    <tr>\n",
       "      <th>155316</th>\n",
       "      <td>NaT</td>\n",
       "    </tr>\n",
       "    <tr>\n",
       "      <th>155317</th>\n",
       "      <td>NaT</td>\n",
       "    </tr>\n",
       "    <tr>\n",
       "      <th>155318</th>\n",
       "      <td>NaT</td>\n",
       "    </tr>\n",
       "    <tr>\n",
       "      <th>155319</th>\n",
       "      <td>NaT</td>\n",
       "    </tr>\n",
       "    <tr>\n",
       "      <th>155320</th>\n",
       "      <td>NaT</td>\n",
       "    </tr>\n",
       "  </tbody>\n",
       "</table>\n",
       "<p>106574 rows × 1 columns</p>\n",
       "</div>"
      ],
      "text/plain": [
       "                  artist\n",
       "         active_year_end\n",
       "track_id                \n",
       "2                    NaT\n",
       "3                    NaT\n",
       "5                    NaT\n",
       "10                   NaT\n",
       "20            2011-01-01\n",
       "...                  ...\n",
       "155316               NaT\n",
       "155317               NaT\n",
       "155318               NaT\n",
       "155319               NaT\n",
       "155320               NaT\n",
       "\n",
       "[106574 rows x 1 columns]"
      ]
     },
     "metadata": {},
     "output_type": "display_data"
    }
   ],
   "source": [
    "ipd.display(tracks_begin, tracks_end)"
   ]
  },
  {
   "cell_type": "code",
   "execution_count": null,
   "metadata": {},
   "outputs": [],
   "source": []
  }
 ],
 "metadata": {
  "kernelspec": {
   "display_name": "Python 3 (ipykernel)",
   "language": "python",
   "name": "python3"
  },
  "language_info": {
   "codemirror_mode": {
    "name": "ipython",
    "version": 3
   },
   "file_extension": ".py",
   "mimetype": "text/x-python",
   "name": "python",
   "nbconvert_exporter": "python",
   "pygments_lexer": "ipython3",
   "version": "3.8.3"
  }
 },
 "nbformat": 4,
 "nbformat_minor": 4
}
