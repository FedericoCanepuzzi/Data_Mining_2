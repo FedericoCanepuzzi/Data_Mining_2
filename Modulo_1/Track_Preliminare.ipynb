{
 "cells": [
  {
   "cell_type": "markdown",
   "metadata": {},
   "source": [
    "## Analisi Tracks"
   ]
  },
  {
   "cell_type": "code",
   "execution_count": 2,
   "metadata": {},
   "outputs": [],
   "source": [
    "%matplotlib inline\n",
    "#!pip install python-dotenv\n",
    "#!pip install pydot\n",
    "import os\n",
    "\n",
    "import IPython.display as ipd\n",
    "import numpy as np\n",
    "import pandas as pd\n",
    "import matplotlib.pyplot as plt\n",
    "import seaborn as sns\n",
    "import sklearn as skl\n",
    "import sklearn.utils, sklearn.preprocessing, sklearn.decomposition, sklearn.svm\n",
    "import librosa\n",
    "import librosa.display\n",
    "\n",
    "import utils\n",
    "\n",
    "plt.rcParams['figure.figsize'] = (17, 5)"
   ]
  },
  {
   "cell_type": "code",
   "execution_count": 3,
   "metadata": {},
   "outputs": [
    {
     "data": {
      "text/plain": [
       "(106574, 52)"
      ]
     },
     "execution_count": 3,
     "metadata": {},
     "output_type": "execute_result"
    }
   ],
   "source": [
    "tracks = utils.load('data/fma_metadata/tracks.csv')\n",
    "\n",
    "tracks.shape"
   ]
  },
  {
   "cell_type": "code",
   "execution_count": 4,
   "metadata": {},
   "outputs": [
    {
     "data": {
      "text/html": [
       "<div>\n",
       "<style scoped>\n",
       "    .dataframe tbody tr th:only-of-type {\n",
       "        vertical-align: middle;\n",
       "    }\n",
       "\n",
       "    .dataframe tbody tr th {\n",
       "        vertical-align: top;\n",
       "    }\n",
       "\n",
       "    .dataframe thead tr th {\n",
       "        text-align: left;\n",
       "    }\n",
       "\n",
       "    .dataframe thead tr:last-of-type th {\n",
       "        text-align: right;\n",
       "    }\n",
       "</style>\n",
       "<table border=\"1\" class=\"dataframe\">\n",
       "  <thead>\n",
       "    <tr>\n",
       "      <th></th>\n",
       "      <th colspan=\"10\" halign=\"left\">album</th>\n",
       "      <th>...</th>\n",
       "      <th colspan=\"10\" halign=\"left\">track</th>\n",
       "    </tr>\n",
       "    <tr>\n",
       "      <th></th>\n",
       "      <th>comments</th>\n",
       "      <th>date_created</th>\n",
       "      <th>date_released</th>\n",
       "      <th>engineer</th>\n",
       "      <th>favorites</th>\n",
       "      <th>id</th>\n",
       "      <th>information</th>\n",
       "      <th>listens</th>\n",
       "      <th>producer</th>\n",
       "      <th>tags</th>\n",
       "      <th>...</th>\n",
       "      <th>information</th>\n",
       "      <th>interest</th>\n",
       "      <th>language_code</th>\n",
       "      <th>license</th>\n",
       "      <th>listens</th>\n",
       "      <th>lyricist</th>\n",
       "      <th>number</th>\n",
       "      <th>publisher</th>\n",
       "      <th>tags</th>\n",
       "      <th>title</th>\n",
       "    </tr>\n",
       "    <tr>\n",
       "      <th>track_id</th>\n",
       "      <th></th>\n",
       "      <th></th>\n",
       "      <th></th>\n",
       "      <th></th>\n",
       "      <th></th>\n",
       "      <th></th>\n",
       "      <th></th>\n",
       "      <th></th>\n",
       "      <th></th>\n",
       "      <th></th>\n",
       "      <th></th>\n",
       "      <th></th>\n",
       "      <th></th>\n",
       "      <th></th>\n",
       "      <th></th>\n",
       "      <th></th>\n",
       "      <th></th>\n",
       "      <th></th>\n",
       "      <th></th>\n",
       "      <th></th>\n",
       "      <th></th>\n",
       "    </tr>\n",
       "  </thead>\n",
       "  <tbody>\n",
       "    <tr>\n",
       "      <th>2</th>\n",
       "      <td>0</td>\n",
       "      <td>2008-11-26 01:44:45</td>\n",
       "      <td>2009-01-05</td>\n",
       "      <td>NaN</td>\n",
       "      <td>4</td>\n",
       "      <td>1</td>\n",
       "      <td>&lt;p&gt;&lt;/p&gt;</td>\n",
       "      <td>6073</td>\n",
       "      <td>NaN</td>\n",
       "      <td>[]</td>\n",
       "      <td>...</td>\n",
       "      <td>NaN</td>\n",
       "      <td>4656</td>\n",
       "      <td>en</td>\n",
       "      <td>Attribution-NonCommercial-ShareAlike 3.0 Inter...</td>\n",
       "      <td>1293</td>\n",
       "      <td>NaN</td>\n",
       "      <td>3</td>\n",
       "      <td>NaN</td>\n",
       "      <td>[]</td>\n",
       "      <td>Food</td>\n",
       "    </tr>\n",
       "    <tr>\n",
       "      <th>3</th>\n",
       "      <td>0</td>\n",
       "      <td>2008-11-26 01:44:45</td>\n",
       "      <td>2009-01-05</td>\n",
       "      <td>NaN</td>\n",
       "      <td>4</td>\n",
       "      <td>1</td>\n",
       "      <td>&lt;p&gt;&lt;/p&gt;</td>\n",
       "      <td>6073</td>\n",
       "      <td>NaN</td>\n",
       "      <td>[]</td>\n",
       "      <td>...</td>\n",
       "      <td>NaN</td>\n",
       "      <td>1470</td>\n",
       "      <td>en</td>\n",
       "      <td>Attribution-NonCommercial-ShareAlike 3.0 Inter...</td>\n",
       "      <td>514</td>\n",
       "      <td>NaN</td>\n",
       "      <td>4</td>\n",
       "      <td>NaN</td>\n",
       "      <td>[]</td>\n",
       "      <td>Electric Ave</td>\n",
       "    </tr>\n",
       "    <tr>\n",
       "      <th>5</th>\n",
       "      <td>0</td>\n",
       "      <td>2008-11-26 01:44:45</td>\n",
       "      <td>2009-01-05</td>\n",
       "      <td>NaN</td>\n",
       "      <td>4</td>\n",
       "      <td>1</td>\n",
       "      <td>&lt;p&gt;&lt;/p&gt;</td>\n",
       "      <td>6073</td>\n",
       "      <td>NaN</td>\n",
       "      <td>[]</td>\n",
       "      <td>...</td>\n",
       "      <td>NaN</td>\n",
       "      <td>1933</td>\n",
       "      <td>en</td>\n",
       "      <td>Attribution-NonCommercial-ShareAlike 3.0 Inter...</td>\n",
       "      <td>1151</td>\n",
       "      <td>NaN</td>\n",
       "      <td>6</td>\n",
       "      <td>NaN</td>\n",
       "      <td>[]</td>\n",
       "      <td>This World</td>\n",
       "    </tr>\n",
       "    <tr>\n",
       "      <th>10</th>\n",
       "      <td>0</td>\n",
       "      <td>2008-11-26 01:45:08</td>\n",
       "      <td>2008-02-06</td>\n",
       "      <td>NaN</td>\n",
       "      <td>4</td>\n",
       "      <td>6</td>\n",
       "      <td>NaN</td>\n",
       "      <td>47632</td>\n",
       "      <td>NaN</td>\n",
       "      <td>[]</td>\n",
       "      <td>...</td>\n",
       "      <td>NaN</td>\n",
       "      <td>54881</td>\n",
       "      <td>en</td>\n",
       "      <td>Attribution-NonCommercial-NoDerivatives (aka M...</td>\n",
       "      <td>50135</td>\n",
       "      <td>NaN</td>\n",
       "      <td>1</td>\n",
       "      <td>NaN</td>\n",
       "      <td>[]</td>\n",
       "      <td>Freeway</td>\n",
       "    </tr>\n",
       "    <tr>\n",
       "      <th>20</th>\n",
       "      <td>0</td>\n",
       "      <td>2008-11-26 01:45:05</td>\n",
       "      <td>2009-01-06</td>\n",
       "      <td>NaN</td>\n",
       "      <td>2</td>\n",
       "      <td>4</td>\n",
       "      <td>&lt;p&gt; \"spiritual songs\" from Nicky Cook&lt;/p&gt;</td>\n",
       "      <td>2710</td>\n",
       "      <td>NaN</td>\n",
       "      <td>[]</td>\n",
       "      <td>...</td>\n",
       "      <td>NaN</td>\n",
       "      <td>978</td>\n",
       "      <td>en</td>\n",
       "      <td>Attribution-NonCommercial-NoDerivatives (aka M...</td>\n",
       "      <td>361</td>\n",
       "      <td>NaN</td>\n",
       "      <td>3</td>\n",
       "      <td>NaN</td>\n",
       "      <td>[]</td>\n",
       "      <td>Spiritual Level</td>\n",
       "    </tr>\n",
       "  </tbody>\n",
       "</table>\n",
       "<p>5 rows × 52 columns</p>\n",
       "</div>"
      ],
      "text/plain": [
       "            album                                                          \\\n",
       "         comments        date_created date_released engineer favorites id   \n",
       "track_id                                                                    \n",
       "2               0 2008-11-26 01:44:45    2009-01-05      NaN         4  1   \n",
       "3               0 2008-11-26 01:44:45    2009-01-05      NaN         4  1   \n",
       "5               0 2008-11-26 01:44:45    2009-01-05      NaN         4  1   \n",
       "10              0 2008-11-26 01:45:08    2008-02-06      NaN         4  6   \n",
       "20              0 2008-11-26 01:45:05    2009-01-06      NaN         2  4   \n",
       "\n",
       "                                                                           \\\n",
       "                                        information listens producer tags   \n",
       "track_id                                                                    \n",
       "2                                           <p></p>    6073      NaN   []   \n",
       "3                                           <p></p>    6073      NaN   []   \n",
       "5                                           <p></p>    6073      NaN   []   \n",
       "10                                              NaN   47632      NaN   []   \n",
       "20        <p> \"spiritual songs\" from Nicky Cook</p>    2710      NaN   []   \n",
       "\n",
       "          ...       track                         \\\n",
       "          ... information interest language_code   \n",
       "track_id  ...                                      \n",
       "2         ...         NaN     4656            en   \n",
       "3         ...         NaN     1470            en   \n",
       "5         ...         NaN     1933            en   \n",
       "10        ...         NaN    54881            en   \n",
       "20        ...         NaN      978            en   \n",
       "\n",
       "                                                                              \\\n",
       "                                                    license listens lyricist   \n",
       "track_id                                                                       \n",
       "2         Attribution-NonCommercial-ShareAlike 3.0 Inter...    1293      NaN   \n",
       "3         Attribution-NonCommercial-ShareAlike 3.0 Inter...     514      NaN   \n",
       "5         Attribution-NonCommercial-ShareAlike 3.0 Inter...    1151      NaN   \n",
       "10        Attribution-NonCommercial-NoDerivatives (aka M...   50135      NaN   \n",
       "20        Attribution-NonCommercial-NoDerivatives (aka M...     361      NaN   \n",
       "\n",
       "                                                 \n",
       "         number publisher tags            title  \n",
       "track_id                                         \n",
       "2             3       NaN   []             Food  \n",
       "3             4       NaN   []     Electric Ave  \n",
       "5             6       NaN   []       This World  \n",
       "10            1       NaN   []          Freeway  \n",
       "20            3       NaN   []  Spiritual Level  \n",
       "\n",
       "[5 rows x 52 columns]"
      ]
     },
     "execution_count": 4,
     "metadata": {},
     "output_type": "execute_result"
    }
   ],
   "source": [
    "tracks.head()\n"
   ]
  },
  {
   "cell_type": "code",
   "execution_count": 5,
   "metadata": {},
   "outputs": [
    {
     "data": {
      "text/html": [
       "<div>\n",
       "<style scoped>\n",
       "    .dataframe tbody tr th:only-of-type {\n",
       "        vertical-align: middle;\n",
       "    }\n",
       "\n",
       "    .dataframe tbody tr th {\n",
       "        vertical-align: top;\n",
       "    }\n",
       "\n",
       "    .dataframe thead th {\n",
       "        text-align: right;\n",
       "    }\n",
       "</style>\n",
       "<table border=\"1\" class=\"dataframe\">\n",
       "  <thead>\n",
       "    <tr style=\"text-align: right;\">\n",
       "      <th></th>\n",
       "      <th>bit_rate</th>\n",
       "      <th>comments</th>\n",
       "      <th>composer</th>\n",
       "      <th>date_created</th>\n",
       "      <th>date_recorded</th>\n",
       "      <th>duration</th>\n",
       "      <th>favorites</th>\n",
       "      <th>genre_top</th>\n",
       "      <th>genres</th>\n",
       "      <th>genres_all</th>\n",
       "      <th>information</th>\n",
       "      <th>interest</th>\n",
       "      <th>language_code</th>\n",
       "      <th>license</th>\n",
       "      <th>listens</th>\n",
       "      <th>lyricist</th>\n",
       "      <th>number</th>\n",
       "      <th>publisher</th>\n",
       "      <th>tags</th>\n",
       "      <th>title</th>\n",
       "    </tr>\n",
       "    <tr>\n",
       "      <th>track_id</th>\n",
       "      <th></th>\n",
       "      <th></th>\n",
       "      <th></th>\n",
       "      <th></th>\n",
       "      <th></th>\n",
       "      <th></th>\n",
       "      <th></th>\n",
       "      <th></th>\n",
       "      <th></th>\n",
       "      <th></th>\n",
       "      <th></th>\n",
       "      <th></th>\n",
       "      <th></th>\n",
       "      <th></th>\n",
       "      <th></th>\n",
       "      <th></th>\n",
       "      <th></th>\n",
       "      <th></th>\n",
       "      <th></th>\n",
       "      <th></th>\n",
       "    </tr>\n",
       "  </thead>\n",
       "  <tbody>\n",
       "    <tr>\n",
       "      <th>2</th>\n",
       "      <td>256000</td>\n",
       "      <td>0</td>\n",
       "      <td>NaN</td>\n",
       "      <td>2008-11-26 01:48:12</td>\n",
       "      <td>2008-11-26</td>\n",
       "      <td>168</td>\n",
       "      <td>2</td>\n",
       "      <td>Hip-Hop</td>\n",
       "      <td>[21]</td>\n",
       "      <td>[21]</td>\n",
       "      <td>NaN</td>\n",
       "      <td>4656</td>\n",
       "      <td>en</td>\n",
       "      <td>Attribution-NonCommercial-ShareAlike 3.0 Inter...</td>\n",
       "      <td>1293</td>\n",
       "      <td>NaN</td>\n",
       "      <td>3</td>\n",
       "      <td>NaN</td>\n",
       "      <td>[]</td>\n",
       "      <td>Food</td>\n",
       "    </tr>\n",
       "    <tr>\n",
       "      <th>3</th>\n",
       "      <td>256000</td>\n",
       "      <td>0</td>\n",
       "      <td>NaN</td>\n",
       "      <td>2008-11-26 01:48:14</td>\n",
       "      <td>2008-11-26</td>\n",
       "      <td>237</td>\n",
       "      <td>1</td>\n",
       "      <td>Hip-Hop</td>\n",
       "      <td>[21]</td>\n",
       "      <td>[21]</td>\n",
       "      <td>NaN</td>\n",
       "      <td>1470</td>\n",
       "      <td>en</td>\n",
       "      <td>Attribution-NonCommercial-ShareAlike 3.0 Inter...</td>\n",
       "      <td>514</td>\n",
       "      <td>NaN</td>\n",
       "      <td>4</td>\n",
       "      <td>NaN</td>\n",
       "      <td>[]</td>\n",
       "      <td>Electric Ave</td>\n",
       "    </tr>\n",
       "    <tr>\n",
       "      <th>5</th>\n",
       "      <td>256000</td>\n",
       "      <td>0</td>\n",
       "      <td>NaN</td>\n",
       "      <td>2008-11-26 01:48:20</td>\n",
       "      <td>2008-11-26</td>\n",
       "      <td>206</td>\n",
       "      <td>6</td>\n",
       "      <td>Hip-Hop</td>\n",
       "      <td>[21]</td>\n",
       "      <td>[21]</td>\n",
       "      <td>NaN</td>\n",
       "      <td>1933</td>\n",
       "      <td>en</td>\n",
       "      <td>Attribution-NonCommercial-ShareAlike 3.0 Inter...</td>\n",
       "      <td>1151</td>\n",
       "      <td>NaN</td>\n",
       "      <td>6</td>\n",
       "      <td>NaN</td>\n",
       "      <td>[]</td>\n",
       "      <td>This World</td>\n",
       "    </tr>\n",
       "    <tr>\n",
       "      <th>10</th>\n",
       "      <td>192000</td>\n",
       "      <td>0</td>\n",
       "      <td>Kurt Vile</td>\n",
       "      <td>2008-11-25 17:49:06</td>\n",
       "      <td>2008-11-26</td>\n",
       "      <td>161</td>\n",
       "      <td>178</td>\n",
       "      <td>Pop</td>\n",
       "      <td>[10]</td>\n",
       "      <td>[10]</td>\n",
       "      <td>NaN</td>\n",
       "      <td>54881</td>\n",
       "      <td>en</td>\n",
       "      <td>Attribution-NonCommercial-NoDerivatives (aka M...</td>\n",
       "      <td>50135</td>\n",
       "      <td>NaN</td>\n",
       "      <td>1</td>\n",
       "      <td>NaN</td>\n",
       "      <td>[]</td>\n",
       "      <td>Freeway</td>\n",
       "    </tr>\n",
       "    <tr>\n",
       "      <th>20</th>\n",
       "      <td>256000</td>\n",
       "      <td>0</td>\n",
       "      <td>NaN</td>\n",
       "      <td>2008-11-26 01:48:56</td>\n",
       "      <td>2008-01-01</td>\n",
       "      <td>311</td>\n",
       "      <td>0</td>\n",
       "      <td>NaN</td>\n",
       "      <td>[76, 103]</td>\n",
       "      <td>[17, 10, 76, 103]</td>\n",
       "      <td>NaN</td>\n",
       "      <td>978</td>\n",
       "      <td>en</td>\n",
       "      <td>Attribution-NonCommercial-NoDerivatives (aka M...</td>\n",
       "      <td>361</td>\n",
       "      <td>NaN</td>\n",
       "      <td>3</td>\n",
       "      <td>NaN</td>\n",
       "      <td>[]</td>\n",
       "      <td>Spiritual Level</td>\n",
       "    </tr>\n",
       "  </tbody>\n",
       "</table>\n",
       "</div>"
      ],
      "text/plain": [
       "          bit_rate  comments   composer        date_created date_recorded  \\\n",
       "track_id                                                                    \n",
       "2           256000         0        NaN 2008-11-26 01:48:12    2008-11-26   \n",
       "3           256000         0        NaN 2008-11-26 01:48:14    2008-11-26   \n",
       "5           256000         0        NaN 2008-11-26 01:48:20    2008-11-26   \n",
       "10          192000         0  Kurt Vile 2008-11-25 17:49:06    2008-11-26   \n",
       "20          256000         0        NaN 2008-11-26 01:48:56    2008-01-01   \n",
       "\n",
       "          duration  favorites genre_top     genres         genres_all  \\\n",
       "track_id                                                                \n",
       "2              168          2   Hip-Hop       [21]               [21]   \n",
       "3              237          1   Hip-Hop       [21]               [21]   \n",
       "5              206          6   Hip-Hop       [21]               [21]   \n",
       "10             161        178       Pop       [10]               [10]   \n",
       "20             311          0       NaN  [76, 103]  [17, 10, 76, 103]   \n",
       "\n",
       "         information  interest language_code  \\\n",
       "track_id                                       \n",
       "2                NaN      4656            en   \n",
       "3                NaN      1470            en   \n",
       "5                NaN      1933            en   \n",
       "10               NaN     54881            en   \n",
       "20               NaN       978            en   \n",
       "\n",
       "                                                    license  listens lyricist  \\\n",
       "track_id                                                                        \n",
       "2         Attribution-NonCommercial-ShareAlike 3.0 Inter...     1293      NaN   \n",
       "3         Attribution-NonCommercial-ShareAlike 3.0 Inter...      514      NaN   \n",
       "5         Attribution-NonCommercial-ShareAlike 3.0 Inter...     1151      NaN   \n",
       "10        Attribution-NonCommercial-NoDerivatives (aka M...    50135      NaN   \n",
       "20        Attribution-NonCommercial-NoDerivatives (aka M...      361      NaN   \n",
       "\n",
       "          number publisher tags            title  \n",
       "track_id                                          \n",
       "2              3       NaN   []             Food  \n",
       "3              4       NaN   []     Electric Ave  \n",
       "5              6       NaN   []       This World  \n",
       "10             1       NaN   []          Freeway  \n",
       "20             3       NaN   []  Spiritual Level  "
      ]
     },
     "metadata": {},
     "output_type": "display_data"
    },
    {
     "data": {
      "text/html": [
       "<div>\n",
       "<style scoped>\n",
       "    .dataframe tbody tr th:only-of-type {\n",
       "        vertical-align: middle;\n",
       "    }\n",
       "\n",
       "    .dataframe tbody tr th {\n",
       "        vertical-align: top;\n",
       "    }\n",
       "\n",
       "    .dataframe thead th {\n",
       "        text-align: right;\n",
       "    }\n",
       "</style>\n",
       "<table border=\"1\" class=\"dataframe\">\n",
       "  <thead>\n",
       "    <tr style=\"text-align: right;\">\n",
       "      <th></th>\n",
       "      <th>comments</th>\n",
       "      <th>date_created</th>\n",
       "      <th>date_released</th>\n",
       "      <th>engineer</th>\n",
       "      <th>favorites</th>\n",
       "      <th>id</th>\n",
       "      <th>information</th>\n",
       "      <th>listens</th>\n",
       "      <th>producer</th>\n",
       "      <th>tags</th>\n",
       "      <th>title</th>\n",
       "      <th>tracks</th>\n",
       "      <th>type</th>\n",
       "    </tr>\n",
       "    <tr>\n",
       "      <th>track_id</th>\n",
       "      <th></th>\n",
       "      <th></th>\n",
       "      <th></th>\n",
       "      <th></th>\n",
       "      <th></th>\n",
       "      <th></th>\n",
       "      <th></th>\n",
       "      <th></th>\n",
       "      <th></th>\n",
       "      <th></th>\n",
       "      <th></th>\n",
       "      <th></th>\n",
       "      <th></th>\n",
       "    </tr>\n",
       "  </thead>\n",
       "  <tbody>\n",
       "    <tr>\n",
       "      <th>2</th>\n",
       "      <td>0</td>\n",
       "      <td>2008-11-26 01:44:45</td>\n",
       "      <td>2009-01-05</td>\n",
       "      <td>NaN</td>\n",
       "      <td>4</td>\n",
       "      <td>1</td>\n",
       "      <td>&lt;p&gt;&lt;/p&gt;</td>\n",
       "      <td>6073</td>\n",
       "      <td>NaN</td>\n",
       "      <td>[]</td>\n",
       "      <td>AWOL - A Way Of Life</td>\n",
       "      <td>7</td>\n",
       "      <td>Album</td>\n",
       "    </tr>\n",
       "    <tr>\n",
       "      <th>3</th>\n",
       "      <td>0</td>\n",
       "      <td>2008-11-26 01:44:45</td>\n",
       "      <td>2009-01-05</td>\n",
       "      <td>NaN</td>\n",
       "      <td>4</td>\n",
       "      <td>1</td>\n",
       "      <td>&lt;p&gt;&lt;/p&gt;</td>\n",
       "      <td>6073</td>\n",
       "      <td>NaN</td>\n",
       "      <td>[]</td>\n",
       "      <td>AWOL - A Way Of Life</td>\n",
       "      <td>7</td>\n",
       "      <td>Album</td>\n",
       "    </tr>\n",
       "    <tr>\n",
       "      <th>5</th>\n",
       "      <td>0</td>\n",
       "      <td>2008-11-26 01:44:45</td>\n",
       "      <td>2009-01-05</td>\n",
       "      <td>NaN</td>\n",
       "      <td>4</td>\n",
       "      <td>1</td>\n",
       "      <td>&lt;p&gt;&lt;/p&gt;</td>\n",
       "      <td>6073</td>\n",
       "      <td>NaN</td>\n",
       "      <td>[]</td>\n",
       "      <td>AWOL - A Way Of Life</td>\n",
       "      <td>7</td>\n",
       "      <td>Album</td>\n",
       "    </tr>\n",
       "    <tr>\n",
       "      <th>10</th>\n",
       "      <td>0</td>\n",
       "      <td>2008-11-26 01:45:08</td>\n",
       "      <td>2008-02-06</td>\n",
       "      <td>NaN</td>\n",
       "      <td>4</td>\n",
       "      <td>6</td>\n",
       "      <td>NaN</td>\n",
       "      <td>47632</td>\n",
       "      <td>NaN</td>\n",
       "      <td>[]</td>\n",
       "      <td>Constant Hitmaker</td>\n",
       "      <td>2</td>\n",
       "      <td>Album</td>\n",
       "    </tr>\n",
       "    <tr>\n",
       "      <th>20</th>\n",
       "      <td>0</td>\n",
       "      <td>2008-11-26 01:45:05</td>\n",
       "      <td>2009-01-06</td>\n",
       "      <td>NaN</td>\n",
       "      <td>2</td>\n",
       "      <td>4</td>\n",
       "      <td>&lt;p&gt; \"spiritual songs\" from Nicky Cook&lt;/p&gt;</td>\n",
       "      <td>2710</td>\n",
       "      <td>NaN</td>\n",
       "      <td>[]</td>\n",
       "      <td>Niris</td>\n",
       "      <td>13</td>\n",
       "      <td>Album</td>\n",
       "    </tr>\n",
       "  </tbody>\n",
       "</table>\n",
       "</div>"
      ],
      "text/plain": [
       "          comments        date_created date_released engineer  favorites  id  \\\n",
       "track_id                                                                       \n",
       "2                0 2008-11-26 01:44:45    2009-01-05      NaN          4   1   \n",
       "3                0 2008-11-26 01:44:45    2009-01-05      NaN          4   1   \n",
       "5                0 2008-11-26 01:44:45    2009-01-05      NaN          4   1   \n",
       "10               0 2008-11-26 01:45:08    2008-02-06      NaN          4   6   \n",
       "20               0 2008-11-26 01:45:05    2009-01-06      NaN          2   4   \n",
       "\n",
       "                                        information  listens producer tags  \\\n",
       "track_id                                                                     \n",
       "2                                           <p></p>     6073      NaN   []   \n",
       "3                                           <p></p>     6073      NaN   []   \n",
       "5                                           <p></p>     6073      NaN   []   \n",
       "10                                              NaN    47632      NaN   []   \n",
       "20        <p> \"spiritual songs\" from Nicky Cook</p>     2710      NaN   []   \n",
       "\n",
       "                         title  tracks   type  \n",
       "track_id                                       \n",
       "2         AWOL - A Way Of Life       7  Album  \n",
       "3         AWOL - A Way Of Life       7  Album  \n",
       "5         AWOL - A Way Of Life       7  Album  \n",
       "10           Constant Hitmaker       2  Album  \n",
       "20                       Niris      13  Album  "
      ]
     },
     "metadata": {},
     "output_type": "display_data"
    },
    {
     "data": {
      "text/html": [
       "<div>\n",
       "<style scoped>\n",
       "    .dataframe tbody tr th:only-of-type {\n",
       "        vertical-align: middle;\n",
       "    }\n",
       "\n",
       "    .dataframe tbody tr th {\n",
       "        vertical-align: top;\n",
       "    }\n",
       "\n",
       "    .dataframe thead th {\n",
       "        text-align: right;\n",
       "    }\n",
       "</style>\n",
       "<table border=\"1\" class=\"dataframe\">\n",
       "  <thead>\n",
       "    <tr style=\"text-align: right;\">\n",
       "      <th></th>\n",
       "      <th>active_year_begin</th>\n",
       "      <th>active_year_end</th>\n",
       "      <th>associated_labels</th>\n",
       "      <th>bio</th>\n",
       "      <th>comments</th>\n",
       "      <th>date_created</th>\n",
       "      <th>favorites</th>\n",
       "      <th>id</th>\n",
       "      <th>latitude</th>\n",
       "      <th>location</th>\n",
       "      <th>longitude</th>\n",
       "      <th>members</th>\n",
       "      <th>name</th>\n",
       "      <th>related_projects</th>\n",
       "      <th>tags</th>\n",
       "      <th>website</th>\n",
       "      <th>wikipedia_page</th>\n",
       "    </tr>\n",
       "    <tr>\n",
       "      <th>track_id</th>\n",
       "      <th></th>\n",
       "      <th></th>\n",
       "      <th></th>\n",
       "      <th></th>\n",
       "      <th></th>\n",
       "      <th></th>\n",
       "      <th></th>\n",
       "      <th></th>\n",
       "      <th></th>\n",
       "      <th></th>\n",
       "      <th></th>\n",
       "      <th></th>\n",
       "      <th></th>\n",
       "      <th></th>\n",
       "      <th></th>\n",
       "      <th></th>\n",
       "      <th></th>\n",
       "    </tr>\n",
       "  </thead>\n",
       "  <tbody>\n",
       "    <tr>\n",
       "      <th>2</th>\n",
       "      <td>2006-01-01</td>\n",
       "      <td>NaT</td>\n",
       "      <td>NaN</td>\n",
       "      <td>&lt;p&gt;A Way Of Life, A Collective of Hip-Hop from...</td>\n",
       "      <td>0</td>\n",
       "      <td>2008-11-26 01:42:32</td>\n",
       "      <td>9</td>\n",
       "      <td>1</td>\n",
       "      <td>40.058324</td>\n",
       "      <td>New Jersey</td>\n",
       "      <td>-74.405661</td>\n",
       "      <td>Sajje Morocco,Brownbum,ZawidaGod,Custodian of ...</td>\n",
       "      <td>AWOL</td>\n",
       "      <td>The list of past projects is 2 long but every1...</td>\n",
       "      <td>[awol]</td>\n",
       "      <td>http://www.AzillionRecords.blogspot.com</td>\n",
       "      <td>NaN</td>\n",
       "    </tr>\n",
       "    <tr>\n",
       "      <th>3</th>\n",
       "      <td>2006-01-01</td>\n",
       "      <td>NaT</td>\n",
       "      <td>NaN</td>\n",
       "      <td>&lt;p&gt;A Way Of Life, A Collective of Hip-Hop from...</td>\n",
       "      <td>0</td>\n",
       "      <td>2008-11-26 01:42:32</td>\n",
       "      <td>9</td>\n",
       "      <td>1</td>\n",
       "      <td>40.058324</td>\n",
       "      <td>New Jersey</td>\n",
       "      <td>-74.405661</td>\n",
       "      <td>Sajje Morocco,Brownbum,ZawidaGod,Custodian of ...</td>\n",
       "      <td>AWOL</td>\n",
       "      <td>The list of past projects is 2 long but every1...</td>\n",
       "      <td>[awol]</td>\n",
       "      <td>http://www.AzillionRecords.blogspot.com</td>\n",
       "      <td>NaN</td>\n",
       "    </tr>\n",
       "    <tr>\n",
       "      <th>5</th>\n",
       "      <td>2006-01-01</td>\n",
       "      <td>NaT</td>\n",
       "      <td>NaN</td>\n",
       "      <td>&lt;p&gt;A Way Of Life, A Collective of Hip-Hop from...</td>\n",
       "      <td>0</td>\n",
       "      <td>2008-11-26 01:42:32</td>\n",
       "      <td>9</td>\n",
       "      <td>1</td>\n",
       "      <td>40.058324</td>\n",
       "      <td>New Jersey</td>\n",
       "      <td>-74.405661</td>\n",
       "      <td>Sajje Morocco,Brownbum,ZawidaGod,Custodian of ...</td>\n",
       "      <td>AWOL</td>\n",
       "      <td>The list of past projects is 2 long but every1...</td>\n",
       "      <td>[awol]</td>\n",
       "      <td>http://www.AzillionRecords.blogspot.com</td>\n",
       "      <td>NaN</td>\n",
       "    </tr>\n",
       "    <tr>\n",
       "      <th>10</th>\n",
       "      <td>NaT</td>\n",
       "      <td>NaT</td>\n",
       "      <td>Mexican Summer, Richie Records, Woodsist, Skul...</td>\n",
       "      <td>&lt;p&gt;&lt;span style=\"font-family:Verdana, Geneva, A...</td>\n",
       "      <td>3</td>\n",
       "      <td>2008-11-26 01:42:55</td>\n",
       "      <td>74</td>\n",
       "      <td>6</td>\n",
       "      <td>NaN</td>\n",
       "      <td>NaN</td>\n",
       "      <td>NaN</td>\n",
       "      <td>Kurt Vile, the Violators</td>\n",
       "      <td>Kurt Vile</td>\n",
       "      <td>NaN</td>\n",
       "      <td>[philly, kurt vile]</td>\n",
       "      <td>http://kurtvile.com</td>\n",
       "      <td>NaN</td>\n",
       "    </tr>\n",
       "    <tr>\n",
       "      <th>20</th>\n",
       "      <td>1990-01-01</td>\n",
       "      <td>2011-01-01</td>\n",
       "      <td>NaN</td>\n",
       "      <td>&lt;p&gt;Songs written by: Nicky Cook&lt;/p&gt;\\n&lt;p&gt;VOCALS...</td>\n",
       "      <td>2</td>\n",
       "      <td>2008-11-26 01:42:52</td>\n",
       "      <td>10</td>\n",
       "      <td>4</td>\n",
       "      <td>51.895927</td>\n",
       "      <td>Colchester England</td>\n",
       "      <td>0.891874</td>\n",
       "      <td>Nicky Cook\\n</td>\n",
       "      <td>Nicky Cook</td>\n",
       "      <td>NaN</td>\n",
       "      <td>[instrumentals, experimental pop, post punk, e...</td>\n",
       "      <td>NaN</td>\n",
       "      <td>NaN</td>\n",
       "    </tr>\n",
       "  </tbody>\n",
       "</table>\n",
       "</div>"
      ],
      "text/plain": [
       "         active_year_begin active_year_end  \\\n",
       "track_id                                     \n",
       "2               2006-01-01             NaT   \n",
       "3               2006-01-01             NaT   \n",
       "5               2006-01-01             NaT   \n",
       "10                     NaT             NaT   \n",
       "20              1990-01-01      2011-01-01   \n",
       "\n",
       "                                          associated_labels  \\\n",
       "track_id                                                      \n",
       "2                                                       NaN   \n",
       "3                                                       NaN   \n",
       "5                                                       NaN   \n",
       "10        Mexican Summer, Richie Records, Woodsist, Skul...   \n",
       "20                                                      NaN   \n",
       "\n",
       "                                                        bio  comments  \\\n",
       "track_id                                                                \n",
       "2         <p>A Way Of Life, A Collective of Hip-Hop from...         0   \n",
       "3         <p>A Way Of Life, A Collective of Hip-Hop from...         0   \n",
       "5         <p>A Way Of Life, A Collective of Hip-Hop from...         0   \n",
       "10        <p><span style=\"font-family:Verdana, Geneva, A...         3   \n",
       "20        <p>Songs written by: Nicky Cook</p>\\n<p>VOCALS...         2   \n",
       "\n",
       "                date_created  favorites  id   latitude            location  \\\n",
       "track_id                                                                     \n",
       "2        2008-11-26 01:42:32          9   1  40.058324          New Jersey   \n",
       "3        2008-11-26 01:42:32          9   1  40.058324          New Jersey   \n",
       "5        2008-11-26 01:42:32          9   1  40.058324          New Jersey   \n",
       "10       2008-11-26 01:42:55         74   6        NaN                 NaN   \n",
       "20       2008-11-26 01:42:52         10   4  51.895927  Colchester England   \n",
       "\n",
       "          longitude                                            members  \\\n",
       "track_id                                                                 \n",
       "2        -74.405661  Sajje Morocco,Brownbum,ZawidaGod,Custodian of ...   \n",
       "3        -74.405661  Sajje Morocco,Brownbum,ZawidaGod,Custodian of ...   \n",
       "5        -74.405661  Sajje Morocco,Brownbum,ZawidaGod,Custodian of ...   \n",
       "10              NaN                           Kurt Vile, the Violators   \n",
       "20         0.891874                                       Nicky Cook\\n   \n",
       "\n",
       "                name                                   related_projects  \\\n",
       "track_id                                                                  \n",
       "2               AWOL  The list of past projects is 2 long but every1...   \n",
       "3               AWOL  The list of past projects is 2 long but every1...   \n",
       "5               AWOL  The list of past projects is 2 long but every1...   \n",
       "10         Kurt Vile                                                NaN   \n",
       "20        Nicky Cook                                                NaN   \n",
       "\n",
       "                                                       tags  \\\n",
       "track_id                                                      \n",
       "2                                                    [awol]   \n",
       "3                                                    [awol]   \n",
       "5                                                    [awol]   \n",
       "10                                      [philly, kurt vile]   \n",
       "20        [instrumentals, experimental pop, post punk, e...   \n",
       "\n",
       "                                          website wikipedia_page  \n",
       "track_id                                                          \n",
       "2         http://www.AzillionRecords.blogspot.com            NaN  \n",
       "3         http://www.AzillionRecords.blogspot.com            NaN  \n",
       "5         http://www.AzillionRecords.blogspot.com            NaN  \n",
       "10                            http://kurtvile.com            NaN  \n",
       "20                                            NaN            NaN  "
      ]
     },
     "metadata": {},
     "output_type": "display_data"
    },
    {
     "data": {
      "text/html": [
       "<div>\n",
       "<style scoped>\n",
       "    .dataframe tbody tr th:only-of-type {\n",
       "        vertical-align: middle;\n",
       "    }\n",
       "\n",
       "    .dataframe tbody tr th {\n",
       "        vertical-align: top;\n",
       "    }\n",
       "\n",
       "    .dataframe thead th {\n",
       "        text-align: right;\n",
       "    }\n",
       "</style>\n",
       "<table border=\"1\" class=\"dataframe\">\n",
       "  <thead>\n",
       "    <tr style=\"text-align: right;\">\n",
       "      <th></th>\n",
       "      <th>split</th>\n",
       "      <th>subset</th>\n",
       "    </tr>\n",
       "    <tr>\n",
       "      <th>track_id</th>\n",
       "      <th></th>\n",
       "      <th></th>\n",
       "    </tr>\n",
       "  </thead>\n",
       "  <tbody>\n",
       "    <tr>\n",
       "      <th>2</th>\n",
       "      <td>training</td>\n",
       "      <td>small</td>\n",
       "    </tr>\n",
       "    <tr>\n",
       "      <th>3</th>\n",
       "      <td>training</td>\n",
       "      <td>medium</td>\n",
       "    </tr>\n",
       "    <tr>\n",
       "      <th>5</th>\n",
       "      <td>training</td>\n",
       "      <td>small</td>\n",
       "    </tr>\n",
       "    <tr>\n",
       "      <th>10</th>\n",
       "      <td>training</td>\n",
       "      <td>small</td>\n",
       "    </tr>\n",
       "    <tr>\n",
       "      <th>20</th>\n",
       "      <td>training</td>\n",
       "      <td>large</td>\n",
       "    </tr>\n",
       "  </tbody>\n",
       "</table>\n",
       "</div>"
      ],
      "text/plain": [
       "             split  subset\n",
       "track_id                  \n",
       "2         training   small\n",
       "3         training  medium\n",
       "5         training   small\n",
       "10        training   small\n",
       "20        training   large"
      ]
     },
     "metadata": {},
     "output_type": "display_data"
    }
   ],
   "source": [
    "ipd.display(tracks['track'].head())\n",
    "ipd.display(tracks['album'].head())\n",
    "ipd.display(tracks['artist'].head())\n",
    "ipd.display(tracks['set'].head())"
   ]
  },
  {
   "cell_type": "code",
   "execution_count": 6,
   "metadata": {},
   "outputs": [
    {
     "data": {
      "text/plain": [
       "(106574, 20)"
      ]
     },
     "metadata": {},
     "output_type": "display_data"
    },
    {
     "data": {
      "text/plain": [
       "(106574, 13)"
      ]
     },
     "metadata": {},
     "output_type": "display_data"
    },
    {
     "data": {
      "text/plain": [
       "(106574, 17)"
      ]
     },
     "metadata": {},
     "output_type": "display_data"
    },
    {
     "data": {
      "text/plain": [
       "(106574, 2)"
      ]
     },
     "metadata": {},
     "output_type": "display_data"
    }
   ],
   "source": [
    "ipd.display(tracks['track'].shape)\n",
    "ipd.display(tracks['album'].shape)\n",
    "ipd.display(tracks['artist'].shape)\n",
    "ipd.display(tracks['set'].shape)"
   ]
  },
  {
   "cell_type": "markdown",
   "metadata": {},
   "source": [
    "Tabella composta da 52 attributi, suddivisi in 4 sotto-settori con info diverse:\n",
    "\"track\" contiene 20 campi, \n",
    "\"album\" 13 campi, \n",
    "\"artist\" 17 campi, \n",
    "\"set\" 2 campi"
   ]
  },
  {
   "cell_type": "markdown",
   "metadata": {},
   "source": [
    "## Campi Track"
   ]
  },
  {
   "cell_type": "code",
   "execution_count": 7,
   "metadata": {},
   "outputs": [
    {
     "data": {
      "text/html": [
       "<div>\n",
       "<style scoped>\n",
       "    .dataframe tbody tr th:only-of-type {\n",
       "        vertical-align: middle;\n",
       "    }\n",
       "\n",
       "    .dataframe tbody tr th {\n",
       "        vertical-align: top;\n",
       "    }\n",
       "\n",
       "    .dataframe thead th {\n",
       "        text-align: right;\n",
       "    }\n",
       "</style>\n",
       "<table border=\"1\" class=\"dataframe\">\n",
       "  <thead>\n",
       "    <tr style=\"text-align: right;\">\n",
       "      <th></th>\n",
       "      <th>bit_rate</th>\n",
       "      <th>comments</th>\n",
       "      <th>composer</th>\n",
       "      <th>date_created</th>\n",
       "      <th>date_recorded</th>\n",
       "      <th>duration</th>\n",
       "      <th>favorites</th>\n",
       "      <th>genre_top</th>\n",
       "      <th>genres</th>\n",
       "      <th>genres_all</th>\n",
       "      <th>information</th>\n",
       "      <th>interest</th>\n",
       "      <th>language_code</th>\n",
       "      <th>license</th>\n",
       "      <th>listens</th>\n",
       "      <th>lyricist</th>\n",
       "      <th>number</th>\n",
       "      <th>publisher</th>\n",
       "      <th>tags</th>\n",
       "      <th>title</th>\n",
       "    </tr>\n",
       "    <tr>\n",
       "      <th>track_id</th>\n",
       "      <th></th>\n",
       "      <th></th>\n",
       "      <th></th>\n",
       "      <th></th>\n",
       "      <th></th>\n",
       "      <th></th>\n",
       "      <th></th>\n",
       "      <th></th>\n",
       "      <th></th>\n",
       "      <th></th>\n",
       "      <th></th>\n",
       "      <th></th>\n",
       "      <th></th>\n",
       "      <th></th>\n",
       "      <th></th>\n",
       "      <th></th>\n",
       "      <th></th>\n",
       "      <th></th>\n",
       "      <th></th>\n",
       "      <th></th>\n",
       "    </tr>\n",
       "  </thead>\n",
       "  <tbody>\n",
       "    <tr>\n",
       "      <th>2</th>\n",
       "      <td>256000</td>\n",
       "      <td>0</td>\n",
       "      <td>NaN</td>\n",
       "      <td>2008-11-26 01:48:12</td>\n",
       "      <td>2008-11-26</td>\n",
       "      <td>168</td>\n",
       "      <td>2</td>\n",
       "      <td>Hip-Hop</td>\n",
       "      <td>[21]</td>\n",
       "      <td>[21]</td>\n",
       "      <td>NaN</td>\n",
       "      <td>4656</td>\n",
       "      <td>en</td>\n",
       "      <td>Attribution-NonCommercial-ShareAlike 3.0 Inter...</td>\n",
       "      <td>1293</td>\n",
       "      <td>NaN</td>\n",
       "      <td>3</td>\n",
       "      <td>NaN</td>\n",
       "      <td>[]</td>\n",
       "      <td>Food</td>\n",
       "    </tr>\n",
       "    <tr>\n",
       "      <th>3</th>\n",
       "      <td>256000</td>\n",
       "      <td>0</td>\n",
       "      <td>NaN</td>\n",
       "      <td>2008-11-26 01:48:14</td>\n",
       "      <td>2008-11-26</td>\n",
       "      <td>237</td>\n",
       "      <td>1</td>\n",
       "      <td>Hip-Hop</td>\n",
       "      <td>[21]</td>\n",
       "      <td>[21]</td>\n",
       "      <td>NaN</td>\n",
       "      <td>1470</td>\n",
       "      <td>en</td>\n",
       "      <td>Attribution-NonCommercial-ShareAlike 3.0 Inter...</td>\n",
       "      <td>514</td>\n",
       "      <td>NaN</td>\n",
       "      <td>4</td>\n",
       "      <td>NaN</td>\n",
       "      <td>[]</td>\n",
       "      <td>Electric Ave</td>\n",
       "    </tr>\n",
       "    <tr>\n",
       "      <th>5</th>\n",
       "      <td>256000</td>\n",
       "      <td>0</td>\n",
       "      <td>NaN</td>\n",
       "      <td>2008-11-26 01:48:20</td>\n",
       "      <td>2008-11-26</td>\n",
       "      <td>206</td>\n",
       "      <td>6</td>\n",
       "      <td>Hip-Hop</td>\n",
       "      <td>[21]</td>\n",
       "      <td>[21]</td>\n",
       "      <td>NaN</td>\n",
       "      <td>1933</td>\n",
       "      <td>en</td>\n",
       "      <td>Attribution-NonCommercial-ShareAlike 3.0 Inter...</td>\n",
       "      <td>1151</td>\n",
       "      <td>NaN</td>\n",
       "      <td>6</td>\n",
       "      <td>NaN</td>\n",
       "      <td>[]</td>\n",
       "      <td>This World</td>\n",
       "    </tr>\n",
       "    <tr>\n",
       "      <th>10</th>\n",
       "      <td>192000</td>\n",
       "      <td>0</td>\n",
       "      <td>Kurt Vile</td>\n",
       "      <td>2008-11-25 17:49:06</td>\n",
       "      <td>2008-11-26</td>\n",
       "      <td>161</td>\n",
       "      <td>178</td>\n",
       "      <td>Pop</td>\n",
       "      <td>[10]</td>\n",
       "      <td>[10]</td>\n",
       "      <td>NaN</td>\n",
       "      <td>54881</td>\n",
       "      <td>en</td>\n",
       "      <td>Attribution-NonCommercial-NoDerivatives (aka M...</td>\n",
       "      <td>50135</td>\n",
       "      <td>NaN</td>\n",
       "      <td>1</td>\n",
       "      <td>NaN</td>\n",
       "      <td>[]</td>\n",
       "      <td>Freeway</td>\n",
       "    </tr>\n",
       "    <tr>\n",
       "      <th>20</th>\n",
       "      <td>256000</td>\n",
       "      <td>0</td>\n",
       "      <td>NaN</td>\n",
       "      <td>2008-11-26 01:48:56</td>\n",
       "      <td>2008-01-01</td>\n",
       "      <td>311</td>\n",
       "      <td>0</td>\n",
       "      <td>NaN</td>\n",
       "      <td>[76, 103]</td>\n",
       "      <td>[17, 10, 76, 103]</td>\n",
       "      <td>NaN</td>\n",
       "      <td>978</td>\n",
       "      <td>en</td>\n",
       "      <td>Attribution-NonCommercial-NoDerivatives (aka M...</td>\n",
       "      <td>361</td>\n",
       "      <td>NaN</td>\n",
       "      <td>3</td>\n",
       "      <td>NaN</td>\n",
       "      <td>[]</td>\n",
       "      <td>Spiritual Level</td>\n",
       "    </tr>\n",
       "    <tr>\n",
       "      <th>...</th>\n",
       "      <td>...</td>\n",
       "      <td>...</td>\n",
       "      <td>...</td>\n",
       "      <td>...</td>\n",
       "      <td>...</td>\n",
       "      <td>...</td>\n",
       "      <td>...</td>\n",
       "      <td>...</td>\n",
       "      <td>...</td>\n",
       "      <td>...</td>\n",
       "      <td>...</td>\n",
       "      <td>...</td>\n",
       "      <td>...</td>\n",
       "      <td>...</td>\n",
       "      <td>...</td>\n",
       "      <td>...</td>\n",
       "      <td>...</td>\n",
       "      <td>...</td>\n",
       "      <td>...</td>\n",
       "      <td>...</td>\n",
       "    </tr>\n",
       "    <tr>\n",
       "      <th>155316</th>\n",
       "      <td>320000</td>\n",
       "      <td>0</td>\n",
       "      <td>NaN</td>\n",
       "      <td>2017-03-30 15:23:34</td>\n",
       "      <td>NaT</td>\n",
       "      <td>162</td>\n",
       "      <td>1</td>\n",
       "      <td>Rock</td>\n",
       "      <td>[25]</td>\n",
       "      <td>[25, 12]</td>\n",
       "      <td>NaN</td>\n",
       "      <td>122</td>\n",
       "      <td>NaN</td>\n",
       "      <td>Creative Commons Attribution-NonCommercial-NoD...</td>\n",
       "      <td>102</td>\n",
       "      <td>NaN</td>\n",
       "      <td>3</td>\n",
       "      <td>NaN</td>\n",
       "      <td>[]</td>\n",
       "      <td>The Auger</td>\n",
       "    </tr>\n",
       "    <tr>\n",
       "      <th>155317</th>\n",
       "      <td>320000</td>\n",
       "      <td>0</td>\n",
       "      <td>NaN</td>\n",
       "      <td>2017-03-30 15:23:36</td>\n",
       "      <td>NaT</td>\n",
       "      <td>217</td>\n",
       "      <td>1</td>\n",
       "      <td>Rock</td>\n",
       "      <td>[25]</td>\n",
       "      <td>[25, 12]</td>\n",
       "      <td>NaN</td>\n",
       "      <td>194</td>\n",
       "      <td>NaN</td>\n",
       "      <td>Creative Commons Attribution-NonCommercial-NoD...</td>\n",
       "      <td>165</td>\n",
       "      <td>NaN</td>\n",
       "      <td>4</td>\n",
       "      <td>NaN</td>\n",
       "      <td>[]</td>\n",
       "      <td>Let's Skin Ruby</td>\n",
       "    </tr>\n",
       "    <tr>\n",
       "      <th>155318</th>\n",
       "      <td>320000</td>\n",
       "      <td>0</td>\n",
       "      <td>NaN</td>\n",
       "      <td>2017-03-30 15:23:37</td>\n",
       "      <td>NaT</td>\n",
       "      <td>404</td>\n",
       "      <td>2</td>\n",
       "      <td>Rock</td>\n",
       "      <td>[25]</td>\n",
       "      <td>[25, 12]</td>\n",
       "      <td>NaN</td>\n",
       "      <td>214</td>\n",
       "      <td>NaN</td>\n",
       "      <td>Creative Commons Attribution-NonCommercial-NoD...</td>\n",
       "      <td>168</td>\n",
       "      <td>NaN</td>\n",
       "      <td>6</td>\n",
       "      <td>NaN</td>\n",
       "      <td>[]</td>\n",
       "      <td>My House Smells Like Kim Deal/Pulp</td>\n",
       "    </tr>\n",
       "    <tr>\n",
       "      <th>155319</th>\n",
       "      <td>320000</td>\n",
       "      <td>0</td>\n",
       "      <td>NaN</td>\n",
       "      <td>2017-03-30 15:23:39</td>\n",
       "      <td>NaT</td>\n",
       "      <td>146</td>\n",
       "      <td>0</td>\n",
       "      <td>Rock</td>\n",
       "      <td>[25]</td>\n",
       "      <td>[25, 12]</td>\n",
       "      <td>NaN</td>\n",
       "      <td>336</td>\n",
       "      <td>NaN</td>\n",
       "      <td>Creative Commons Attribution-NonCommercial-NoD...</td>\n",
       "      <td>294</td>\n",
       "      <td>NaN</td>\n",
       "      <td>5</td>\n",
       "      <td>NaN</td>\n",
       "      <td>[]</td>\n",
       "      <td>The Man With Two Mouths</td>\n",
       "    </tr>\n",
       "    <tr>\n",
       "      <th>155320</th>\n",
       "      <td>320000</td>\n",
       "      <td>0</td>\n",
       "      <td>NaN</td>\n",
       "      <td>2017-03-30 09:15:36</td>\n",
       "      <td>NaT</td>\n",
       "      <td>198</td>\n",
       "      <td>1</td>\n",
       "      <td>NaN</td>\n",
       "      <td>[10, 12, 169]</td>\n",
       "      <td>[169, 10, 12, 9]</td>\n",
       "      <td>NaN</td>\n",
       "      <td>972</td>\n",
       "      <td>NaN</td>\n",
       "      <td>Attribution-NonCommercial</td>\n",
       "      <td>705</td>\n",
       "      <td>NaN</td>\n",
       "      <td>7</td>\n",
       "      <td>NaN</td>\n",
       "      <td>[ballad, epic, rockabilly, curse, hex, hard ro...</td>\n",
       "      <td>Another Trick Up My Sleeve (Instrumental)</td>\n",
       "    </tr>\n",
       "  </tbody>\n",
       "</table>\n",
       "<p>106574 rows × 20 columns</p>\n",
       "</div>"
      ],
      "text/plain": [
       "          bit_rate  comments   composer        date_created date_recorded  \\\n",
       "track_id                                                                    \n",
       "2           256000         0        NaN 2008-11-26 01:48:12    2008-11-26   \n",
       "3           256000         0        NaN 2008-11-26 01:48:14    2008-11-26   \n",
       "5           256000         0        NaN 2008-11-26 01:48:20    2008-11-26   \n",
       "10          192000         0  Kurt Vile 2008-11-25 17:49:06    2008-11-26   \n",
       "20          256000         0        NaN 2008-11-26 01:48:56    2008-01-01   \n",
       "...            ...       ...        ...                 ...           ...   \n",
       "155316      320000         0        NaN 2017-03-30 15:23:34           NaT   \n",
       "155317      320000         0        NaN 2017-03-30 15:23:36           NaT   \n",
       "155318      320000         0        NaN 2017-03-30 15:23:37           NaT   \n",
       "155319      320000         0        NaN 2017-03-30 15:23:39           NaT   \n",
       "155320      320000         0        NaN 2017-03-30 09:15:36           NaT   \n",
       "\n",
       "          duration  favorites genre_top         genres         genres_all  \\\n",
       "track_id                                                                    \n",
       "2              168          2   Hip-Hop           [21]               [21]   \n",
       "3              237          1   Hip-Hop           [21]               [21]   \n",
       "5              206          6   Hip-Hop           [21]               [21]   \n",
       "10             161        178       Pop           [10]               [10]   \n",
       "20             311          0       NaN      [76, 103]  [17, 10, 76, 103]   \n",
       "...            ...        ...       ...            ...                ...   \n",
       "155316         162          1      Rock           [25]           [25, 12]   \n",
       "155317         217          1      Rock           [25]           [25, 12]   \n",
       "155318         404          2      Rock           [25]           [25, 12]   \n",
       "155319         146          0      Rock           [25]           [25, 12]   \n",
       "155320         198          1       NaN  [10, 12, 169]   [169, 10, 12, 9]   \n",
       "\n",
       "         information  interest language_code  \\\n",
       "track_id                                       \n",
       "2                NaN      4656            en   \n",
       "3                NaN      1470            en   \n",
       "5                NaN      1933            en   \n",
       "10               NaN     54881            en   \n",
       "20               NaN       978            en   \n",
       "...              ...       ...           ...   \n",
       "155316           NaN       122           NaN   \n",
       "155317           NaN       194           NaN   \n",
       "155318           NaN       214           NaN   \n",
       "155319           NaN       336           NaN   \n",
       "155320           NaN       972           NaN   \n",
       "\n",
       "                                                    license  listens lyricist  \\\n",
       "track_id                                                                        \n",
       "2         Attribution-NonCommercial-ShareAlike 3.0 Inter...     1293      NaN   \n",
       "3         Attribution-NonCommercial-ShareAlike 3.0 Inter...      514      NaN   \n",
       "5         Attribution-NonCommercial-ShareAlike 3.0 Inter...     1151      NaN   \n",
       "10        Attribution-NonCommercial-NoDerivatives (aka M...    50135      NaN   \n",
       "20        Attribution-NonCommercial-NoDerivatives (aka M...      361      NaN   \n",
       "...                                                     ...      ...      ...   \n",
       "155316    Creative Commons Attribution-NonCommercial-NoD...      102      NaN   \n",
       "155317    Creative Commons Attribution-NonCommercial-NoD...      165      NaN   \n",
       "155318    Creative Commons Attribution-NonCommercial-NoD...      168      NaN   \n",
       "155319    Creative Commons Attribution-NonCommercial-NoD...      294      NaN   \n",
       "155320                            Attribution-NonCommercial      705      NaN   \n",
       "\n",
       "          number publisher                                               tags  \\\n",
       "track_id                                                                        \n",
       "2              3       NaN                                                 []   \n",
       "3              4       NaN                                                 []   \n",
       "5              6       NaN                                                 []   \n",
       "10             1       NaN                                                 []   \n",
       "20             3       NaN                                                 []   \n",
       "...          ...       ...                                                ...   \n",
       "155316         3       NaN                                                 []   \n",
       "155317         4       NaN                                                 []   \n",
       "155318         6       NaN                                                 []   \n",
       "155319         5       NaN                                                 []   \n",
       "155320         7       NaN  [ballad, epic, rockabilly, curse, hex, hard ro...   \n",
       "\n",
       "                                              title  \n",
       "track_id                                             \n",
       "2                                              Food  \n",
       "3                                      Electric Ave  \n",
       "5                                        This World  \n",
       "10                                          Freeway  \n",
       "20                                  Spiritual Level  \n",
       "...                                             ...  \n",
       "155316                                    The Auger  \n",
       "155317                              Let's Skin Ruby  \n",
       "155318           My House Smells Like Kim Deal/Pulp  \n",
       "155319                      The Man With Two Mouths  \n",
       "155320    Another Trick Up My Sleeve (Instrumental)  \n",
       "\n",
       "[106574 rows x 20 columns]"
      ]
     },
     "execution_count": 7,
     "metadata": {},
     "output_type": "execute_result"
    }
   ],
   "source": [
    "tracks['track']"
   ]
  },
  {
   "cell_type": "code",
   "execution_count": 8,
   "metadata": {},
   "outputs": [
    {
     "name": "stdout",
     "output_type": "stream",
     "text": [
      "<class 'pandas.core.frame.DataFrame'>\n",
      "Int64Index: 106574 entries, 2 to 155320\n",
      "Data columns (total 20 columns):\n",
      " #   Column         Non-Null Count   Dtype         \n",
      "---  ------         --------------   -----         \n",
      " 0   bit_rate       106574 non-null  int64         \n",
      " 1   comments       106574 non-null  int64         \n",
      " 2   composer       3670 non-null    object        \n",
      " 3   date_created   106574 non-null  datetime64[ns]\n",
      " 4   date_recorded  6159 non-null    datetime64[ns]\n",
      " 5   duration       106574 non-null  int64         \n",
      " 6   favorites      106574 non-null  int64         \n",
      " 7   genre_top      49598 non-null   category      \n",
      " 8   genres         106574 non-null  object        \n",
      " 9   genres_all     106574 non-null  object        \n",
      " 10  information    2349 non-null    object        \n",
      " 11  interest       106574 non-null  int64         \n",
      " 12  language_code  15024 non-null   object        \n",
      " 13  license        106487 non-null  category      \n",
      " 14  listens        106574 non-null  int64         \n",
      " 15  lyricist       311 non-null     object        \n",
      " 16  number         106574 non-null  int64         \n",
      " 17  publisher      1263 non-null    object        \n",
      " 18  tags           106574 non-null  object        \n",
      " 19  title          106573 non-null  object        \n",
      "dtypes: category(2), datetime64[ns](2), int64(7), object(9)\n",
      "memory usage: 15.7+ MB\n"
     ]
    }
   ],
   "source": [
    "tracks['track'].info()"
   ]
  },
  {
   "cell_type": "code",
   "execution_count": 8,
   "metadata": {},
   "outputs": [
    {
     "data": {
      "text/plain": [
       "bit_rate              0\n",
       "comments              0\n",
       "composer         102904\n",
       "date_created          0\n",
       "date_recorded    100415\n",
       "duration              0\n",
       "favorites             0\n",
       "genre_top         56976\n",
       "genres                0\n",
       "genres_all            0\n",
       "information      104225\n",
       "interest              0\n",
       "language_code     91550\n",
       "license              87\n",
       "listens               0\n",
       "lyricist         106263\n",
       "number                0\n",
       "publisher        105311\n",
       "tags                  0\n",
       "title                 1\n",
       "dtype: int64"
      ]
     },
     "execution_count": 8,
     "metadata": {},
     "output_type": "execute_result"
    }
   ],
   "source": [
    "tracks['track'].isnull().sum() "
   ]
  },
  {
   "cell_type": "code",
   "execution_count": 9,
   "metadata": {},
   "outputs": [
    {
     "data": {
      "text/html": [
       "<div>\n",
       "<style scoped>\n",
       "    .dataframe tbody tr th:only-of-type {\n",
       "        vertical-align: middle;\n",
       "    }\n",
       "\n",
       "    .dataframe tbody tr th {\n",
       "        vertical-align: top;\n",
       "    }\n",
       "\n",
       "    .dataframe thead th {\n",
       "        text-align: right;\n",
       "    }\n",
       "</style>\n",
       "<table border=\"1\" class=\"dataframe\">\n",
       "  <thead>\n",
       "    <tr style=\"text-align: right;\">\n",
       "      <th></th>\n",
       "      <th>bit_rate</th>\n",
       "      <th>comments</th>\n",
       "      <th>duration</th>\n",
       "      <th>favorites</th>\n",
       "      <th>interest</th>\n",
       "      <th>listens</th>\n",
       "      <th>number</th>\n",
       "    </tr>\n",
       "  </thead>\n",
       "  <tbody>\n",
       "    <tr>\n",
       "      <th>count</th>\n",
       "      <td>106574.000000</td>\n",
       "      <td>106574.000000</td>\n",
       "      <td>106574.000000</td>\n",
       "      <td>106574.000000</td>\n",
       "      <td>1.065740e+05</td>\n",
       "      <td>106574.000000</td>\n",
       "      <td>106574.000000</td>\n",
       "    </tr>\n",
       "    <tr>\n",
       "      <th>mean</th>\n",
       "      <td>263274.695048</td>\n",
       "      <td>0.031621</td>\n",
       "      <td>277.849100</td>\n",
       "      <td>3.182521</td>\n",
       "      <td>3.541310e+03</td>\n",
       "      <td>2329.353548</td>\n",
       "      <td>8.260945</td>\n",
       "    </tr>\n",
       "    <tr>\n",
       "      <th>std</th>\n",
       "      <td>67623.443584</td>\n",
       "      <td>0.321993</td>\n",
       "      <td>305.518553</td>\n",
       "      <td>13.513820</td>\n",
       "      <td>1.901743e+04</td>\n",
       "      <td>8028.070647</td>\n",
       "      <td>15.243271</td>\n",
       "    </tr>\n",
       "    <tr>\n",
       "      <th>min</th>\n",
       "      <td>-1.000000</td>\n",
       "      <td>0.000000</td>\n",
       "      <td>0.000000</td>\n",
       "      <td>0.000000</td>\n",
       "      <td>2.000000e+00</td>\n",
       "      <td>0.000000</td>\n",
       "      <td>0.000000</td>\n",
       "    </tr>\n",
       "    <tr>\n",
       "      <th>25%</th>\n",
       "      <td>192000.000000</td>\n",
       "      <td>0.000000</td>\n",
       "      <td>149.000000</td>\n",
       "      <td>0.000000</td>\n",
       "      <td>5.990000e+02</td>\n",
       "      <td>292.000000</td>\n",
       "      <td>2.000000</td>\n",
       "    </tr>\n",
       "    <tr>\n",
       "      <th>50%</th>\n",
       "      <td>299914.000000</td>\n",
       "      <td>0.000000</td>\n",
       "      <td>216.000000</td>\n",
       "      <td>1.000000</td>\n",
       "      <td>1.314000e+03</td>\n",
       "      <td>764.000000</td>\n",
       "      <td>5.000000</td>\n",
       "    </tr>\n",
       "    <tr>\n",
       "      <th>75%</th>\n",
       "      <td>320000.000000</td>\n",
       "      <td>0.000000</td>\n",
       "      <td>305.000000</td>\n",
       "      <td>3.000000</td>\n",
       "      <td>3.059000e+03</td>\n",
       "      <td>2018.000000</td>\n",
       "      <td>9.000000</td>\n",
       "    </tr>\n",
       "    <tr>\n",
       "      <th>max</th>\n",
       "      <td>448000.000000</td>\n",
       "      <td>37.000000</td>\n",
       "      <td>18350.000000</td>\n",
       "      <td>1482.000000</td>\n",
       "      <td>3.293557e+06</td>\n",
       "      <td>543252.000000</td>\n",
       "      <td>255.000000</td>\n",
       "    </tr>\n",
       "  </tbody>\n",
       "</table>\n",
       "</div>"
      ],
      "text/plain": [
       "            bit_rate       comments       duration      favorites  \\\n",
       "count  106574.000000  106574.000000  106574.000000  106574.000000   \n",
       "mean   263274.695048       0.031621     277.849100       3.182521   \n",
       "std     67623.443584       0.321993     305.518553      13.513820   \n",
       "min        -1.000000       0.000000       0.000000       0.000000   \n",
       "25%    192000.000000       0.000000     149.000000       0.000000   \n",
       "50%    299914.000000       0.000000     216.000000       1.000000   \n",
       "75%    320000.000000       0.000000     305.000000       3.000000   \n",
       "max    448000.000000      37.000000   18350.000000    1482.000000   \n",
       "\n",
       "           interest        listens         number  \n",
       "count  1.065740e+05  106574.000000  106574.000000  \n",
       "mean   3.541310e+03    2329.353548       8.260945  \n",
       "std    1.901743e+04    8028.070647      15.243271  \n",
       "min    2.000000e+00       0.000000       0.000000  \n",
       "25%    5.990000e+02     292.000000       2.000000  \n",
       "50%    1.314000e+03     764.000000       5.000000  \n",
       "75%    3.059000e+03    2018.000000       9.000000  \n",
       "max    3.293557e+06  543252.000000     255.000000  "
      ]
     },
     "execution_count": 9,
     "metadata": {},
     "output_type": "execute_result"
    }
   ],
   "source": [
    "tracks['track'].describe() \n"
   ]
  },
  {
   "cell_type": "code",
   "execution_count": 10,
   "metadata": {},
   "outputs": [],
   "source": [
    "track=tracks['track'] "
   ]
  },
  {
   "cell_type": "markdown",
   "metadata": {},
   "source": [
    "## bit rate"
   ]
  },
  {
   "cell_type": "code",
   "execution_count": 11,
   "metadata": {},
   "outputs": [
    {
     "data": {
      "text/plain": [
       "320000    51918\n",
       "256000    17211\n",
       "192000    12876\n",
       "128000     6119\n",
       "160000     3859\n",
       "          ...  \n",
       "256023        1\n",
       "253974        1\n",
       "178175        1\n",
       "319410        1\n",
       "206885        1\n",
       "Name: bit_rate, Length: 12054, dtype: int64"
      ]
     },
     "execution_count": 11,
     "metadata": {},
     "output_type": "execute_result"
    }
   ],
   "source": [
    "track['bit_rate'].value_counts()"
   ]
  },
  {
   "cell_type": "code",
   "execution_count": 12,
   "metadata": {},
   "outputs": [
    {
     "data": {
      "text/plain": [
       "91983"
      ]
     },
     "execution_count": 12,
     "metadata": {},
     "output_type": "execute_result"
    }
   ],
   "source": [
    "51918+17211+12876+6119+3859"
   ]
  },
  {
   "cell_type": "code",
   "execution_count": 13,
   "metadata": {},
   "outputs": [
    {
     "data": {
      "image/png": "[encoded data removed]",
      "text/plain": [
       "<Figure size 1224x360 with 1 Axes>"
      ]
     },
     "metadata": {
      "needs_background": "light"
     },
     "output_type": "display_data"
    }
   ],
   "source": [
    "#plt.figure(figsize=(20, 15))\n",
    "\n",
    "track['bit_rate'].hist(bins=60)\n",
    "plt.title(\"bit_rate\")\n",
    "plt.xlabel('')\n",
    "plt.ylabel('Count')\n",
    "\n",
    "plt.show()"
   ]
  },
  {
   "cell_type": "markdown",
   "metadata": {},
   "source": [
    "Il bitrate è la quantità di dati consumati per trasmettere un flusso audio nell'unità di tempo. Quindi, più alto è il bitrate della traccia, più spazio occupa sul computer. D'altra parte, considerando lo stesso formato, un bitrate più alto implica una migliore qualità del suono. \n",
    "\n",
    "variabile numerica discreta\n",
    "\n",
    "0 Null Value\n",
    "\n",
    "Picchi in questi 5 valori che rappresentano 91983 su 106574 record, 86% del totale:\n",
    "\n",
    "320000    51918\n",
    "\n",
    "256000    17211\n",
    "\n",
    "192000    12876\n",
    "\n",
    "128000     6119\n",
    "\n",
    "160000     3859\n",
    "\n"
   ]
  },
  {
   "cell_type": "markdown",
   "metadata": {},
   "source": [
    "## comments"
   ]
  },
  {
   "cell_type": "code",
   "execution_count": 14,
   "metadata": {},
   "outputs": [
    {
     "data": {
      "text/plain": [
       "0     104423\n",
       "1       1508\n",
       "2        415\n",
       "3        133\n",
       "4         40\n",
       "5         19\n",
       "6         10\n",
       "7          5\n",
       "8          5\n",
       "9          4\n",
       "10         3\n",
       "12         2\n",
       "16         2\n",
       "30         1\n",
       "11         1\n",
       "19         1\n",
       "24         1\n",
       "37         1\n",
       "Name: comments, dtype: int64"
      ]
     },
     "execution_count": 14,
     "metadata": {},
     "output_type": "execute_result"
    }
   ],
   "source": [
    "track['comments'].value_counts()"
   ]
  },
  {
   "cell_type": "markdown",
   "metadata": {},
   "source": [
    "Riporta il numero di commenti ricevuti dalla track. \n",
    "\n",
    "variabile numerica discreta\n",
    "\n",
    "0 null value\n",
    "\n",
    "104423 su 106574 record sono con valore zero, cioè il 98%"
   ]
  },
  {
   "cell_type": "markdown",
   "metadata": {},
   "source": [
    "## composer"
   ]
  },
  {
   "cell_type": "code",
   "execution_count": 15,
   "metadata": {},
   "outputs": [
    {
     "data": {
      "text/plain": [
       "konstantin trokai                                                       541\n",
       "Chad Crouch                                                             465\n",
       "J.S. Bach                                                               346\n",
       "konstantin trokay                                                       223\n",
       "Chris Zabriskie                                                          89\n",
       "                                                                       ... \n",
       "LMM 2.6 - Frequency Histograms for Predictor Variables (August 2009)      1\n",
       "Dan Tapper                                                                1\n",
       "Unknown                                                                   1\n",
       "Sam Copp                                                                  1\n",
       "8 Bit Weapon                                                              1\n",
       "Name: composer, Length: 505, dtype: int64"
      ]
     },
     "execution_count": 15,
     "metadata": {},
     "output_type": "execute_result"
    }
   ],
   "source": [
    "x=track['composer'].value_counts()\n",
    "x"
   ]
  },
  {
   "cell_type": "code",
   "execution_count": 16,
   "metadata": {},
   "outputs": [
    {
     "data": {
      "text/html": [
       "<div>\n",
       "<style scoped>\n",
       "    .dataframe tbody tr th:only-of-type {\n",
       "        vertical-align: middle;\n",
       "    }\n",
       "\n",
       "    .dataframe tbody tr th {\n",
       "        vertical-align: top;\n",
       "    }\n",
       "\n",
       "    .dataframe thead th {\n",
       "        text-align: right;\n",
       "    }\n",
       "</style>\n",
       "<table border=\"1\" class=\"dataframe\">\n",
       "  <thead>\n",
       "    <tr style=\"text-align: right;\">\n",
       "      <th></th>\n",
       "      <th>composer</th>\n",
       "    </tr>\n",
       "  </thead>\n",
       "  <tbody>\n",
       "    <tr>\n",
       "      <th>konstantin trokai</th>\n",
       "      <td>541</td>\n",
       "    </tr>\n",
       "    <tr>\n",
       "      <th>Chad Crouch</th>\n",
       "      <td>465</td>\n",
       "    </tr>\n",
       "    <tr>\n",
       "      <th>J.S. Bach</th>\n",
       "      <td>346</td>\n",
       "    </tr>\n",
       "    <tr>\n",
       "      <th>konstantin trokay</th>\n",
       "      <td>223</td>\n",
       "    </tr>\n",
       "    <tr>\n",
       "      <th>Chris Zabriskie</th>\n",
       "      <td>89</td>\n",
       "    </tr>\n",
       "    <tr>\n",
       "      <th>Jared C. Balogh</th>\n",
       "      <td>85</td>\n",
       "    </tr>\n",
       "    <tr>\n",
       "      <th>Shadow Entity Wizard</th>\n",
       "      <td>69</td>\n",
       "    </tr>\n",
       "    <tr>\n",
       "      <th>Eddie Palmer</th>\n",
       "      <td>48</td>\n",
       "    </tr>\n",
       "    <tr>\n",
       "      <th>Apache Tomcat</th>\n",
       "      <td>44</td>\n",
       "    </tr>\n",
       "    <tr>\n",
       "      <th>Franz Joseph Haydn</th>\n",
       "      <td>44</td>\n",
       "    </tr>\n",
       "    <tr>\n",
       "      <th>Eddie Palmer, Brett Zehner</th>\n",
       "      <td>32</td>\n",
       "    </tr>\n",
       "    <tr>\n",
       "      <th>Richard Alexander Caraballo</th>\n",
       "      <td>27</td>\n",
       "    </tr>\n",
       "    <tr>\n",
       "      <th>Charles-Valentin Alkan</th>\n",
       "      <td>25</td>\n",
       "    </tr>\n",
       "    <tr>\n",
       "      <th>Wayne Myers</th>\n",
       "      <td>24</td>\n",
       "    </tr>\n",
       "    <tr>\n",
       "      <th>Carl Orff</th>\n",
       "      <td>24</td>\n",
       "    </tr>\n",
       "    <tr>\n",
       "      <th>Kirk Pearson</th>\n",
       "      <td>23</td>\n",
       "    </tr>\n",
       "    <tr>\n",
       "      <th>Alex Gross</th>\n",
       "      <td>22</td>\n",
       "    </tr>\n",
       "    <tr>\n",
       "      <th>Kris Anderson</th>\n",
       "      <td>20</td>\n",
       "    </tr>\n",
       "    <tr>\n",
       "      <th>Ryan Claus</th>\n",
       "      <td>20</td>\n",
       "    </tr>\n",
       "    <tr>\n",
       "      <th>Squire Tuck</th>\n",
       "      <td>19</td>\n",
       "    </tr>\n",
       "    <tr>\n",
       "      <th>Jad Fair</th>\n",
       "      <td>19</td>\n",
       "    </tr>\n",
       "    <tr>\n",
       "      <th>Andy G. Cohen</th>\n",
       "      <td>19</td>\n",
       "    </tr>\n",
       "    <tr>\n",
       "      <th>Kathleen Martin</th>\n",
       "      <td>18</td>\n",
       "    </tr>\n",
       "    <tr>\n",
       "      <th>Kai Engel</th>\n",
       "      <td>18</td>\n",
       "    </tr>\n",
       "    <tr>\n",
       "      <th>Brian Joseph Davis</th>\n",
       "      <td>18</td>\n",
       "    </tr>\n",
       "    <tr>\n",
       "      <th>Luc Marcotte</th>\n",
       "      <td>18</td>\n",
       "    </tr>\n",
       "    <tr>\n",
       "      <th>J. Siemasko</th>\n",
       "      <td>17</td>\n",
       "    </tr>\n",
       "    <tr>\n",
       "      <th>Curtis Hasselbring</th>\n",
       "      <td>17</td>\n",
       "    </tr>\n",
       "    <tr>\n",
       "      <th>Modest Mussorgsky</th>\n",
       "      <td>15</td>\n",
       "    </tr>\n",
       "    <tr>\n",
       "      <th>Nathan Story</th>\n",
       "      <td>15</td>\n",
       "    </tr>\n",
       "    <tr>\n",
       "      <th>T. Ferrans</th>\n",
       "      <td>15</td>\n",
       "    </tr>\n",
       "    <tr>\n",
       "      <th>Nick Andrews</th>\n",
       "      <td>15</td>\n",
       "    </tr>\n",
       "    <tr>\n",
       "      <th>Shawn Greenlee</th>\n",
       "      <td>15</td>\n",
       "    </tr>\n",
       "    <tr>\n",
       "      <th>Dan Burke</th>\n",
       "      <td>15</td>\n",
       "    </tr>\n",
       "    <tr>\n",
       "      <th>Lou Barlow</th>\n",
       "      <td>14</td>\n",
       "    </tr>\n",
       "    <tr>\n",
       "      <th>Mors Ontologica</th>\n",
       "      <td>14</td>\n",
       "    </tr>\n",
       "    <tr>\n",
       "      <th>Allister Thompson</th>\n",
       "      <td>14</td>\n",
       "    </tr>\n",
       "    <tr>\n",
       "      <th>Walter Bronhard + Dylan Going + Dave Public</th>\n",
       "      <td>13</td>\n",
       "    </tr>\n",
       "    <tr>\n",
       "      <th>Derek Clegg</th>\n",
       "      <td>13</td>\n",
       "    </tr>\n",
       "    <tr>\n",
       "      <th>Ed Askew</th>\n",
       "      <td>13</td>\n",
       "    </tr>\n",
       "    <tr>\n",
       "      <th>A. Paterson</th>\n",
       "      <td>13</td>\n",
       "    </tr>\n",
       "    <tr>\n",
       "      <th>Cooper Moore</th>\n",
       "      <td>13</td>\n",
       "    </tr>\n",
       "    <tr>\n",
       "      <th>Konstantin Trokai</th>\n",
       "      <td>13</td>\n",
       "    </tr>\n",
       "    <tr>\n",
       "      <th>T Ferrans</th>\n",
       "      <td>13</td>\n",
       "    </tr>\n",
       "    <tr>\n",
       "      <th>Eddie Palmer</th>\n",
       "      <td>12</td>\n",
       "    </tr>\n",
       "    <tr>\n",
       "      <th>Joshua Cunningham</th>\n",
       "      <td>12</td>\n",
       "    </tr>\n",
       "    <tr>\n",
       "      <th>J Hacha de Zola</th>\n",
       "      <td>11</td>\n",
       "    </tr>\n",
       "    <tr>\n",
       "      <th>Romak &amp; the Space Pirates</th>\n",
       "      <td>11</td>\n",
       "    </tr>\n",
       "    <tr>\n",
       "      <th>eddie palmer</th>\n",
       "      <td>11</td>\n",
       "    </tr>\n",
       "    <tr>\n",
       "      <th>Mitoma</th>\n",
       "      <td>11</td>\n",
       "    </tr>\n",
       "    <tr>\n",
       "      <th>Melodie Provenzano</th>\n",
       "      <td>11</td>\n",
       "    </tr>\n",
       "  </tbody>\n",
       "</table>\n",
       "</div>"
      ],
      "text/plain": [
       "                                             composer\n",
       "konstantin trokai                                 541\n",
       "Chad Crouch                                       465\n",
       "J.S. Bach                                         346\n",
       "konstantin trokay                                 223\n",
       "Chris Zabriskie                                    89\n",
       "Jared C. Balogh                                    85\n",
       "Shadow Entity Wizard                               69\n",
       "Eddie Palmer                                       48\n",
       "Apache Tomcat                                      44\n",
       "Franz Joseph Haydn                                 44\n",
       "Eddie Palmer, Brett Zehner                         32\n",
       "Richard Alexander Caraballo                        27\n",
       "Charles-Valentin Alkan                             25\n",
       "Wayne Myers                                        24\n",
       "Carl Orff                                          24\n",
       "Kirk Pearson                                       23\n",
       "Alex Gross                                         22\n",
       "Kris Anderson                                      20\n",
       "Ryan Claus                                         20\n",
       "Squire Tuck                                        19\n",
       "Jad Fair                                           19\n",
       "Andy G. Cohen                                      19\n",
       "Kathleen Martin                                    18\n",
       "Kai Engel                                          18\n",
       "Brian Joseph Davis                                 18\n",
       "Luc Marcotte                                       18\n",
       "J. Siemasko                                        17\n",
       "Curtis Hasselbring                                 17\n",
       "Modest Mussorgsky                                  15\n",
       "Nathan Story                                       15\n",
       "T. Ferrans                                         15\n",
       "Nick Andrews                                       15\n",
       "Shawn Greenlee                                     15\n",
       "Dan Burke                                          15\n",
       "Lou Barlow                                         14\n",
       "Mors Ontologica                                    14\n",
       "Allister Thompson                                  14\n",
       "Walter Bronhard + Dylan Going + Dave Public        13\n",
       "Derek Clegg                                        13\n",
       "Ed Askew                                           13\n",
       "A. Paterson                                        13\n",
       "Cooper Moore                                       13\n",
       "Konstantin Trokai                                  13\n",
       "T Ferrans                                          13\n",
       "Eddie Palmer                                       12\n",
       "Joshua Cunningham                                  12\n",
       "J Hacha de Zola                                    11\n",
       "Romak & the Space Pirates                          11\n",
       "eddie palmer                                       11\n",
       "Mitoma                                             11\n",
       "Melodie Provenzano                                 11"
      ]
     },
     "execution_count": 16,
     "metadata": {},
     "output_type": "execute_result"
    }
   ],
   "source": [
    "df = pd.DataFrame(x, columns = ['composer']) \n",
    "df2=pd.DataFrame(df.loc[df.composer >10])\n",
    "df2"
   ]
  },
  {
   "cell_type": "code",
   "execution_count": 17,
   "metadata": {},
   "outputs": [
    {
     "name": "stdout",
     "output_type": "stream",
     "text": [
      "<class 'pandas.core.frame.DataFrame'>\n",
      "Index: 51 entries, konstantin trokai to Melodie Provenzano\n",
      "Data columns (total 1 columns):\n",
      " #   Column    Non-Null Count  Dtype\n",
      "---  ------    --------------  -----\n",
      " 0   composer  51 non-null     int64\n",
      "dtypes: int64(1)\n",
      "memory usage: 816.0+ bytes\n"
     ]
    }
   ],
   "source": [
    "df2.info()\n"
   ]
  },
  {
   "cell_type": "markdown",
   "metadata": {},
   "source": [
    "Attributo categorico\n",
    "\n",
    "102904 valori null su 106574 record, 97% del totale\n",
    "\n",
    "505 compositori diversi per i 3670 record che non hanno valore null, 51 compositori hanno più di 10 tracks nel database\n",
    "\n"
   ]
  },
  {
   "cell_type": "markdown",
   "metadata": {},
   "source": [
    "## date_created"
   ]
  },
  {
   "cell_type": "code",
   "execution_count": 18,
   "metadata": {},
   "outputs": [
    {
     "data": {
      "text/plain": [
       "2009-06-25 11:36:04    4\n",
       "2009-04-20 22:30:54    4\n",
       "2009-05-05 09:31:42    4\n",
       "2009-03-05 09:45:49    4\n",
       "2009-04-30 15:22:50    4\n",
       "                      ..\n",
       "2011-02-02 12:51:52    1\n",
       "2013-06-17 09:09:48    1\n",
       "2016-06-17 02:18:11    1\n",
       "2010-12-10 17:34:19    1\n",
       "2012-07-30 23:33:04    1\n",
       "Name: date_created, Length: 86169, dtype: int64"
      ]
     },
     "execution_count": 18,
     "metadata": {},
     "output_type": "execute_result"
    }
   ],
   "source": [
    "track['date_created'].value_counts()"
   ]
  },
  {
   "cell_type": "code",
   "execution_count": 19,
   "metadata": {},
   "outputs": [
    {
     "data": {
      "image/png": "[encoded data removed]",
      "text/plain": [
       "<Figure size 1224x360 with 1 Axes>"
      ]
     },
     "metadata": {
      "needs_background": "light"
     },
     "output_type": "display_data"
    }
   ],
   "source": [
    "track['date_created'].hist(bins=60)\n",
    "plt.title(\"date_created\")\n",
    "plt.xlabel('')\n",
    "plt.ylabel('Count')\n",
    "\n",
    "plt.show()"
   ]
  },
  {
   "cell_type": "markdown",
   "metadata": {},
   "source": [
    "data di inserimento della track nel database, attributo espresso come date time con data e ora\n",
    "\n",
    "no null value\n",
    "\n",
    "valori ben distribuiti tra il 2008 e il 2017"
   ]
  },
  {
   "cell_type": "markdown",
   "metadata": {},
   "source": [
    "## date_recorded"
   ]
  },
  {
   "cell_type": "code",
   "execution_count": 20,
   "metadata": {},
   "outputs": [
    {
     "data": {
      "text/plain": [
       "2008-11-26    700\n",
       "1997-01-01    141\n",
       "2003-01-01    124\n",
       "2006-01-01    110\n",
       "2008-12-05    105\n",
       "             ... \n",
       "2003-09-13      1\n",
       "2009-12-17      1\n",
       "2004-04-28      1\n",
       "2012-03-04      1\n",
       "2006-07-15      1\n",
       "Name: date_recorded, Length: 773, dtype: int64"
      ]
     },
     "execution_count": 20,
     "metadata": {},
     "output_type": "execute_result"
    }
   ],
   "source": [
    "track['date_recorded'].value_counts()"
   ]
  },
  {
   "cell_type": "code",
   "execution_count": 21,
   "metadata": {},
   "outputs": [
    {
     "data": {
      "image/png": "[encoded data removed]",
      "text/plain": [
       "<Figure size 1224x360 with 1 Axes>"
      ]
     },
     "metadata": {
      "needs_background": "light"
     },
     "output_type": "display_data"
    }
   ],
   "source": [
    "track['date_recorded'].hist(bins=60)\n",
    "plt.title(\"date_recorded\")\n",
    "plt.xlabel('')\n",
    "plt.ylabel('Count')\n",
    "\n",
    "plt.show()"
   ]
  },
  {
   "cell_type": "code",
   "execution_count": 22,
   "metadata": {},
   "outputs": [
    {
     "name": "stderr",
     "output_type": "stream",
     "text": [
      "<ipython-input-22-5c823bbf583c>:1: SettingWithCopyWarning: \n",
      "A value is trying to be set on a copy of a slice from a DataFrame.\n",
      "Try using .loc[row_indexer,col_indexer] = value instead\n",
      "\n",
      "See the caveats in the documentation: https://pandas.pydata.org/pandas-docs/stable/user_guide/indexing.html#returning-a-view-versus-a-copy\n",
      "  track['date_recorded_year'] = [d.year for d in pd.to_datetime(track['date_recorded'])]\n"
     ]
    }
   ],
   "source": [
    "track['date_recorded_year'] = [d.year for d in pd.to_datetime(track['date_recorded'])]"
   ]
  },
  {
   "cell_type": "code",
   "execution_count": 23,
   "metadata": {},
   "outputs": [
    {
     "data": {
      "text/plain": [
       "2008.0    1952\n",
       "2009.0     608\n",
       "2005.0     429\n",
       "2007.0     354\n",
       "2016.0     327\n",
       "          ... \n",
       "1992.0       1\n",
       "1955.0       1\n",
       "1989.0       1\n",
       "1980.0       1\n",
       "1896.0       1\n",
       "Name: date_recorded_year, Length: 67, dtype: int64"
      ]
     },
     "execution_count": 23,
     "metadata": {},
     "output_type": "execute_result"
    }
   ],
   "source": [
    "track['date_recorded_year'].value_counts()"
   ]
  },
  {
   "cell_type": "code",
   "execution_count": 24,
   "metadata": {},
   "outputs": [
    {
     "data": {
      "text/plain": [
       "1896.0"
      ]
     },
     "execution_count": 24,
     "metadata": {},
     "output_type": "execute_result"
    }
   ],
   "source": [
    "min(track['date_recorded_year'])"
   ]
  },
  {
   "cell_type": "code",
   "execution_count": 25,
   "metadata": {},
   "outputs": [
    {
     "data": {
      "text/plain": [
       "2017.0"
      ]
     },
     "execution_count": 25,
     "metadata": {},
     "output_type": "execute_result"
    }
   ],
   "source": [
    "max(track['date_recorded_year'])"
   ]
  },
  {
   "cell_type": "code",
   "execution_count": 26,
   "metadata": {},
   "outputs": [],
   "source": [
    "del track['date_recorded_year']"
   ]
  },
  {
   "cell_type": "markdown",
   "metadata": {},
   "source": [
    "Anno di registrazione della track\n",
    "\n",
    "attributo date time, va dal 1896 al 2017\n",
    "\n",
    "100415 null value su 106574 record, 94% del totale\n",
    "\n",
    "picco di 1952 record su 6159 not null, nell'anno 2008"
   ]
  },
  {
   "cell_type": "markdown",
   "metadata": {},
   "source": [
    "## duration"
   ]
  },
  {
   "cell_type": "code",
   "execution_count": 27,
   "metadata": {},
   "outputs": [
    {
     "data": {
      "text/plain": [
       "180     595\n",
       "192     520\n",
       "240     510\n",
       "60      506\n",
       "182     472\n",
       "       ... \n",
       "2078      1\n",
       "2014      1\n",
       "1758      1\n",
       "1694      1\n",
       "2846      1\n",
       "Name: duration, Length: 2246, dtype: int64"
      ]
     },
     "execution_count": 27,
     "metadata": {},
     "output_type": "execute_result"
    }
   ],
   "source": [
    "x=track['duration'].value_counts()\n",
    "x"
   ]
  },
  {
   "cell_type": "code",
   "execution_count": 28,
   "metadata": {},
   "outputs": [
    {
     "data": {
      "image/png": "[encoded data removed]",
      "text/plain": [
       "<Figure size 1224x360 with 1 Axes>"
      ]
     },
     "metadata": {
      "needs_background": "light"
     },
     "output_type": "display_data"
    }
   ],
   "source": [
    "track['duration'].hist(bins=100)\n",
    "plt.title(\"duration\")\n",
    "plt.xlabel('')\n",
    "plt.ylabel('Count')\n",
    "\n",
    "plt.show()"
   ]
  },
  {
   "cell_type": "code",
   "execution_count": 29,
   "metadata": {},
   "outputs": [
    {
     "data": {
      "text/html": [
       "<div>\n",
       "<style scoped>\n",
       "    .dataframe tbody tr th:only-of-type {\n",
       "        vertical-align: middle;\n",
       "    }\n",
       "\n",
       "    .dataframe tbody tr th {\n",
       "        vertical-align: top;\n",
       "    }\n",
       "\n",
       "    .dataframe thead th {\n",
       "        text-align: right;\n",
       "    }\n",
       "</style>\n",
       "<table border=\"1\" class=\"dataframe\">\n",
       "  <thead>\n",
       "    <tr style=\"text-align: right;\">\n",
       "      <th></th>\n",
       "      <th>duration</th>\n",
       "    </tr>\n",
       "    <tr>\n",
       "      <th>track_id</th>\n",
       "      <th></th>\n",
       "    </tr>\n",
       "  </thead>\n",
       "  <tbody>\n",
       "    <tr>\n",
       "      <th>2</th>\n",
       "      <td>168</td>\n",
       "    </tr>\n",
       "    <tr>\n",
       "      <th>3</th>\n",
       "      <td>237</td>\n",
       "    </tr>\n",
       "    <tr>\n",
       "      <th>5</th>\n",
       "      <td>206</td>\n",
       "    </tr>\n",
       "    <tr>\n",
       "      <th>10</th>\n",
       "      <td>161</td>\n",
       "    </tr>\n",
       "    <tr>\n",
       "      <th>20</th>\n",
       "      <td>311</td>\n",
       "    </tr>\n",
       "    <tr>\n",
       "      <th>...</th>\n",
       "      <td>...</td>\n",
       "    </tr>\n",
       "    <tr>\n",
       "      <th>155316</th>\n",
       "      <td>162</td>\n",
       "    </tr>\n",
       "    <tr>\n",
       "      <th>155317</th>\n",
       "      <td>217</td>\n",
       "    </tr>\n",
       "    <tr>\n",
       "      <th>155318</th>\n",
       "      <td>404</td>\n",
       "    </tr>\n",
       "    <tr>\n",
       "      <th>155319</th>\n",
       "      <td>146</td>\n",
       "    </tr>\n",
       "    <tr>\n",
       "      <th>155320</th>\n",
       "      <td>198</td>\n",
       "    </tr>\n",
       "  </tbody>\n",
       "</table>\n",
       "<p>104006 rows × 1 columns</p>\n",
       "</div>"
      ],
      "text/plain": [
       "          duration\n",
       "track_id          \n",
       "2              168\n",
       "3              237\n",
       "5              206\n",
       "10             161\n",
       "20             311\n",
       "...            ...\n",
       "155316         162\n",
       "155317         217\n",
       "155318         404\n",
       "155319         146\n",
       "155320         198\n",
       "\n",
       "[104006 rows x 1 columns]"
      ]
     },
     "execution_count": 29,
     "metadata": {},
     "output_type": "execute_result"
    }
   ],
   "source": [
    "df = pd.DataFrame(track['duration'], columns = ['duration']) \n",
    "df2=pd.DataFrame(df.loc[df.duration <1000])\n",
    "df2"
   ]
  },
  {
   "cell_type": "code",
   "execution_count": 30,
   "metadata": {},
   "outputs": [
    {
     "data": {
      "image/png": "[encoded data removed]",
      "text/plain": [
       "<Figure size 1224x360 with 1 Axes>"
      ]
     },
     "metadata": {
      "needs_background": "light"
     },
     "output_type": "display_data"
    }
   ],
   "source": [
    "df2['duration'].hist(bins=100)\n",
    "plt.title(\"duration\")\n",
    "plt.xlabel('')\n",
    "plt.ylabel('Count')\n",
    "\n",
    "plt.show()"
   ]
  },
  {
   "cell_type": "markdown",
   "metadata": {},
   "source": [
    "duration è la durata della track in secondi\n",
    "\n",
    "attributo numerico discreto \n",
    " \n",
    "not null value \n",
    "\n",
    "gaussiana ben evidente con picco a 180 secondi se togliamo i valori sopra mille"
   ]
  },
  {
   "cell_type": "markdown",
   "metadata": {},
   "source": [
    "## favorites"
   ]
  },
  {
   "cell_type": "code",
   "execution_count": 31,
   "metadata": {},
   "outputs": [
    {
     "data": {
      "text/plain": [
       "0      41979\n",
       "1      23666\n",
       "2      12488\n",
       "3       7324\n",
       "4       4631\n",
       "       ...  \n",
       "161        1\n",
       "288        1\n",
       "479        1\n",
       "221        1\n",
       "157        1\n",
       "Name: favorites, Length: 243, dtype: int64"
      ]
     },
     "execution_count": 31,
     "metadata": {},
     "output_type": "execute_result"
    }
   ],
   "source": [
    "track['favorites'].value_counts()"
   ]
  },
  {
   "cell_type": "code",
   "execution_count": 32,
   "metadata": {},
   "outputs": [
    {
     "data": {
      "image/png": "[encoded data removed]",
      "text/plain": [
       "<Figure size 1224x360 with 1 Axes>"
      ]
     },
     "metadata": {
      "needs_background": "light"
     },
     "output_type": "display_data"
    }
   ],
   "source": [
    "track['favorites'].hist(bins=100)\n",
    "plt.title(\"favorites\")\n",
    "plt.xlabel('')\n",
    "plt.ylabel('Count')\n",
    "\n",
    "plt.show()"
   ]
  },
  {
   "cell_type": "code",
   "execution_count": 33,
   "metadata": {},
   "outputs": [
    {
     "data": {
      "text/plain": [
       "1482"
      ]
     },
     "execution_count": 33,
     "metadata": {},
     "output_type": "execute_result"
    }
   ],
   "source": [
    "max(track['favorites'])"
   ]
  },
  {
   "cell_type": "code",
   "execution_count": 34,
   "metadata": {},
   "outputs": [
    {
     "data": {
      "text/html": [
       "<div>\n",
       "<style scoped>\n",
       "    .dataframe tbody tr th:only-of-type {\n",
       "        vertical-align: middle;\n",
       "    }\n",
       "\n",
       "    .dataframe tbody tr th {\n",
       "        vertical-align: top;\n",
       "    }\n",
       "\n",
       "    .dataframe thead th {\n",
       "        text-align: right;\n",
       "    }\n",
       "</style>\n",
       "<table border=\"1\" class=\"dataframe\">\n",
       "  <thead>\n",
       "    <tr style=\"text-align: right;\">\n",
       "      <th></th>\n",
       "      <th>favorites</th>\n",
       "    </tr>\n",
       "    <tr>\n",
       "      <th>track_id</th>\n",
       "      <th></th>\n",
       "    </tr>\n",
       "  </thead>\n",
       "  <tbody>\n",
       "    <tr>\n",
       "      <th>10</th>\n",
       "      <td>178</td>\n",
       "    </tr>\n",
       "    <tr>\n",
       "      <th>236</th>\n",
       "      <td>24</td>\n",
       "    </tr>\n",
       "    <tr>\n",
       "      <th>255</th>\n",
       "      <td>24</td>\n",
       "    </tr>\n",
       "    <tr>\n",
       "      <th>459</th>\n",
       "      <td>45</td>\n",
       "    </tr>\n",
       "    <tr>\n",
       "      <th>461</th>\n",
       "      <td>26</td>\n",
       "    </tr>\n",
       "    <tr>\n",
       "      <th>...</th>\n",
       "      <td>...</td>\n",
       "    </tr>\n",
       "    <tr>\n",
       "      <th>150281</th>\n",
       "      <td>24</td>\n",
       "    </tr>\n",
       "    <tr>\n",
       "      <th>150282</th>\n",
       "      <td>22</td>\n",
       "    </tr>\n",
       "    <tr>\n",
       "      <th>152480</th>\n",
       "      <td>22</td>\n",
       "    </tr>\n",
       "    <tr>\n",
       "      <th>152512</th>\n",
       "      <td>33</td>\n",
       "    </tr>\n",
       "    <tr>\n",
       "      <th>153737</th>\n",
       "      <td>32</td>\n",
       "    </tr>\n",
       "  </tbody>\n",
       "</table>\n",
       "<p>2447 rows × 1 columns</p>\n",
       "</div>"
      ],
      "text/plain": [
       "          favorites\n",
       "track_id           \n",
       "10              178\n",
       "236              24\n",
       "255              24\n",
       "459              45\n",
       "461              26\n",
       "...             ...\n",
       "150281           24\n",
       "150282           22\n",
       "152480           22\n",
       "152512           33\n",
       "153737           32\n",
       "\n",
       "[2447 rows x 1 columns]"
      ]
     },
     "execution_count": 34,
     "metadata": {},
     "output_type": "execute_result"
    }
   ],
   "source": [
    "df = pd.DataFrame(track['favorites'], columns = ['favorites']) \n",
    "df2=pd.DataFrame(df.loc[df.favorites >20])\n",
    "df2"
   ]
  },
  {
   "cell_type": "code",
   "execution_count": 35,
   "metadata": {},
   "outputs": [
    {
     "data": {
      "text/plain": [
       "21     190\n",
       "22     152\n",
       "24     144\n",
       "23     133\n",
       "26     106\n",
       "      ... \n",
       "432      1\n",
       "424      1\n",
       "422      1\n",
       "412      1\n",
       "554      1\n",
       "Name: favorites, Length: 222, dtype: int64"
      ]
     },
     "execution_count": 35,
     "metadata": {},
     "output_type": "execute_result"
    }
   ],
   "source": [
    "df2['favorites'].value_counts()"
   ]
  },
  {
   "cell_type": "markdown",
   "metadata": {},
   "source": [
    "favorites indica quanti utenti hanno scelto una track come favorita\n",
    "\n",
    "attributo numerico discreto\n",
    "\n",
    "not null value \n",
    "\n",
    "solo 2447 tracks sono state selezionate come favorite da più di 20 utenti"
   ]
  },
  {
   "cell_type": "markdown",
   "metadata": {},
   "source": [
    "## information"
   ]
  },
  {
   "cell_type": "code",
   "execution_count": 36,
   "metadata": {},
   "outputs": [
    {
     "data": {
      "text/plain": [
       "<p><a href=\"http://www.myspace.com/theshamblers\">The Shamblers</a> shambled down from Bay Ridge, Brooklyn to grace us with a live performance last Wednesday.&nbsp; Led by husband/wife team of Peter and Jess Speer, and ably augmented by drummer Ben Truesdale, the Shamblers brought their blend of Beat Happening/Home Blitz pop roughness plus classic garage punk action with lyrics to match.&nbsp; More info at <a href=\"http://www.colonialrecordingsusa.com/\">their label site</a> (where you can purchase their 100-song mp3 album) and <a href=\"http://theshamblers.blogspot.com/\">their blog</a>.&nbsp; The full set, plus two FCC-unfriendly bonus tracks found below.&nbsp; Engineered by Trent Wolbe.&nbsp; You've been shambled.</p>\\n<p><a href=\"http://blog.wfmu.org/freeform/2008/07/the-shamblers-l.html\" target=\"_blank\">http://blog.wfmu.org/freeform/2008/07/the-shamblers-l.html</a></p>\\n<p><a href=\"http://www.wfmu.org/playlists/shows/27951\" target=\"_blank\">http://www.wfmu.org/playlists/shows/27951</a></p>                                                                                                                                                                                                                                                                                                                                                                                                                                                                                                                                                                                                                                                                                                                                                                                                                                                                                                                                                                                                                                                                                                                                                                                                                                                                                                                                                                                                                                                                                                                                                                                                            22\n",
       "Produced in May 2016.                                                                                                                                                                                                                                                                                                                                                                                                                                                                                                                                                                                                                                                                                                                                                                                                                                                                                                                                                                                                                                                                                                                                                                                                                                                                                                                                                                                                                                                                                                                                                                                                                                                                                                                                                                                                                                                                                                                                                                                                                                                                                                                                                                                                                                                                                                                                                                                                                                                                                                                                                                                                                                   20\n",
       "<div>We made our music available under the Creative Common license BY, but would like to add the non existing code ‘NAD'</div><p>NAD stands for \"No Audio Derivates’ In\\n other words you can freely use (part of) our tracks in a film or video,\\n but cannot remix or re-use part of our tracks in other musical work \\nwithout our permission. We’d appreciate it if you could let us know \\nwhere/when you used our music. <br><br>As an extra service we can make \\ncustom edits or mixes for you. You can choose fragments, loops, solo-ed \\ninstruments, remixes, etc.<br>Please feel free to contact us if you want to know more about using and/or customising our music  in your project.<span class=\"im\"><br></span></p>                                                                                                                                                                                                                                                                                                                                                                                                                                                                                                                                                                                                                                                                                                                                                                                                                                                                                                                                                                                                                                                                                                                                                                                                                                                                                                                                                                                                                                                                                                                                                                                                                                                                                                                                                                                                                                                                                                                     18\n",
       "<p><em>by Brian Turner via <a href=\"http://blog.wfmu.org/freeform/2008/05/negative-approa.html\" target=\"_blank\">WFMU's Beware of the Blog!</a></em></p>\\n<p>Back in the late 80's I walked into the Ritz in the middle of the Laughing Hyenas and watched in disbelief while singer John Brannon churned out one hell of a gutteral yowl for the duration of a whole set in almost inhuman fashion. The Hyenas channelled extreme rage through total Stooge/primal Alice Cooper mode with a somewhat bluesy Birthday Party swagger, and eventually I learned he fronted Detroit's hardcore godfathers <a href=\"http://www.myspace.com/negativeapproach\">Negative Approach</a> in the early part of that decade. Later it all came into focus: NA were very much first-wave and represented Detroit as one of the pockets dotted around the USA (see Black Flag, Minor Threat, Bad Brains), with Brannon &amp; company consolidating the midwest brotherhood with the Necros and Meatmen and eventually moving into early singles via Corey Rusk's Touch and Go label (originally a zine, where yes, people learned of the underground way before the internet). As far as first-wave HC goes, Negative Approach were among the most vicious feedback-pummel units going. Songs careened by in seconds, were pretty much politics-free, focusing on sheer vocal/instrumental destruction. They were inspired by not only their American peers, but UK groundbreakers like Discharge (who, like, NA, were big Stooges fans). In 2006 they returned to the stage at the Touch and Go label anniversary, with Brannon and original drummer Chris Moore augmented by Ron Sakowski on bass and Harold Richardson on guitar, reportedly wiped the place down. On the day of their recent Southpaw show, they amazingly agreed in a day's notice to come down to <a href=\"http://www.wfmu.org/playlists/BT\">my show on FMU</a>, plugged in and turned us to mush with 16 songs in 25 minutes.</p>\\n<p>Negative Approach live on WFMU 5/14/08 (broadcast 5/27). Host: Brian Turner, engineer: Richard Rusinkovich (edited-for-FCC version appeared over air). Co-interviewer: Tony Rettman. Ken Freedman shot video of \"Hypocrite\" and \"Dead Stop\".</p>\\n<p>Set list: Lost Cause / Can't Tell No One / Sick of Talk / Hypocrite / Dead Stop / Whatever I Do / Tied Down / Evacuate / Your Mistake / Why Be Something That You're Not / Pressure / Fair Warning / Nothing / Borstal Breakout (Sham 69) / Never Surrender (Blitz) /Solitary Confinement.</p>\\n<p>http://www.wfmu.org/playlists/shows/27384</p>\\n<p>Engineered by Richard Rusincovitch<br /></p>    18\n",
       "<p><span style=\"margin: 0pt 5px; float: left;\">Engineered by Jason Engle, released on&nbsp; double cdr&nbsp; by Dan Deacon in 2004. http://creativecommons.org/licenses/by-nc-sa/3.0</span></p>                                                                                                                                                                                                                                                                                                                                                                                                                                                                                                                                                                                                                                                                                                                                                                                                                                                                                                                                                                                                                                                                                                                                                                                                                                                                                                                                                                                                                                                                                                                                                                                                                                                                                                                                                                                                                                                                                                                                                                                                                                                                                                                                                                                                                                                                                                                                                                                                                                                         17\n",
       "                                                                                                                                                                                                                                                                                                                                                                                                                                                                                                                                                                                                                                                                                                                                                                                                                                                                                                                                                                                                                                                                                                                                                                                                                                                                                                                                                                                                                                                                                                                                                                                                                                                                                                                                                                                                                                                                                                                                                                                                                                                                                                                                                                                                                                                                                                                                                                                                                                                                                                                                                                                                                                                        ..\n",
       "From “Feathers at the Flame,” by Laurie Carlos – directed by Marlies Yearby.\\nIt was recorded at the home of Laurie Carlos in St, Paul, MN. I was staying there up on her loft floor.\\n\\n\\n Marlies Yearby's Movin Spirits Dance Company was in residence at the Guthrie Theater workshoping “Feathers.” The loft became my studio. The recording was done with a 4 track Tascam cassette tape deck with a\\nShure SM58 microphone.\\nI later gave the recorder to Isaiah Parker.\\n\\n\\nCooper-Moore, voice and balloon.                                                                                                                                                                                                                                                                                                                                                                                                                                                                                                                                                                                                                                                                                                                                                                                                                                                                                                                                                                                                                                                                                                                                                                                                                                                                                                                                                                                                                                                                                                                                                                                                                                                                                                                                                                                                                                                                                                                                                                                                                                                                                                                                    1\n",
       "<p>You wouldn’t get very far exploring traditional Chilean music without running into the <em>cueca</em>. An important symbol of national identity, the cueca’s origins are cloudy (African and Spanish influences are often cited), but the dance seems to have first appeared in the early 19th century, right around Chile’s independence. After having flourished for 200 years or so, in 1979, in the midst of Pinochet’s power over the country, it officially became the national dance. (It is also, interestingly, Bolivia’s national dance.) Despite his attempts however, Pinochet did not succeed in keeping cueca solely as a patriotic symbol. It remains something far more than that, and continues to thrive in Chilean immigrant communities across the world, as well as at home.</p>\\n<p>Usually in 6/8 time, in a major key and featuring guitars, the cueca (short for <em>zamacueca</em>) is a courtship dance for couples, where the man symbolically plays the rooster and the woman, the hen - both of whom dance with white handkerchiefs. Cuecas were frequently recorded in the 78rpm era though they don’t grow on trees - Odeon and South America’s arm of the RCA Victor label probably recorded in the region the most. <a href=\"http://www.memoriachilena.cl/temas/documento_detalle2.asp?id=MC0019333\">Raul Gardy’s</a> cueca is joyful, and he is accompanied by guitars, piano, accordion, and spoons.</p>\\n<p>For more Gardy, you could check out the CD releases <a href=\"http://www.amazon.co.uk/Nostalgias-Chile-Various-Artists/dp/B00042YAD2\">Nostalgias de Chile</a>, or <a href=\"http://www.amazon.com/Chile-Tipico-Vol-Various-Artists/dp/B00042YA8M/ref=sr_1_1?ie=UTF8&amp;s=music&amp;qid=1218346243&amp;sr=1-1\">Chile Tipico Vol. 3</a> and <a href=\"http://www.amazon.com/Chile-Tipico-Vol-Rio/dp/B00042YA8W\">Vol. 4</a>. I can’t vouch for the sound quality, but they’re out there.</p>\\n<p>There is also Jan Sverre Knudson’s article “<a href=\"http://home.hio.no/~jansk/Cueca%202002.htm\">Dancing Cueca “With Your Coat On.”</a></p>\\n<p>I also recommend this interesting <a href=\"http://www.youtube.com/watch?v=moq88oQC-pM\">15-minute documentary </a>on a gentleman trying to recapture cueca’s working-class and traditional roots. Lots of history and dancing therein.</p>\\n<p><strong>Technical Notes</strong><br /> Label: RCA Victor (Chile)<br /> Issue Number: 90-0623<br /> Matrix Number: n/a</p>                                                                                                                                                                                  1\n",
       "<p>Victor 17823-B Disc 1913</p>                                                                                                                                                                                                                                                                                                                                                                                                                                                                                                                                                                                                                                                                                                                                                                                                                                                                                                                                                                                                                                                                                                                                                                                                                                                                                                                                                                                                                                                                                                                                                                                                                                                                                                                                                                                                                                                                                                                                                                                                                                                                                                                                                                                                                                                                                                                                                                                                                                                                                                                                                                                                                          1\n",
       "<p>Composed a mile high in the sky with Korg Gadget and mastered with Final Touch, all on iPad. 2015 birthday release! 138bpm, Dorian G Scale.</p>                                                                                                                                                                                                                                                                                                                                                                                                                                                                                                                                                                                                                                                                                                                                                                                                                                                                                                                                                                                                                                                                                                                                                                                                                                                                                                                                                                                                                                                                                                                                                                                                                                                                                                                                                                                                                                                                                                                                                                                                                                                                                                                                                                                                                                                                                                                                                                                                                                                                                                       1\n",
       "<p><p data-mce-style=\"margin: 0px; font-size: 13px; font-family: Arial;\" style=\"margin: 0px; font-size: 13px; font-family: Arial; \">Label: sentense</p><p data-mce-style=\"margin: 0px; font-size: 13px; font-family: Arial; min-height: 15px;\" style=\"margin: 0px; font-size: 13px; font-family: Arial; min-height: 15px; \"> </p><p data-mce-style=\"margin: 0px; font-size: 12px; font-family: Times; color: #042eee;\" style=\"margin: 0px; font-size: 12px; font-family: Times; color: rgb(4, 46, 238); \"><span data-mce-style=\"font-size: 13px; font-family: Arial; color: #000000;\" style=\"font-size: 13px; font-family: Arial; color: rgb(0, 0, 0); \">Homepage: <span data-mce-style=\"font-size: 12px; font-family: Times;\" style=\"font-size: 12px; font-family: Times; \"><a href=\"http://www.singvoegel.com/\" data-mce-href=\"http://www.singvoegel.com/\">http://www.singvoegel.com/</a></span></span></p></p>                                                                                                                                                                                                                                                                                                                                                                                                                                                                                                                                                                                                                                                                                                                                                                                                                                                                                                                                                                                                                                                                                                                                                                                                                                                                                                                                                                                                                                                                                                                                                                                                                                                                                                                                        1\n",
       "Name: information, Length: 1586, dtype: int64"
      ]
     },
     "execution_count": 36,
     "metadata": {},
     "output_type": "execute_result"
    }
   ],
   "source": [
    "track['information'].value_counts()"
   ]
  },
  {
   "cell_type": "markdown",
   "metadata": {},
   "source": [
    "information sono riportate info varie sulla track in formato html \n",
    "\n",
    "attributo categorico\n",
    "\n",
    "104225 valori null"
   ]
  },
  {
   "cell_type": "markdown",
   "metadata": {},
   "source": [
    "## interest"
   ]
  },
  {
   "cell_type": "code",
   "execution_count": 37,
   "metadata": {},
   "outputs": [
    {
     "data": {
      "text/plain": [
       "320      74\n",
       "302      71\n",
       "326      71\n",
       "503      71\n",
       "342      71\n",
       "         ..\n",
       "63682     1\n",
       "37071     1\n",
       "18644     1\n",
       "8409      1\n",
       "8228      1\n",
       "Name: interest, Length: 14396, dtype: int64"
      ]
     },
     "execution_count": 37,
     "metadata": {},
     "output_type": "execute_result"
    }
   ],
   "source": [
    "track['interest'].value_counts()"
   ]
  },
  {
   "cell_type": "code",
   "execution_count": 38,
   "metadata": {},
   "outputs": [
    {
     "data": {
      "image/png": "[encoded data removed]",
      "text/plain": [
       "<Figure size 1224x360 with 1 Axes>"
      ]
     },
     "metadata": {
      "needs_background": "light"
     },
     "output_type": "display_data"
    }
   ],
   "source": [
    "track['interest'].hist(bins=100)\n",
    "plt.title(\"interest\")\n",
    "plt.xlabel('')\n",
    "plt.ylabel('Count')\n",
    "\n",
    "plt.show()"
   ]
  },
  {
   "cell_type": "code",
   "execution_count": 39,
   "metadata": {},
   "outputs": [
    {
     "data": {
      "text/html": [
       "<div>\n",
       "<style scoped>\n",
       "    .dataframe tbody tr th:only-of-type {\n",
       "        vertical-align: middle;\n",
       "    }\n",
       "\n",
       "    .dataframe tbody tr th {\n",
       "        vertical-align: top;\n",
       "    }\n",
       "\n",
       "    .dataframe thead th {\n",
       "        text-align: right;\n",
       "    }\n",
       "</style>\n",
       "<table border=\"1\" class=\"dataframe\">\n",
       "  <thead>\n",
       "    <tr style=\"text-align: right;\">\n",
       "      <th></th>\n",
       "      <th>interest</th>\n",
       "    </tr>\n",
       "    <tr>\n",
       "      <th>track_id</th>\n",
       "      <th></th>\n",
       "    </tr>\n",
       "  </thead>\n",
       "  <tbody>\n",
       "    <tr>\n",
       "      <th>10</th>\n",
       "      <td>54881</td>\n",
       "    </tr>\n",
       "    <tr>\n",
       "      <th>182</th>\n",
       "      <td>5990</td>\n",
       "    </tr>\n",
       "    <tr>\n",
       "      <th>211</th>\n",
       "      <td>16106</td>\n",
       "    </tr>\n",
       "    <tr>\n",
       "      <th>236</th>\n",
       "      <td>11240</td>\n",
       "    </tr>\n",
       "    <tr>\n",
       "      <th>255</th>\n",
       "      <td>5585</td>\n",
       "    </tr>\n",
       "    <tr>\n",
       "      <th>...</th>\n",
       "      <td>...</td>\n",
       "    </tr>\n",
       "    <tr>\n",
       "      <th>153861</th>\n",
       "      <td>5077</td>\n",
       "    </tr>\n",
       "    <tr>\n",
       "      <th>153934</th>\n",
       "      <td>5085</td>\n",
       "    </tr>\n",
       "    <tr>\n",
       "      <th>154275</th>\n",
       "      <td>7421</td>\n",
       "    </tr>\n",
       "    <tr>\n",
       "      <th>154501</th>\n",
       "      <td>6405</td>\n",
       "    </tr>\n",
       "    <tr>\n",
       "      <th>154547</th>\n",
       "      <td>9641</td>\n",
       "    </tr>\n",
       "  </tbody>\n",
       "</table>\n",
       "<p>15626 rows × 1 columns</p>\n",
       "</div>"
      ],
      "text/plain": [
       "          interest\n",
       "track_id          \n",
       "10           54881\n",
       "182           5990\n",
       "211          16106\n",
       "236          11240\n",
       "255           5585\n",
       "...            ...\n",
       "153861        5077\n",
       "153934        5085\n",
       "154275        7421\n",
       "154501        6405\n",
       "154547        9641\n",
       "\n",
       "[15626 rows x 1 columns]"
      ]
     },
     "execution_count": 39,
     "metadata": {},
     "output_type": "execute_result"
    }
   ],
   "source": [
    "df = pd.DataFrame(track['interest'], columns = ['interest']) \n",
    "df2=pd.DataFrame(df.loc[df.interest >5000])\n",
    "df2"
   ]
  },
  {
   "cell_type": "markdown",
   "metadata": {},
   "source": [
    "interest indica quanti utenti hanno selezionato una track come interessante\n",
    "\n",
    "attributo numerico discreto\n",
    "\n",
    "not null value\n",
    "\n",
    "solo 15626 tracks sono state selezionate come interessanti da più di 5000 utenti\n",
    "\n"
   ]
  },
  {
   "cell_type": "markdown",
   "metadata": {},
   "source": [
    "## language_code"
   ]
  },
  {
   "cell_type": "code",
   "execution_count": 40,
   "metadata": {},
   "outputs": [
    {
     "data": {
      "text/plain": [
       "en    14255\n",
       "es      204\n",
       "fr      191\n",
       "pt       81\n",
       "de       68\n",
       "ru       30\n",
       "it       28\n",
       "tr       25\n",
       "sr       23\n",
       "ar       12\n",
       "he       12\n",
       "pl       12\n",
       "bg        7\n",
       "ee        7\n",
       "el        7\n",
       "fi        6\n",
       "ja        6\n",
       "sw        6\n",
       "nl        5\n",
       "cs        5\n",
       "hi        3\n",
       "zh        3\n",
       "id        3\n",
       "hy        2\n",
       "az        2\n",
       "ms        2\n",
       "vi        2\n",
       "lt        1\n",
       "my        1\n",
       "ko        1\n",
       "la        1\n",
       "tw        1\n",
       "no        1\n",
       "gu        1\n",
       "th        1\n",
       "uz        1\n",
       "ka        1\n",
       "eu        1\n",
       "uk        1\n",
       "ha        1\n",
       "ty        1\n",
       "bm        1\n",
       "tl        1\n",
       "sk        1\n",
       "Name: language_code, dtype: int64"
      ]
     },
     "execution_count": 40,
     "metadata": {},
     "output_type": "execute_result"
    }
   ],
   "source": [
    "track['language_code'].value_counts()"
   ]
  },
  {
   "cell_type": "markdown",
   "metadata": {},
   "source": [
    "language_code dovrebbe essere la lingua della track\n",
    "\n",
    "attributo categorico\n",
    "\n",
    "91550 null value\n",
    "\n",
    "14255 record = en"
   ]
  },
  {
   "cell_type": "markdown",
   "metadata": {},
   "source": [
    "## license "
   ]
  },
  {
   "cell_type": "code",
   "execution_count": 41,
   "metadata": {},
   "outputs": [
    {
     "data": {
      "text/plain": [
       "Attribution-Noncommercial-Share Alike 3.0 United States                          19250\n",
       "Attribution-NonCommercial-NoDerivatives (aka Music Sharing) 3.0 International    17732\n",
       "Attribution-NonCommercial-ShareAlike 3.0 International                           15260\n",
       "Creative Commons Attribution-NonCommercial-NoDerivatives 4.0                     12133\n",
       "Attribution-Noncommercial-No Derivative Works 3.0 United States                  10584\n",
       "                                                                                 ...  \n",
       "Attribution-Noncommercial-NoDerivatives 2.0 Belgium                                  1\n",
       "Attribution-Noncommercial 2.5 Brazil                                                 1\n",
       "Attribution-Noncommercial-No Derivative Works 2.5 Sweden                             1\n",
       "Attribution-Noncommercial-No Derivative Works 2.5 Denmark                            1\n",
       "Attribution-Noncommercial-No Derivative Works 2.5 Portugal                           1\n",
       "Name: license, Length: 113, dtype: int64"
      ]
     },
     "execution_count": 41,
     "metadata": {},
     "output_type": "execute_result"
    }
   ],
   "source": [
    "track['license'].value_counts()"
   ]
  },
  {
   "cell_type": "markdown",
   "metadata": {},
   "source": [
    "attributo che indica la licenza della track\n",
    "\n",
    "87 null value\n",
    "\n",
    "113 diverse licenze, ma le prime 5 che raggruppano più di 73 mila record"
   ]
  },
  {
   "cell_type": "markdown",
   "metadata": {},
   "source": [
    "## listens"
   ]
  },
  {
   "cell_type": "code",
   "execution_count": 42,
   "metadata": {},
   "outputs": [
    {
     "data": {
      "text/plain": [
       "96       140\n",
       "97       136\n",
       "141      133\n",
       "112      130\n",
       "152      129\n",
       "        ... \n",
       "8742       1\n",
       "10791      1\n",
       "23081      1\n",
       "8806       1\n",
       "0          1\n",
       "Name: listens, Length: 12035, dtype: int64"
      ]
     },
     "execution_count": 42,
     "metadata": {},
     "output_type": "execute_result"
    }
   ],
   "source": [
    "track['listens'].value_counts()"
   ]
  },
  {
   "cell_type": "code",
   "execution_count": 43,
   "metadata": {},
   "outputs": [
    {
     "data": {
      "image/png": "[encoded data removed]",
      "text/plain": [
       "<Figure size 1224x360 with 1 Axes>"
      ]
     },
     "metadata": {
      "needs_background": "light"
     },
     "output_type": "display_data"
    }
   ],
   "source": [
    "track['listens'].hist(bins=100)\n",
    "plt.title(\"listens\")\n",
    "plt.xlabel('')\n",
    "plt.ylabel('Count')\n",
    "\n",
    "plt.show()"
   ]
  },
  {
   "cell_type": "code",
   "execution_count": 44,
   "metadata": {},
   "outputs": [
    {
     "data": {
      "text/html": [
       "<div>\n",
       "<style scoped>\n",
       "    .dataframe tbody tr th:only-of-type {\n",
       "        vertical-align: middle;\n",
       "    }\n",
       "\n",
       "    .dataframe tbody tr th {\n",
       "        vertical-align: top;\n",
       "    }\n",
       "\n",
       "    .dataframe thead th {\n",
       "        text-align: right;\n",
       "    }\n",
       "</style>\n",
       "<table border=\"1\" class=\"dataframe\">\n",
       "  <thead>\n",
       "    <tr style=\"text-align: right;\">\n",
       "      <th></th>\n",
       "      <th>listens</th>\n",
       "    </tr>\n",
       "    <tr>\n",
       "      <th>track_id</th>\n",
       "      <th></th>\n",
       "    </tr>\n",
       "  </thead>\n",
       "  <tbody>\n",
       "    <tr>\n",
       "      <th>2</th>\n",
       "      <td>1293</td>\n",
       "    </tr>\n",
       "    <tr>\n",
       "      <th>3</th>\n",
       "      <td>514</td>\n",
       "    </tr>\n",
       "    <tr>\n",
       "      <th>5</th>\n",
       "      <td>1151</td>\n",
       "    </tr>\n",
       "    <tr>\n",
       "      <th>20</th>\n",
       "      <td>361</td>\n",
       "    </tr>\n",
       "    <tr>\n",
       "      <th>26</th>\n",
       "      <td>193</td>\n",
       "    </tr>\n",
       "    <tr>\n",
       "      <th>...</th>\n",
       "      <td>...</td>\n",
       "    </tr>\n",
       "    <tr>\n",
       "      <th>155316</th>\n",
       "      <td>102</td>\n",
       "    </tr>\n",
       "    <tr>\n",
       "      <th>155317</th>\n",
       "      <td>165</td>\n",
       "    </tr>\n",
       "    <tr>\n",
       "      <th>155318</th>\n",
       "      <td>168</td>\n",
       "    </tr>\n",
       "    <tr>\n",
       "      <th>155319</th>\n",
       "      <td>294</td>\n",
       "    </tr>\n",
       "    <tr>\n",
       "      <th>155320</th>\n",
       "      <td>705</td>\n",
       "    </tr>\n",
       "  </tbody>\n",
       "</table>\n",
       "<p>96268 rows × 1 columns</p>\n",
       "</div>"
      ],
      "text/plain": [
       "          listens\n",
       "track_id         \n",
       "2            1293\n",
       "3             514\n",
       "5            1151\n",
       "20            361\n",
       "26            193\n",
       "...           ...\n",
       "155316        102\n",
       "155317        165\n",
       "155318        168\n",
       "155319        294\n",
       "155320        705\n",
       "\n",
       "[96268 rows x 1 columns]"
      ]
     },
     "execution_count": 44,
     "metadata": {},
     "output_type": "execute_result"
    }
   ],
   "source": [
    "df = pd.DataFrame(track['listens'], columns = ['listens']) \n",
    "df2=pd.DataFrame(df.loc[df.listens < 5000])\n",
    "df2"
   ]
  },
  {
   "cell_type": "code",
   "execution_count": 45,
   "metadata": {},
   "outputs": [
    {
     "data": {
      "image/png": "[encoded data removed]",
      "text/plain": [
       "<Figure size 1224x360 with 1 Axes>"
      ]
     },
     "metadata": {
      "needs_background": "light"
     },
     "output_type": "display_data"
    }
   ],
   "source": [
    "df2['listens'].hist(bins=100)\n",
    "plt.title(\"listens\")\n",
    "plt.xlabel('')\n",
    "plt.ylabel('Count')\n",
    "\n",
    "plt.show()"
   ]
  },
  {
   "cell_type": "markdown",
   "metadata": {},
   "source": [
    "listens attributo che indica quante volte è stata ascoltata una track\n",
    "\n",
    "attributo numerico discreto\n",
    "\n",
    "not null value\n",
    "\n",
    "99 track presentano più di 100000 ascolti, 96268 meno di 5000"
   ]
  },
  {
   "cell_type": "markdown",
   "metadata": {},
   "source": [
    "## lyricist"
   ]
  },
  {
   "cell_type": "code",
   "execution_count": 46,
   "metadata": {},
   "outputs": [
    {
     "data": {
      "text/plain": [
       "Apache Tomcat              44\n",
       "Wayne Myers                24\n",
       "Shadow Entity Wizard       19\n",
       "Wesley Willis              18\n",
       "Kathleen Martin            14\n",
       "                           ..\n",
       "Tom Ray / Mark Whitcomb     1\n",
       "Notes                       1\n",
       "Matthew McGilvery           1\n",
       "meg baird                   1\n",
       "Daniel Kisters              1\n",
       "Name: lyricist, Length: 66, dtype: int64"
      ]
     },
     "execution_count": 46,
     "metadata": {},
     "output_type": "execute_result"
    }
   ],
   "source": [
    "track['lyricist'].value_counts()"
   ]
  },
  {
   "cell_type": "markdown",
   "metadata": {},
   "source": [
    "attributo che indica il nome del cantante lirico\n",
    "\n",
    "106263 null value su 106574 record"
   ]
  },
  {
   "cell_type": "markdown",
   "metadata": {},
   "source": [
    "## number"
   ]
  },
  {
   "cell_type": "code",
   "execution_count": 47,
   "metadata": {},
   "outputs": [
    {
     "data": {
      "text/plain": [
       "1      12419\n",
       "2      11214\n",
       "3      10379\n",
       "4       9551\n",
       "5       8471\n",
       "       ...  \n",
       "175        1\n",
       "154        1\n",
       "218        1\n",
       "229        1\n",
       "158        1\n",
       "Name: number, Length: 246, dtype: int64"
      ]
     },
     "execution_count": 47,
     "metadata": {},
     "output_type": "execute_result"
    }
   ],
   "source": [
    "track['number'].value_counts()"
   ]
  },
  {
   "cell_type": "code",
   "execution_count": 48,
   "metadata": {},
   "outputs": [
    {
     "data": {
      "image/png": "[encoded data removed]",
      "text/plain": [
       "<Figure size 1224x360 with 1 Axes>"
      ]
     },
     "metadata": {
      "needs_background": "light"
     },
     "output_type": "display_data"
    }
   ],
   "source": [
    "track['number'].hist(bins=100)\n",
    "plt.title(\"number\")\n",
    "plt.xlabel('')\n",
    "plt.ylabel('Count')\n",
    "\n",
    "plt.show()"
   ]
  },
  {
   "cell_type": "code",
   "execution_count": 49,
   "metadata": {},
   "outputs": [
    {
     "data": {
      "text/html": [
       "<div>\n",
       "<style scoped>\n",
       "    .dataframe tbody tr th:only-of-type {\n",
       "        vertical-align: middle;\n",
       "    }\n",
       "\n",
       "    .dataframe tbody tr th {\n",
       "        vertical-align: top;\n",
       "    }\n",
       "\n",
       "    .dataframe thead th {\n",
       "        text-align: right;\n",
       "    }\n",
       "</style>\n",
       "<table border=\"1\" class=\"dataframe\">\n",
       "  <thead>\n",
       "    <tr style=\"text-align: right;\">\n",
       "      <th></th>\n",
       "      <th>number</th>\n",
       "    </tr>\n",
       "    <tr>\n",
       "      <th>track_id</th>\n",
       "      <th></th>\n",
       "    </tr>\n",
       "  </thead>\n",
       "  <tbody>\n",
       "    <tr>\n",
       "      <th>2</th>\n",
       "      <td>3</td>\n",
       "    </tr>\n",
       "    <tr>\n",
       "      <th>3</th>\n",
       "      <td>4</td>\n",
       "    </tr>\n",
       "    <tr>\n",
       "      <th>5</th>\n",
       "      <td>6</td>\n",
       "    </tr>\n",
       "    <tr>\n",
       "      <th>10</th>\n",
       "      <td>1</td>\n",
       "    </tr>\n",
       "    <tr>\n",
       "      <th>20</th>\n",
       "      <td>3</td>\n",
       "    </tr>\n",
       "    <tr>\n",
       "      <th>...</th>\n",
       "      <td>...</td>\n",
       "    </tr>\n",
       "    <tr>\n",
       "      <th>155316</th>\n",
       "      <td>3</td>\n",
       "    </tr>\n",
       "    <tr>\n",
       "      <th>155317</th>\n",
       "      <td>4</td>\n",
       "    </tr>\n",
       "    <tr>\n",
       "      <th>155318</th>\n",
       "      <td>6</td>\n",
       "    </tr>\n",
       "    <tr>\n",
       "      <th>155319</th>\n",
       "      <td>5</td>\n",
       "    </tr>\n",
       "    <tr>\n",
       "      <th>155320</th>\n",
       "      <td>7</td>\n",
       "    </tr>\n",
       "  </tbody>\n",
       "</table>\n",
       "<p>99211 rows × 1 columns</p>\n",
       "</div>"
      ],
      "text/plain": [
       "          number\n",
       "track_id        \n",
       "2              3\n",
       "3              4\n",
       "5              6\n",
       "10             1\n",
       "20             3\n",
       "...          ...\n",
       "155316         3\n",
       "155317         4\n",
       "155318         6\n",
       "155319         5\n",
       "155320         7\n",
       "\n",
       "[99211 rows x 1 columns]"
      ]
     },
     "execution_count": 49,
     "metadata": {},
     "output_type": "execute_result"
    }
   ],
   "source": [
    "df = pd.DataFrame(track['number'], columns = ['number']) \n",
    "df2=pd.DataFrame(df.loc[df.number < 20])\n",
    "df2"
   ]
  },
  {
   "cell_type": "code",
   "execution_count": 50,
   "metadata": {},
   "outputs": [
    {
     "data": {
      "image/png": "[encoded data removed]",
      "text/plain": [
       "<Figure size 1224x360 with 1 Axes>"
      ]
     },
     "metadata": {
      "needs_background": "light"
     },
     "output_type": "display_data"
    }
   ],
   "source": [
    "df2['number'].hist(bins=40)\n",
    "plt.title(\"number\")\n",
    "plt.xlabel('')\n",
    "plt.ylabel('Count')\n",
    "\n",
    "plt.show()"
   ]
  },
  {
   "cell_type": "markdown",
   "metadata": {},
   "source": [
    "number dovrebbe essere il numero della track di un determinato album\n",
    "\n",
    "attributo numerico discreto\n",
    "\n",
    "not null value\n",
    "\n",
    "99211 presentano valore minore di 20\n",
    "\n",
    "picco con oltre 12000 record su valore 1"
   ]
  },
  {
   "cell_type": "markdown",
   "metadata": {},
   "source": [
    "## publisher"
   ]
  },
  {
   "cell_type": "code",
   "execution_count": 51,
   "metadata": {},
   "outputs": [
    {
     "data": {
      "text/plain": [
       "Victrola Dog (ASCAP)                           465\n",
       "You've Been a Wonderful Laugh Track (ASCAP)     84\n",
       "Section 27                                      73\n",
       "www.headphonica.com                             55\n",
       "Studio 11                                       43\n",
       "                                              ... \n",
       "Everlasting 3056                                 1\n",
       "Columbia A 2283                                  1\n",
       "Victor 18900                                     1\n",
       "der kleine gründe würfel                         1\n",
       "monobomb records                                 1\n",
       "Name: publisher, Length: 135, dtype: int64"
      ]
     },
     "execution_count": 51,
     "metadata": {},
     "output_type": "execute_result"
    }
   ],
   "source": [
    "track['publisher'].value_counts()"
   ]
  },
  {
   "cell_type": "markdown",
   "metadata": {},
   "source": [
    "publisher rappresenta la casa editrice\n",
    "\n",
    "attributo categorico \n",
    "\n",
    "105311 valori null su 106574 record"
   ]
  },
  {
   "cell_type": "markdown",
   "metadata": {},
   "source": [
    "## tags"
   ]
  },
  {
   "cell_type": "code",
   "execution_count": 52,
   "metadata": {},
   "outputs": [
    {
     "data": {
      "text/plain": [
       "[]                                                                                                                                                         83078\n",
       "[interiors c1964, existential, hardcore-punk, pop-punk, punk-rock, internet boyfriend, rew starr, public domain, creative commons, microsong challenge]      310\n",
       "[classwar karaoke]                                                                                                                                           238\n",
       "[all styles experimental]                                                                                                                                    215\n",
       "[improvisation, not normal music, all styles experimental]                                                                                                   195\n",
       "                                                                                                                                                           ...  \n",
       "[psych-rock, rock, pop]                                                                                                                                        1\n",
       "[hope30, epv_111, elementperspective]                                                                                                                          1\n",
       "[hope30, epv, elementperspective]                                                                                                                              1\n",
       "[minimal electronic, downtempo, female vocals]                                                                                                                 1\n",
       "[southern citys lab, russia, netlabel, lo-fi, grunge, post-punk, alternative pop]                                                                              1\n",
       "Name: tags, Length: 2451, dtype: int64"
      ]
     },
     "execution_count": 52,
     "metadata": {},
     "output_type": "execute_result"
    }
   ],
   "source": [
    "track['tags'].value_counts()"
   ]
  },
  {
   "cell_type": "raw",
   "metadata": {},
   "source": [
    "tags come valori ha un array di stringhe con parole chiave\n",
    "\n",
    "83078 record hanno come valore un array vuoto"
   ]
  },
  {
   "cell_type": "markdown",
   "metadata": {},
   "source": [
    "## title"
   ]
  },
  {
   "cell_type": "code",
   "execution_count": 53,
   "metadata": {},
   "outputs": [
    {
     "data": {
      "text/plain": [
       "Untitled                                     298\n",
       "Into Infinity \"ear\" loop                     150\n",
       "Intro                                        115\n",
       "Interview                                     92\n",
       "Chicken and Cheese 2 (Foot Village cover)     49\n",
       "                                            ... \n",
       "Quixote Daydreams of Dulcinea                  1\n",
       "Inaugural Voyage                               1\n",
       "Рок-н-ролл читатели                            1\n",
       "A Tree & a Stone                               1\n",
       "Man is a Person                                1\n",
       "Name: title, Length: 94986, dtype: int64"
      ]
     },
     "execution_count": 53,
     "metadata": {},
     "output_type": "execute_result"
    }
   ],
   "source": [
    "track['title'].value_counts()"
   ]
  },
  {
   "cell_type": "code",
   "execution_count": 54,
   "metadata": {},
   "outputs": [
    {
     "data": {
      "text/html": [
       "<div>\n",
       "<style scoped>\n",
       "    .dataframe tbody tr th:only-of-type {\n",
       "        vertical-align: middle;\n",
       "    }\n",
       "\n",
       "    .dataframe tbody tr th {\n",
       "        vertical-align: top;\n",
       "    }\n",
       "\n",
       "    .dataframe thead th {\n",
       "        text-align: right;\n",
       "    }\n",
       "</style>\n",
       "<table border=\"1\" class=\"dataframe\">\n",
       "  <thead>\n",
       "    <tr style=\"text-align: right;\">\n",
       "      <th></th>\n",
       "      <th>title</th>\n",
       "    </tr>\n",
       "  </thead>\n",
       "  <tbody>\n",
       "    <tr>\n",
       "      <th>Shaded Shapes</th>\n",
       "      <td>1</td>\n",
       "    </tr>\n",
       "    <tr>\n",
       "      <th>Ta te tí</th>\n",
       "      <td>1</td>\n",
       "    </tr>\n",
       "    <tr>\n",
       "      <th>side b</th>\n",
       "      <td>1</td>\n",
       "    </tr>\n",
       "    <tr>\n",
       "      <th>3) BaleneSirene</th>\n",
       "      <td>1</td>\n",
       "    </tr>\n",
       "    <tr>\n",
       "      <th>spruchnummer 1</th>\n",
       "      <td>1</td>\n",
       "    </tr>\n",
       "    <tr>\n",
       "      <th>...</th>\n",
       "      <td>...</td>\n",
       "    </tr>\n",
       "    <tr>\n",
       "      <th>Quixote Daydreams of Dulcinea</th>\n",
       "      <td>1</td>\n",
       "    </tr>\n",
       "    <tr>\n",
       "      <th>Inaugural Voyage</th>\n",
       "      <td>1</td>\n",
       "    </tr>\n",
       "    <tr>\n",
       "      <th>Рок-н-ролл читатели</th>\n",
       "      <td>1</td>\n",
       "    </tr>\n",
       "    <tr>\n",
       "      <th>A Tree &amp; a Stone</th>\n",
       "      <td>1</td>\n",
       "    </tr>\n",
       "    <tr>\n",
       "      <th>Man is a Person</th>\n",
       "      <td>1</td>\n",
       "    </tr>\n",
       "  </tbody>\n",
       "</table>\n",
       "<p>88713 rows × 1 columns</p>\n",
       "</div>"
      ],
      "text/plain": [
       "                               title\n",
       "Shaded Shapes                      1\n",
       "Ta te tí                           1\n",
       "side b                             1\n",
       "3) BaleneSirene                    1\n",
       "spruchnummer 1                     1\n",
       "...                              ...\n",
       "Quixote Daydreams of Dulcinea      1\n",
       "Inaugural Voyage                   1\n",
       "Рок-н-ролл читатели                1\n",
       "A Tree & a Stone                   1\n",
       "Man is a Person                    1\n",
       "\n",
       "[88713 rows x 1 columns]"
      ]
     },
     "execution_count": 54,
     "metadata": {},
     "output_type": "execute_result"
    }
   ],
   "source": [
    "df = pd.DataFrame(track['title'].value_counts(), columns = ['title']) \n",
    "df2=pd.DataFrame(df.loc[df.title < 2])\n",
    "df2"
   ]
  },
  {
   "cell_type": "markdown",
   "metadata": {},
   "source": [
    "title è il titolo della track\n",
    "\n",
    "attributo categorico\n",
    "\n",
    "1 valore null\n",
    "\n",
    "88713 record con title unico distinto\n",
    "\n",
    "298 con valore untitle\n",
    "\n",
    "115 con valore intro"
   ]
  },
  {
   "cell_type": "markdown",
   "metadata": {},
   "source": [
    "## genre_top"
   ]
  },
  {
   "cell_type": "code",
   "execution_count": 55,
   "metadata": {},
   "outputs": [
    {
     "data": {
      "text/plain": [
       "Rock                   14182\n",
       "Experimental           10608\n",
       "Electronic              9372\n",
       "Hip-Hop                 3552\n",
       "Folk                    2803\n",
       "Pop                     2332\n",
       "Instrumental            2079\n",
       "International           1389\n",
       "Classical               1230\n",
       "Jazz                     571\n",
       "Old-Time / Historic      554\n",
       "Spoken                   423\n",
       "Country                  194\n",
       "Soul-RnB                 175\n",
       "Blues                    110\n",
       "Easy Listening            24\n",
       "Name: genre_top, dtype: int64"
      ]
     },
     "execution_count": 55,
     "metadata": {},
     "output_type": "execute_result"
    }
   ],
   "source": [
    "track['genre_top'].value_counts()"
   ]
  },
  {
   "cell_type": "markdown",
   "metadata": {},
   "source": [
    "genre_top indica il genere root della track\n",
    "\n",
    "attributo categorico\n",
    "\n",
    "56976 missing value\n",
    "\n",
    "i missing value sono assegnati quando una track ha più di un genere root"
   ]
  },
  {
   "cell_type": "code",
   "execution_count": 1,
   "metadata": {},
   "outputs": [
    {
     "data": {
      "text/plain": [
       "49598"
      ]
     },
     "execution_count": 1,
     "metadata": {},
     "output_type": "execute_result"
    }
   ],
   "source": [
    "106574-56976"
   ]
  },
  {
   "cell_type": "markdown",
   "metadata": {},
   "source": [
    "## genres"
   ]
  },
  {
   "cell_type": "code",
   "execution_count": 56,
   "metadata": {},
   "outputs": [
    {
     "data": {
      "text/plain": [
       "[21]                    2735\n",
       "[15]                    2689\n",
       "[]                      2231\n",
       "[12]                    1896\n",
       "[1, 30, 38, 41, 247]    1633\n",
       "                        ... \n",
       "[26, 42, 1235]             1\n",
       "[64, 362]                  1\n",
       "[20, 42]                   1\n",
       "[41, 66, 85, 88]           1\n",
       "[311, 456]                 1\n",
       "Name: genres, Length: 4768, dtype: int64"
      ]
     },
     "execution_count": 56,
     "metadata": {},
     "output_type": "execute_result"
    }
   ],
   "source": [
    "track['genres'].value_counts()"
   ]
  },
  {
   "cell_type": "markdown",
   "metadata": {},
   "source": [
    "genres indica il genere della track, ogni valore è un array di generi\n",
    "\n",
    "0 missing value\n",
    "\n",
    "2231 sono array vuoti"
   ]
  },
  {
   "cell_type": "code",
   "execution_count": 57,
   "metadata": {},
   "outputs": [],
   "source": [
    "## genres_all"
   ]
  },
  {
   "cell_type": "code",
   "execution_count": 58,
   "metadata": {},
   "outputs": [
    {
     "data": {
      "text/plain": [
       "[21]                            2735\n",
       "[15]                            2689\n",
       "[]                              2231\n",
       "[12]                            1896\n",
       "[1, 38, 41, 247, 30]            1633\n",
       "                                ... \n",
       "[3, 5, 15, 659, 286]               1\n",
       "[113, 26, 12, 15]                  1\n",
       "[66, 5, 12, 443, 27]               1\n",
       "[66, 12, 109, 89, 25]              1\n",
       "[580, 38, 15, 1235, 21, 182]       1\n",
       "Name: genres_all, Length: 4151, dtype: int64"
      ]
     },
     "execution_count": 58,
     "metadata": {},
     "output_type": "execute_result"
    }
   ],
   "source": [
    "track['genres_all'].value_counts()"
   ]
  },
  {
   "cell_type": "markdown",
   "metadata": {},
   "source": [
    "genres_all indica i genere della track nell'albero dal genere specifico della track fino alla radice\n",
    "\n",
    "ogni valore è un array di generi\n",
    "\n",
    "0 missing value\n",
    "\n",
    "2231 sono array vuoti"
   ]
  },
  {
   "cell_type": "code",
   "execution_count": null,
   "metadata": {},
   "outputs": [],
   "source": []
  },
  {
   "cell_type": "markdown",
   "metadata": {},
   "source": [
    "## CAMPI ALBUM"
   ]
  },
  {
   "cell_type": "code",
   "execution_count": 59,
   "metadata": {},
   "outputs": [
    {
     "data": {
      "text/html": [
       "<div>\n",
       "<style scoped>\n",
       "    .dataframe tbody tr th:only-of-type {\n",
       "        vertical-align: middle;\n",
       "    }\n",
       "\n",
       "    .dataframe tbody tr th {\n",
       "        vertical-align: top;\n",
       "    }\n",
       "\n",
       "    .dataframe thead th {\n",
       "        text-align: right;\n",
       "    }\n",
       "</style>\n",
       "<table border=\"1\" class=\"dataframe\">\n",
       "  <thead>\n",
       "    <tr style=\"text-align: right;\">\n",
       "      <th></th>\n",
       "      <th>comments</th>\n",
       "      <th>date_created</th>\n",
       "      <th>date_released</th>\n",
       "      <th>engineer</th>\n",
       "      <th>favorites</th>\n",
       "      <th>id</th>\n",
       "      <th>information</th>\n",
       "      <th>listens</th>\n",
       "      <th>producer</th>\n",
       "      <th>tags</th>\n",
       "      <th>title</th>\n",
       "      <th>tracks</th>\n",
       "      <th>type</th>\n",
       "    </tr>\n",
       "    <tr>\n",
       "      <th>track_id</th>\n",
       "      <th></th>\n",
       "      <th></th>\n",
       "      <th></th>\n",
       "      <th></th>\n",
       "      <th></th>\n",
       "      <th></th>\n",
       "      <th></th>\n",
       "      <th></th>\n",
       "      <th></th>\n",
       "      <th></th>\n",
       "      <th></th>\n",
       "      <th></th>\n",
       "      <th></th>\n",
       "    </tr>\n",
       "  </thead>\n",
       "  <tbody>\n",
       "    <tr>\n",
       "      <th>2</th>\n",
       "      <td>0</td>\n",
       "      <td>2008-11-26 01:44:45</td>\n",
       "      <td>2009-01-05</td>\n",
       "      <td>NaN</td>\n",
       "      <td>4</td>\n",
       "      <td>1</td>\n",
       "      <td>&lt;p&gt;&lt;/p&gt;</td>\n",
       "      <td>6073</td>\n",
       "      <td>NaN</td>\n",
       "      <td>[]</td>\n",
       "      <td>AWOL - A Way Of Life</td>\n",
       "      <td>7</td>\n",
       "      <td>Album</td>\n",
       "    </tr>\n",
       "    <tr>\n",
       "      <th>3</th>\n",
       "      <td>0</td>\n",
       "      <td>2008-11-26 01:44:45</td>\n",
       "      <td>2009-01-05</td>\n",
       "      <td>NaN</td>\n",
       "      <td>4</td>\n",
       "      <td>1</td>\n",
       "      <td>&lt;p&gt;&lt;/p&gt;</td>\n",
       "      <td>6073</td>\n",
       "      <td>NaN</td>\n",
       "      <td>[]</td>\n",
       "      <td>AWOL - A Way Of Life</td>\n",
       "      <td>7</td>\n",
       "      <td>Album</td>\n",
       "    </tr>\n",
       "    <tr>\n",
       "      <th>5</th>\n",
       "      <td>0</td>\n",
       "      <td>2008-11-26 01:44:45</td>\n",
       "      <td>2009-01-05</td>\n",
       "      <td>NaN</td>\n",
       "      <td>4</td>\n",
       "      <td>1</td>\n",
       "      <td>&lt;p&gt;&lt;/p&gt;</td>\n",
       "      <td>6073</td>\n",
       "      <td>NaN</td>\n",
       "      <td>[]</td>\n",
       "      <td>AWOL - A Way Of Life</td>\n",
       "      <td>7</td>\n",
       "      <td>Album</td>\n",
       "    </tr>\n",
       "    <tr>\n",
       "      <th>10</th>\n",
       "      <td>0</td>\n",
       "      <td>2008-11-26 01:45:08</td>\n",
       "      <td>2008-02-06</td>\n",
       "      <td>NaN</td>\n",
       "      <td>4</td>\n",
       "      <td>6</td>\n",
       "      <td>NaN</td>\n",
       "      <td>47632</td>\n",
       "      <td>NaN</td>\n",
       "      <td>[]</td>\n",
       "      <td>Constant Hitmaker</td>\n",
       "      <td>2</td>\n",
       "      <td>Album</td>\n",
       "    </tr>\n",
       "    <tr>\n",
       "      <th>20</th>\n",
       "      <td>0</td>\n",
       "      <td>2008-11-26 01:45:05</td>\n",
       "      <td>2009-01-06</td>\n",
       "      <td>NaN</td>\n",
       "      <td>2</td>\n",
       "      <td>4</td>\n",
       "      <td>&lt;p&gt; \"spiritual songs\" from Nicky Cook&lt;/p&gt;</td>\n",
       "      <td>2710</td>\n",
       "      <td>NaN</td>\n",
       "      <td>[]</td>\n",
       "      <td>Niris</td>\n",
       "      <td>13</td>\n",
       "      <td>Album</td>\n",
       "    </tr>\n",
       "  </tbody>\n",
       "</table>\n",
       "</div>"
      ],
      "text/plain": [
       "          comments        date_created date_released engineer  favorites  id  \\\n",
       "track_id                                                                       \n",
       "2                0 2008-11-26 01:44:45    2009-01-05      NaN          4   1   \n",
       "3                0 2008-11-26 01:44:45    2009-01-05      NaN          4   1   \n",
       "5                0 2008-11-26 01:44:45    2009-01-05      NaN          4   1   \n",
       "10               0 2008-11-26 01:45:08    2008-02-06      NaN          4   6   \n",
       "20               0 2008-11-26 01:45:05    2009-01-06      NaN          2   4   \n",
       "\n",
       "                                        information  listens producer tags  \\\n",
       "track_id                                                                     \n",
       "2                                           <p></p>     6073      NaN   []   \n",
       "3                                           <p></p>     6073      NaN   []   \n",
       "5                                           <p></p>     6073      NaN   []   \n",
       "10                                              NaN    47632      NaN   []   \n",
       "20        <p> \"spiritual songs\" from Nicky Cook</p>     2710      NaN   []   \n",
       "\n",
       "                         title  tracks   type  \n",
       "track_id                                       \n",
       "2         AWOL - A Way Of Life       7  Album  \n",
       "3         AWOL - A Way Of Life       7  Album  \n",
       "5         AWOL - A Way Of Life       7  Album  \n",
       "10           Constant Hitmaker       2  Album  \n",
       "20                       Niris      13  Album  "
      ]
     },
     "metadata": {},
     "output_type": "display_data"
    }
   ],
   "source": [
    "ipd.display(tracks['album'].head())"
   ]
  },
  {
   "cell_type": "code",
   "execution_count": 60,
   "metadata": {},
   "outputs": [
    {
     "name": "stdout",
     "output_type": "stream",
     "text": [
      "<class 'pandas.core.frame.DataFrame'>\n",
      "Int64Index: 106574 entries, 2 to 155320\n",
      "Data columns (total 13 columns):\n",
      " #   Column         Non-Null Count   Dtype         \n",
      "---  ------         --------------   -----         \n",
      " 0   comments       106574 non-null  int64         \n",
      " 1   date_created   103045 non-null  datetime64[ns]\n",
      " 2   date_released  70294 non-null   datetime64[ns]\n",
      " 3   engineer       15295 non-null   object        \n",
      " 4   favorites      106574 non-null  int64         \n",
      " 5   id             106574 non-null  int64         \n",
      " 6   information    83149 non-null   category      \n",
      " 7   listens        106574 non-null  int64         \n",
      " 8   producer       18060 non-null   object        \n",
      " 9   tags           106574 non-null  object        \n",
      " 10  title          105549 non-null  object        \n",
      " 11  tracks         106574 non-null  int64         \n",
      " 12  type           100066 non-null  category      \n",
      "dtypes: category(2), datetime64[ns](2), int64(5), object(4)\n",
      "memory usage: 10.5+ MB\n"
     ]
    }
   ],
   "source": [
    "tracks['album'].info()"
   ]
  },
  {
   "cell_type": "code",
   "execution_count": 61,
   "metadata": {},
   "outputs": [
    {
     "data": {
      "text/plain": [
       "comments             0\n",
       "date_created      3529\n",
       "date_released    36280\n",
       "engineer         91279\n",
       "favorites            0\n",
       "id                   0\n",
       "information      23425\n",
       "listens              0\n",
       "producer         88514\n",
       "tags                 0\n",
       "title             1025\n",
       "tracks               0\n",
       "type              6508\n",
       "dtype: int64"
      ]
     },
     "execution_count": 61,
     "metadata": {},
     "output_type": "execute_result"
    }
   ],
   "source": [
    "tracks['album'].isnull().sum()"
   ]
  },
  {
   "cell_type": "code",
   "execution_count": 62,
   "metadata": {},
   "outputs": [
    {
     "data": {
      "text/html": [
       "<div>\n",
       "<style scoped>\n",
       "    .dataframe tbody tr th:only-of-type {\n",
       "        vertical-align: middle;\n",
       "    }\n",
       "\n",
       "    .dataframe tbody tr th {\n",
       "        vertical-align: top;\n",
       "    }\n",
       "\n",
       "    .dataframe thead th {\n",
       "        text-align: right;\n",
       "    }\n",
       "</style>\n",
       "<table border=\"1\" class=\"dataframe\">\n",
       "  <thead>\n",
       "    <tr style=\"text-align: right;\">\n",
       "      <th></th>\n",
       "      <th>comments</th>\n",
       "      <th>favorites</th>\n",
       "      <th>id</th>\n",
       "      <th>listens</th>\n",
       "      <th>tracks</th>\n",
       "    </tr>\n",
       "  </thead>\n",
       "  <tbody>\n",
       "    <tr>\n",
       "      <th>count</th>\n",
       "      <td>106574.000000</td>\n",
       "      <td>106574.000000</td>\n",
       "      <td>106574.000000</td>\n",
       "      <td>1.065740e+05</td>\n",
       "      <td>106574.000000</td>\n",
       "    </tr>\n",
       "    <tr>\n",
       "      <th>mean</th>\n",
       "      <td>0.394946</td>\n",
       "      <td>1.286927</td>\n",
       "      <td>12826.933914</td>\n",
       "      <td>3.212031e+04</td>\n",
       "      <td>19.721452</td>\n",
       "    </tr>\n",
       "    <tr>\n",
       "      <th>std</th>\n",
       "      <td>2.268915</td>\n",
       "      <td>3.133035</td>\n",
       "      <td>6290.261805</td>\n",
       "      <td>1.478532e+05</td>\n",
       "      <td>39.943673</td>\n",
       "    </tr>\n",
       "    <tr>\n",
       "      <th>min</th>\n",
       "      <td>-1.000000</td>\n",
       "      <td>-1.000000</td>\n",
       "      <td>-1.000000</td>\n",
       "      <td>-1.000000e+00</td>\n",
       "      <td>-1.000000</td>\n",
       "    </tr>\n",
       "    <tr>\n",
       "      <th>25%</th>\n",
       "      <td>0.000000</td>\n",
       "      <td>0.000000</td>\n",
       "      <td>7793.000000</td>\n",
       "      <td>3.361000e+03</td>\n",
       "      <td>7.000000</td>\n",
       "    </tr>\n",
       "    <tr>\n",
       "      <th>50%</th>\n",
       "      <td>0.000000</td>\n",
       "      <td>0.000000</td>\n",
       "      <td>13374.000000</td>\n",
       "      <td>8.982000e+03</td>\n",
       "      <td>11.000000</td>\n",
       "    </tr>\n",
       "    <tr>\n",
       "      <th>75%</th>\n",
       "      <td>0.000000</td>\n",
       "      <td>1.000000</td>\n",
       "      <td>18203.000000</td>\n",
       "      <td>2.363500e+04</td>\n",
       "      <td>17.000000</td>\n",
       "    </tr>\n",
       "    <tr>\n",
       "      <th>max</th>\n",
       "      <td>53.000000</td>\n",
       "      <td>61.000000</td>\n",
       "      <td>22940.000000</td>\n",
       "      <td>3.564243e+06</td>\n",
       "      <td>652.000000</td>\n",
       "    </tr>\n",
       "  </tbody>\n",
       "</table>\n",
       "</div>"
      ],
      "text/plain": [
       "            comments      favorites             id       listens  \\\n",
       "count  106574.000000  106574.000000  106574.000000  1.065740e+05   \n",
       "mean        0.394946       1.286927   12826.933914  3.212031e+04   \n",
       "std         2.268915       3.133035    6290.261805  1.478532e+05   \n",
       "min        -1.000000      -1.000000      -1.000000 -1.000000e+00   \n",
       "25%         0.000000       0.000000    7793.000000  3.361000e+03   \n",
       "50%         0.000000       0.000000   13374.000000  8.982000e+03   \n",
       "75%         0.000000       1.000000   18203.000000  2.363500e+04   \n",
       "max        53.000000      61.000000   22940.000000  3.564243e+06   \n",
       "\n",
       "              tracks  \n",
       "count  106574.000000  \n",
       "mean       19.721452  \n",
       "std        39.943673  \n",
       "min        -1.000000  \n",
       "25%         7.000000  \n",
       "50%        11.000000  \n",
       "75%        17.000000  \n",
       "max       652.000000  "
      ]
     },
     "execution_count": 62,
     "metadata": {},
     "output_type": "execute_result"
    }
   ],
   "source": [
    "tracks['album'].describe()"
   ]
  },
  {
   "cell_type": "code",
   "execution_count": 63,
   "metadata": {},
   "outputs": [],
   "source": [
    "album=tracks['album']"
   ]
  },
  {
   "cell_type": "markdown",
   "metadata": {},
   "source": [
    "## comments"
   ]
  },
  {
   "cell_type": "code",
   "execution_count": 64,
   "metadata": {},
   "outputs": [
    {
     "data": {
      "text/plain": [
       " 0     84660\n",
       " 1     10858\n",
       "-1      3529\n",
       " 2      3442\n",
       " 3      1669\n",
       " 4       737\n",
       " 5       384\n",
       " 6       341\n",
       " 53      139\n",
       " 14      135\n",
       " 8       133\n",
       " 7       132\n",
       " 11      125\n",
       " 10      117\n",
       " 9        91\n",
       " 17       71\n",
       " 13        9\n",
       " 12        2\n",
       "Name: comments, dtype: int64"
      ]
     },
     "execution_count": 64,
     "metadata": {},
     "output_type": "execute_result"
    }
   ],
   "source": [
    "album['comments'].value_counts()"
   ]
  },
  {
   "cell_type": "markdown",
   "metadata": {},
   "source": [
    "comments riporta il numero di commenti ricevuti da ogni album\n",
    "\n",
    "attributo numerico discreto\n",
    "\n",
    "3529 record hanno valore -1\n",
    "\n",
    "non si capisce se c'è un collegamento con comments di track"
   ]
  },
  {
   "cell_type": "markdown",
   "metadata": {},
   "source": [
    "## id"
   ]
  },
  {
   "cell_type": "code",
   "execution_count": 66,
   "metadata": {},
   "outputs": [
    {
     "data": {
      "text/plain": [
       "-1        1025\n",
       " 17509     310\n",
       " 2275      151\n",
       " 21841     150\n",
       " 13010     139\n",
       "          ... \n",
       " 6138        1\n",
       " 2801        1\n",
       " 17428       1\n",
       " 7307        1\n",
       " 18718       1\n",
       "Name: id, Length: 14854, dtype: int64"
      ]
     },
     "execution_count": 66,
     "metadata": {},
     "output_type": "execute_result"
    }
   ],
   "source": [
    "album['id'].value_counts()"
   ]
  },
  {
   "cell_type": "code",
   "execution_count": 67,
   "metadata": {},
   "outputs": [
    {
     "data": {
      "text/html": [
       "<div>\n",
       "<style scoped>\n",
       "    .dataframe tbody tr th:only-of-type {\n",
       "        vertical-align: middle;\n",
       "    }\n",
       "\n",
       "    .dataframe tbody tr th {\n",
       "        vertical-align: top;\n",
       "    }\n",
       "\n",
       "    .dataframe thead th {\n",
       "        text-align: right;\n",
       "    }\n",
       "</style>\n",
       "<table border=\"1\" class=\"dataframe\">\n",
       "  <thead>\n",
       "    <tr style=\"text-align: right;\">\n",
       "      <th></th>\n",
       "      <th>id</th>\n",
       "    </tr>\n",
       "    <tr>\n",
       "      <th>track_id</th>\n",
       "      <th></th>\n",
       "    </tr>\n",
       "  </thead>\n",
       "  <tbody>\n",
       "    <tr>\n",
       "      <th>113593</th>\n",
       "      <td>17509</td>\n",
       "    </tr>\n",
       "    <tr>\n",
       "      <th>113650</th>\n",
       "      <td>17509</td>\n",
       "    </tr>\n",
       "    <tr>\n",
       "      <th>113651</th>\n",
       "      <td>17509</td>\n",
       "    </tr>\n",
       "    <tr>\n",
       "      <th>113657</th>\n",
       "      <td>17509</td>\n",
       "    </tr>\n",
       "    <tr>\n",
       "      <th>113658</th>\n",
       "      <td>17509</td>\n",
       "    </tr>\n",
       "    <tr>\n",
       "      <th>...</th>\n",
       "      <td>...</td>\n",
       "    </tr>\n",
       "    <tr>\n",
       "      <th>115512</th>\n",
       "      <td>17509</td>\n",
       "    </tr>\n",
       "    <tr>\n",
       "      <th>115513</th>\n",
       "      <td>17509</td>\n",
       "    </tr>\n",
       "    <tr>\n",
       "      <th>115515</th>\n",
       "      <td>17509</td>\n",
       "    </tr>\n",
       "    <tr>\n",
       "      <th>115517</th>\n",
       "      <td>17509</td>\n",
       "    </tr>\n",
       "    <tr>\n",
       "      <th>115518</th>\n",
       "      <td>17509</td>\n",
       "    </tr>\n",
       "  </tbody>\n",
       "</table>\n",
       "<p>310 rows × 1 columns</p>\n",
       "</div>"
      ],
      "text/plain": [
       "             id\n",
       "track_id       \n",
       "113593    17509\n",
       "113650    17509\n",
       "113651    17509\n",
       "113657    17509\n",
       "113658    17509\n",
       "...         ...\n",
       "115512    17509\n",
       "115513    17509\n",
       "115515    17509\n",
       "115517    17509\n",
       "115518    17509\n",
       "\n",
       "[310 rows x 1 columns]"
      ]
     },
     "execution_count": 67,
     "metadata": {},
     "output_type": "execute_result"
    }
   ],
   "source": [
    "df = pd.DataFrame(album['id'], columns = ['id']) \n",
    "df2=pd.DataFrame(df.loc[df.id == 17509])\n",
    "df2"
   ]
  },
  {
   "cell_type": "markdown",
   "metadata": {},
   "source": [
    "id attributo che rappresenta l'id dell'album. 14854 album diversi ci sono (uno è segnato con -1, non è un album)\n",
    "\n",
    "Ci sono 310 track che fanno parte dello stesso album\n",
    "\n",
    "1025 record con valore -1 non hanno un album, hanno infatti title null"
   ]
  },
  {
   "cell_type": "code",
   "execution_count": null,
   "metadata": {},
   "outputs": [],
   "source": []
  },
  {
   "cell_type": "code",
   "execution_count": null,
   "metadata": {},
   "outputs": [],
   "source": []
  },
  {
   "cell_type": "code",
   "execution_count": null,
   "metadata": {},
   "outputs": [],
   "source": []
  },
  {
   "cell_type": "markdown",
   "metadata": {},
   "source": [
    "## date_created "
   ]
  },
  {
   "cell_type": "code",
   "execution_count": 68,
   "metadata": {},
   "outputs": [
    {
     "data": {
      "text/plain": [
       "2015-01-26 13:04:57    310\n",
       "2009-03-30 16:18:08    151\n",
       "2016-11-12 12:34:46    150\n",
       "2012-12-06 16:45:52    139\n",
       "2009-01-02 21:41:31    138\n",
       "                      ... \n",
       "2010-09-28 12:57:08      1\n",
       "2011-12-23 08:07:13      1\n",
       "2013-05-28 13:18:56      1\n",
       "2008-11-26 02:54:35      1\n",
       "2009-04-09 12:10:48      1\n",
       "Name: date_created, Length: 14340, dtype: int64"
      ]
     },
     "execution_count": 68,
     "metadata": {},
     "output_type": "execute_result"
    }
   ],
   "source": [
    "album['date_created'].value_counts()"
   ]
  },
  {
   "cell_type": "code",
   "execution_count": 69,
   "metadata": {},
   "outputs": [
    {
     "data": {
      "image/png": "[encoded data removed]",
      "text/plain": [
       "<Figure size 1224x360 with 1 Axes>"
      ]
     },
     "metadata": {
      "needs_background": "light"
     },
     "output_type": "display_data"
    }
   ],
   "source": [
    "track['date_created'].hist(bins=60)\n",
    "plt.title(\"date_created\")\n",
    "plt.xlabel('')\n",
    "plt.ylabel('Count')\n",
    "\n",
    "plt.show()\n"
   ]
  },
  {
   "cell_type": "code",
   "execution_count": 70,
   "metadata": {},
   "outputs": [
    {
     "data": {
      "image/png": "[encoded data removed]",
      "text/plain": [
       "<Figure size 1224x360 with 1 Axes>"
      ]
     },
     "metadata": {
      "needs_background": "light"
     },
     "output_type": "display_data"
    }
   ],
   "source": [
    "album['date_created'].hist(bins=60)\n",
    "plt.title(\"date_created\")\n",
    "plt.xlabel('')\n",
    "plt.ylabel('Count')\n",
    "\n",
    "plt.show()\n"
   ]
  },
  {
   "cell_type": "markdown",
   "metadata": {},
   "source": [
    "data_createde attributo che indica la data di inserimento nel database dell'album\n",
    "\n",
    "tipo datetime\n",
    "\n",
    "3529 null value"
   ]
  },
  {
   "cell_type": "markdown",
   "metadata": {},
   "source": [
    "## date_released    "
   ]
  },
  {
   "cell_type": "code",
   "execution_count": 71,
   "metadata": {},
   "outputs": [
    {
     "data": {
      "text/plain": [
       "2008-01-01    667\n",
       "2010-01-01    564\n",
       "2007-01-01    549\n",
       "2009-01-01    464\n",
       "2006-01-01    330\n",
       "             ... \n",
       "2012-01-29      1\n",
       "2011-01-26      1\n",
       "2016-09-18      1\n",
       "1996-03-01      1\n",
       "2007-03-10      1\n",
       "Name: date_released, Length: 3669, dtype: int64"
      ]
     },
     "execution_count": 71,
     "metadata": {},
     "output_type": "execute_result"
    }
   ],
   "source": [
    "album['date_released'].value_counts()"
   ]
  },
  {
   "cell_type": "code",
   "execution_count": 72,
   "metadata": {},
   "outputs": [
    {
     "data": {
      "image/png": "[encoded data removed]",
      "text/plain": [
       "<Figure size 1224x360 with 1 Axes>"
      ]
     },
     "metadata": {
      "needs_background": "light"
     },
     "output_type": "display_data"
    }
   ],
   "source": [
    "album['date_released'].hist(bins=60)\n",
    "plt.title(\"date_released\")\n",
    "plt.xlabel('')\n",
    "plt.ylabel('Count')\n",
    "\n",
    "plt.show()"
   ]
  },
  {
   "cell_type": "markdown",
   "metadata": {},
   "source": [
    "date_released attributo che indica la data di rilascio dell'album\n",
    "\n",
    "tipo datetime\n",
    "\n",
    "36280 null value\n"
   ]
  },
  {
   "cell_type": "markdown",
   "metadata": {},
   "source": [
    "## engineer"
   ]
  },
  {
   "cell_type": "code",
   "execution_count": 73,
   "metadata": {},
   "outputs": [
    {
     "data": {
      "text/plain": [
       "Ernie Indradat                    876\n",
       "Mike Sin                          701\n",
       "Irene Trudel                      603\n",
       "Glenn Luttman                     545\n",
       "Mario Santana                     533\n",
       "                                 ... \n",
       "Nynack                              1\n",
       "Evan Muse                           1\n",
       "Bob Wanger                          1\n",
       "Anthony Allman                      1\n",
       "Bryan Smith; Kenneth Kirschner      1\n",
       "Name: engineer, Length: 622, dtype: int64"
      ]
     },
     "execution_count": 73,
     "metadata": {},
     "output_type": "execute_result"
    }
   ],
   "source": [
    "album['engineer'].value_counts()"
   ]
  },
  {
   "cell_type": "markdown",
   "metadata": {},
   "source": [
    "engineer attributo che indica l'ingegnere acustico dell'album\n",
    "\n",
    "tipo categorico\n",
    "\n",
    "91279 null value"
   ]
  },
  {
   "cell_type": "markdown",
   "metadata": {},
   "source": [
    "## favorites"
   ]
  },
  {
   "cell_type": "code",
   "execution_count": 74,
   "metadata": {},
   "outputs": [
    {
     "data": {
      "text/plain": [
       " 0     53679\n",
       " 1     23757\n",
       " 2     10349\n",
       " 3      5366\n",
       "-1      3529\n",
       " 4      2542\n",
       " 5      1707\n",
       " 6      1330\n",
       " 7       942\n",
       " 8       898\n",
       " 10      422\n",
       " 11      373\n",
       " 12      297\n",
       " 9       293\n",
       " 14      159\n",
       " 13       99\n",
       " 23       75\n",
       " 16       74\n",
       " 19       71\n",
       " 25       69\n",
       " 17       66\n",
       " 18       58\n",
       " 31       49\n",
       " 15       41\n",
       " 55       38\n",
       " 24       31\n",
       " 22       29\n",
       " 20       28\n",
       " 29       26\n",
       " 21       20\n",
       " 28       20\n",
       " 39       18\n",
       " 26       15\n",
       " 40       15\n",
       " 47       14\n",
       " 27       12\n",
       " 61       10\n",
       " 38       10\n",
       " 33        9\n",
       " 60        9\n",
       " 43        7\n",
       " 54        7\n",
       " 37        6\n",
       " 36        5\n",
       "Name: favorites, dtype: int64"
      ]
     },
     "execution_count": 74,
     "metadata": {},
     "output_type": "execute_result"
    }
   ],
   "source": [
    "album['favorites'].value_counts()"
   ]
  },
  {
   "cell_type": "markdown",
   "metadata": {},
   "source": [
    "favorites indica quanti utenti hanno scelto un album come preferito\n",
    "\n",
    "attributo numerico discreto\n",
    "\n",
    "3529 value -1 corrispondono agli album con id -1"
   ]
  },
  {
   "cell_type": "markdown",
   "metadata": {},
   "source": [
    "## information"
   ]
  },
  {
   "cell_type": "code",
   "execution_count": 75,
   "metadata": {},
   "outputs": [
    {
     "data": {
      "text/plain": [
       "<p class=\"p1\" style=\"margin: 0px; padding: 8px 0px; font-stretch: normal; font-size: 12px; line-height: 19px; font-family: 'Trebuchet MS', 'Lucida Grande', Arial, sans-serif; color: #222222;\"><span class=\"s1\">Get ready, get set, GET SMALL! Get your tiny instruments together (or oversized ones, or ones that are juuuust right), grab a recording device, and add your itty bitty masterpiece(s) to our collection! Every microSong will be licensed under a <a href=\"http://creativecommons.org/about/cc0\">Creative Commons Zero</a> license so that it can be freely used by anyone in a video, remix, extraordinarily brief performance art piece, or whatever else they may choose.</span></p>\\n<p class=\"p1\" style=\"margin: 0px; padding: 8px 0px; font-stretch: normal; font-size: 12px; line-height: 19px; font-family: 'Trebuchet MS', 'Lucida Grande', Arial, sans-serif; color: #222222;\"><span class=\"s1\">Songs must be your own work, and must not exceed fifteen (15) seconds in length. We only accept MP3 submissions. First prize wins a 3-D printer. Runners up get swag from Creative Commons and WFMU. </span></p>\\n<p class=\"p1\" style=\"margin: 0px; padding: 8px 0px; font-stretch: normal; font-size: 12px; line-height: 19px; font-family: 'Trebuchet MS', 'Lucida Grande', Arial, sans-serif; color: #222222;\"><span class=\"s1\">So, do you have a few seconds? Help us come up short! </span></p>\\n<p class=\"p1\" style=\"margin: 0px; padding: 8px 0px; font-stretch: normal; font-size: 12px; line-height: 19px; font-family: 'Trebuchet MS', 'Lucida Grande', Arial, sans-serif; color: #222222;\">The Challenge begins on January 26th & runs through February 20th 2015.</p>\\n<p class=\"p1\" style=\"margin: 0px; padding: 8px 0px; font-stretch: normal; font-size: 12px; line-height: 19px; font-family: 'Trebuchet MS', 'Lucida Grande', Arial, sans-serif; color: #222222;\">To enter, login with your FMA username and click on the \"Submit Track\" button at the top of the album page. </p>                                                                                                                                                                                                                                                                                                                                                                                                                                                                                                                                                                                                                                                                                                                                                                                                                                                                                                                                                                                                                                                                                                                                                                                                                                                                                                                                                                                                                                                                                                                                                                                                                                                                                                                                                                                                                                                                             310\n",
       "<p>You may use this music for derivative works like videos, presentations, or games, as long as you give appropriate and unambiguous <span style=\"text-decoration:underline;\">credit</span> in your work, i.e. the name of the artist, the title of the track, and the link to the album. The artist encourages sharing the link to your work, if possible, via the comment section for this Free Music Archive entry.</p>\\n<p><strong>Licensing requests:</strong> click on the artist's name, then click the link \"Contact artist\", or the button \"Email this artist\". The email form will appear.</p>\\n<p><strong>Donations:</strong> click on the artist's name, then click the \"$\" button in the upper right corner of the page. Your support is appreciated very much!</p>                                                                                                                                                                                                                                                                                                                                                                                                                                                                                                                                                                                                                                                                                                                                                                                                                                                                                                                                                                                                                                                                                                                                                                                                                                                                                                                                                                                                                                                                                                                                                                                                                                                                                                                                                                                                                                                                                                                                                                                                                                                                                                                                                                                                                                                                                                                                                                                                                                                                                                                                                                                                                                                                                                                                                                                                                                                                                                                                                                                                                                                                                                                            156\n",
       "<p>INTO INFINITY : an exploration of on and on and on and on.... dublab & Creative Commons invite you to explore the wide possibilities of forever! INTO INFINITY is an art and music exhibition built on audio loops and visual circles. These elements are open to in-the-moment manipulation and available for remixing and resubmission. INTO INFINITY is a creative movement that sends inspired echoes into the future. Stay tuned for live exhibition dates and website developments. \"EYE\" We distributed blank, white 12\" paper circles to our wide community of inspired artists to fill with vibrant visions. These infinite loops have amazing potential to shine and blow minds. \"EAR\" We asked a diverse spectrum of music-minded friends to contribute 8-second sound loops with any ambience, tonality or texture they desired. These loops expand in open ears. INTO INFINITY LAUNCHED ON 08.08.08 >>> <a href=\"http://intoinfinity.org\">intoinfinity.org</a></p>                                                                                                                                                                                                                                                                                                                                                                                                                                                                                                                                                                                                                                                                                                                                                                                                                                                                                                                                                                                                                                                                                                                                                                                                                                                                                                                                                                                                                                                                                                                                                                                                                                                                                                                                                                                                                                                                                                                                                                                                                                                                                                                                                                                                                                                                                                                                                                                                                                                                                                                                                                                                                                                                                                                                                                                                                                                                                                                          151\n",
       "<p style=\"margin: 0px; font-size: 12px; line-height: normal; font-family: Helvetica;\">Difficult to define <a title=\"NKTR 2017\" href=\"http://www.necktar.info\" target=\"_blank\">Necktar 2017</a>, till the third cycle is not begin.</p>\\n<p style=\"margin: 0px; font-size: 12px; line-height: normal; font-family: Helvetica;\">Currently it is a compilation of hors norme (not normal) music for free sharing, articulated in several thematic episodes and cycles.</p>\\n<p style=\"margin: 0px; font-size: 12px; line-height: normal; font-family: Helvetica;\">For know what it will be ultimately, unless we can travel through time, it won't be until 2017.</p>\\n<p style=\"margin: 0px; font-size: 12px; line-height: normal; font-family: Helvetica;\"> </p>\\n<p style=\"margin: 0px; font-size: 12px; line-height: normal; font-family: Helvetica;\">This volume is dedicated to the Electronic Revolution of William S. Burroughs & to the Cosmic Revolution of Timothy Leary.</p>\\n<p style=\"margin: 0px; font-size: 12px; line-height: normal; font-family: Helvetica;\">A co-release (January 2014) by Le Colibri Necrophile / Earsheltering / H.A.K. Lo-Fi Record.</p>\\n<p style=\"margin: 0px; font-size: 12px; line-height: normal; font-family: Helvetica;\"> </p>\\n<p style=\"margin: 0px; font-size: 12px; line-height: normal; font-family: Helvetica;\">The set of themes of <a title=\"v6\" href=\"http://archive.org/details/Necktar2017Volume6\" target=\"_blank\">volume 6</a> is</p>\\n<p style=\"margin: 0px; font-size: 12px; line-height: normal; font-family: Helvetica;\">Virtual / Fusion / Material : Revolution.</p>\\n<p style=\"margin: 0px; font-size: 12px; line-height: normal; font-family: Helvetica;\"> </p>\\n<p style=\"margin: 0px; font-size: 12px; line-height: normal; font-family: Helvetica;\">The set of themes of <a title=\"v5\" href=\"http://archive.org/details/Necktar2017Volume5\" target=\"_blank\">volume 5</a> is</p>\\n<p style=\"margin: 0px; font-size: 12px; line-height: normal; font-family: Helvetica;\">Artificial / Fusion / Natural : Union.</p>\\n<p style=\"margin: 0px; font-size: 12px; line-height: normal; font-family: Helvetica;\"> </p>\\n<p style=\"margin: 0px; font-size: 12px; line-height: normal; font-family: Helvetica;\">The set of themes of <a title=\"v4\" href=\"http://archive.org/details/Necktar2017Volume4\" target=\"_blank\">volume 4</a> is</p>\\n<p style=\"margin: 0px; font-size: 12px; line-height: normal; font-family: Helvetica;\">Theory / Fusion / Practical : Revelation.</p>\\n<p style=\"margin: 0px; font-size: 12px; line-height: normal; font-family: Helvetica;\"> </p>\\n<p style=\"margin: 0px; font-size: 12px; line-height: normal; font-family: Helvetica;\">The set of themes of <a title=\"v3\" href=\"http://archive.org/details/Necktar2017Volume3\" target=\"_blank\">volume 3</a> is</p>\\n<p style=\"margin: 0px; font-size: 12px; line-height: normal; font-family: Helvetica;\">Macro / Perception / Micro : Evolution.</p>\\n<p style=\"margin: 0px; font-size: 12px; line-height: normal; font-family: Helvetica;\"> </p>\\n<p style=\"margin: 0px; font-size: 12px; line-height: normal; font-family: Helvetica;\">The set of themes of <a title=\"v2\" href=\"http://archive.org/details/Necktar2017Volume2\" target=\"_blank\">volume 2</a> is</p>\\n<p style=\"margin: 0px; font-size: 12px; line-height: normal; font-family: Helvetica;\">Random / Perception / Cycles : Reproduction.</p>\\n<p style=\"margin: 0px; font-size: 12px; line-height: normal; font-family: Helvetica;\"> </p>\\n<p style=\"margin: 0px; font-size: 12px; line-height: normal; font-family: Helvetica;\">The set of themes of <a title=\"v1\" href=\"http://archive.org/details/Necktar2017Volume1\" target=\"_blank\">volume 1</a> is</p>\\n<p style=\"margin: 0px; font-size: 12px; line-height: normal; font-family: Helvetica;\">Reel / Perception / Realities : Illusion.</p>    150\n",
       "<p><a href=\"http://wfmu.org/\" target=\"_blank\">WFMU</a> and the <a href=\"http://www.freemusicarchive.org/\" target=\"_blank\">Free Music Archive</a> challenged songwriters everywhere to unseat “Happy Birthday to You” from its cultural throne by composing possible replacements.<br /><br />This entire birthday song repository is licensed <a href=\"http://creativecommons.org/licenses/by/3.0/\">Creative Commons Attribution</a>, including our <a href=\"/curator/FMA/blog/Announcing_the_Happy_Birthday_Replacement_Songs\">winning songs</a>.</p>                                                                                                                                                                                                                                                                                                                                                                                                                                                                                                                                                                                                                                                                                                                                                                                                                                                                                                                                                                                                                                                                                                                                                                                                                                                                                                                                                                                                                                                                                                                                                                                                                                                                                                                                                                                                                                                                                                                                                                                                                                                                                                                                                                                                                                                                                                                                                                                                                                                                                                                                                                                                                                                                                                                                                                                                                                                                                                                                                                                                                                                                                                                                                                                                                                                                                                                                                      139\n",
       "                                                                                                                                                                                                                                                                                                                                                                                                                                                                                                                                                                                                                                                                                                                                                                                                                                                                                                                                                                                                                                                                                                                                                                                                                                                                                                                                                                                                                                                                                                                                                                                                                                                                                                                                                                                                                                                                                                                                                                                                                                                                                                                                                                                                                                                                                                                                                                                                                                                                                                                                                                                                                                                                                                                                                                                                                                                                                                                                                                                                                                                                                                                                                                                                                                                                                                                                                                                                                                                                                                                                                                                                                                                                                                                                                                                                                                                                                                           ... \n",
       "<p>Friends Who Are Fathers - Learning Music Remix</p>\\n\\n<p>originally written and recorded by Mooey Moobau  (<a href=\"http://myspace.com/mooeymoobau\">myspace.com/mooeymoobau</a>)</p>\\n\\n<p>this is the single off September's issue of Learning Music Monthly\\n.... LMM 2.7 - Friends Who Are .... a selection of remixes by John Wood\\nand Lisa Tremain (featuring songs by Charlies Wadhams, The Sweet Hurt,\\nVideo, ForgetMeNauts, The Years, Willoughby, Electrocute, The Hair\\nPUddle, The Peter Pinguid Society, and Joe Davancens)</p>                                                                                                                                                                                                                                                                                                                                                                                                                                                                                                                                                                                                                                                                                                                                                                                                                                                                                                                                                                                                                                                                                                                                                                                                                                                                                                                                                                                                                                                                                                                                                                                                                                                                                                                                                                                                                                                                                                                                                                                                                                                                                                                                                                                                                                                                                                                                                                                                                                                                                                                                                                                                                                                                                                                                                                                                                                                                                                                                                                                                                                                                                                                                                                                                                                                                                                                                                              1\n",
       "<p>Fresh off their terrific one-off appearance at the Numina Lente festival in NYC, Thierry Müller (Ilitch, Ruth) and Aaron Moore (Volcano the Bear, Dragon or Emperor) visited WFMU to perform live. Thierry's been experimenting with sound since beginning his musical career as Arcane in the early '70s. His outings with Ilitch and Ruth have run the gamut from atmospheric drift to synth wave.</p><p>[<a href=\"http://wfmu.org/playlists/shows/40063\" title=\"http://wfmu.org/playlists/shows/40063\" target=\"_blank\">Playlist for Daniel Blumin's show, April 23rd 2011</a>]</p>                                                                                                                                                                                                                                                                                                                                                                                                                                                                                                                                                                                                                                                                                                                                                                                                                                                                                                                                                                                                                                                                                                                                                                                                                                                                                                                                                                                                                                                                                                                                                                                                                                                                                                                                                                                                                                                                                                                                                                                                                                                                                                                                                                                                                                                                                                                                                                                                                                                                                                                                                                                                                                                                                                                                                                                                                                                                                                                                                                                                                                                                                                                                                                                                                                                                                                                      1\n",
       "<p>Fresh from an acclaimed UK tour supporting Four Tet (with Nathan Fake   and Pantha Du Prince) last March, today they have out a digital 12” on  Four  Tet / Kieran Hebden own record label, Text Records ( physical 12″  will be out in october). And be sure to check the upcoming live dates on  their <a href=\"http://www.myspace.com/rocketnumbernine\">website</a>, they’re going to tour again with Four Tet in november and they will play few shows with Caribou and James Holden.</p>\\n<p>The free download song of the week is taken from “You Reflect Me” (available from <a href=\"http://www.tracerecordings.com/releases.html\">Trace Recordings</a>),  an album which they recorded onto a minidisc, when they played as an  improv only duo, a few years ago. Take off for the planet Venus.</p>\\n<p>Read more about this artist and this record at <a href=\"http://bit.ly/badpanda48\">Bad Panda Records</a>.</p>                                                                                                                                                                                                                                                                                                                                                                                                                                                                                                                                                                                                                                                                                                                                                                                                                                                                                                                                                                                                                                                                                                                                                                                                                                                                                                                                                                                                                                                                                                                                                                                                                                                                                                                                                                                                                                                                                                                                                                                                                                                                                                                                                                                                                                                                                                                                                                                                                                                                                                                                                                                                                                                                                                                                                                                                                                                                                                                                                                             1\n",
       "<p>Free download from The Bordellos forthcoming album \"Ronco Revival Sounds\" (DADD14) which will be available on September 27th in a limited edition of 100 on Daddy Tank Records.</p>                                                                                                                                                                                                                                                                                                                                                                                                                                                                                                                                                                                                                                                                                                                                                                                                                                                                                                                                                                                                                                                                                                                                                                                                                                                                                                                                                                                                                                                                                                                                                                                                                                                                                                                                                                                                                                                                                                                                                                                                                                                                                                                                                                                                                                                                                                                                                                                                                                                                                                                                                                                                                                                                                                                                                                                                                                                                                                                                                                                                                                                                                                                                                                                                                                                                                                                                                                                                                                                                                                                                                                                                                                                                                                                        1\n",
       "<p>Debut Album. Recorded at Black Box Studios, France.</p>                                                                                                                                                                                                                                                                                                                                                                                                                                                                                                                                                                                                                                                                                                                                                                                                                                                                                                                                                                                                                                                                                                                                                                                                                                                                                                                                                                                                                                                                                                                                                                                                                                                                                                                                                                                                                                                                                                                                                                                                                                                                                                                                                                                                                                                                                                                                                                                                                                                                                                                                                                                                                                                                                                                                                                                                                                                                                                                                                                                                                                                                                                                                                                                                                                                                                                                                                                                                                                                                                                                                                                                                                                                                                                                                                                                                                                                    1\n",
       "Name: information, Length: 11075, dtype: int64"
      ]
     },
     "execution_count": 75,
     "metadata": {},
     "output_type": "execute_result"
    }
   ],
   "source": [
    "album['information'].value_counts()"
   ]
  },
  {
   "cell_type": "markdown",
   "metadata": {},
   "source": [
    "information sono riportate info varie sull'album in formato html\n",
    "\n",
    "attributo categorico\n",
    "\n",
    "23425 null value"
   ]
  },
  {
   "cell_type": "markdown",
   "metadata": {},
   "source": [
    "## listens"
   ]
  },
  {
   "cell_type": "code",
   "execution_count": 76,
   "metadata": {},
   "outputs": [
    {
     "data": {
      "text/plain": [
       "-1         3529\n",
       " 325595     310\n",
       " 97866      151\n",
       " 70247      150\n",
       " 30149      142\n",
       "           ... \n",
       " 473          1\n",
       " 601          1\n",
       " 10844        1\n",
       " 6810         1\n",
       " 2049         1\n",
       "Name: listens, Length: 10092, dtype: int64"
      ]
     },
     "execution_count": 76,
     "metadata": {},
     "output_type": "execute_result"
    }
   ],
   "source": [
    "album['listens'].value_counts()"
   ]
  },
  {
   "cell_type": "markdown",
   "metadata": {},
   "source": [
    "listens attributo che indica quante volte è stata ascoltato un album\n",
    "\n",
    "attributo numerico discreto\n",
    "\n",
    "not null value\n",
    "\n",
    "-1 sta per le track senza album"
   ]
  },
  {
   "cell_type": "markdown",
   "metadata": {},
   "source": [
    "## producer"
   ]
  },
  {
   "cell_type": "code",
   "execution_count": 77,
   "metadata": {},
   "outputs": [
    {
     "data": {
      "text/plain": [
       "Joe Belock            855\n",
       "Terre T               819\n",
       "Classwar Karaoke      530\n",
       "Rob Weisberg          459\n",
       "Evan \"Funk\" Davies    441\n",
       "                     ... \n",
       "Robert Lippok           1\n",
       "Flex Vector             1\n",
       "Black Ops               1\n",
       "Jane Shields            1\n",
       "Andrew Vincent          1\n",
       "Name: producer, Length: 760, dtype: int64"
      ]
     },
     "execution_count": 77,
     "metadata": {},
     "output_type": "execute_result"
    }
   ],
   "source": [
    "album['producer'].value_counts()"
   ]
  },
  {
   "cell_type": "markdown",
   "metadata": {},
   "source": [
    "producer attributo che indica il nome del producer dell'album\n",
    "\n",
    "attributo categorico\n",
    "\n",
    "88514 null value\n"
   ]
  },
  {
   "cell_type": "markdown",
   "metadata": {},
   "source": [
    "## tags"
   ]
  },
  {
   "cell_type": "code",
   "execution_count": 78,
   "metadata": {},
   "outputs": [
    {
     "data": {
      "text/plain": [
       "[]                                                                                                                                                         83549\n",
       "[interiors c1964, existential, hardcore-punk, pop-punk, punk-rock, internet boyfriend, rew starr, public domain, creative commons, microsong challenge]      310\n",
       "[classwar karaoke]                                                                                                                                           238\n",
       "[all styles experimental]                                                                                                                                    215\n",
       "[improvisation, not normal music, all styles experimental]                                                                                                   195\n",
       "                                                                                                                                                           ...  \n",
       "[murmurists, spe_0020, anthony donovan]                                                                                                                        1\n",
       "[christmas]                                                                                                                                                    1\n",
       "[classical, instrumental, experimental, anne lebaron]                                                                                                          1\n",
       "[folk, improvisation, girilal baars, electronic, clinical archives]                                                                                            1\n",
       "[four tet, beach house, beach, kygo, jamie xx, ambient electronic, park, tycho, bonobo, uplifting, summer]                                                     1\n",
       "Name: tags, Length: 2388, dtype: int64"
      ]
     },
     "execution_count": 78,
     "metadata": {},
     "output_type": "execute_result"
    }
   ],
   "source": [
    "album['tags'].value_counts()"
   ]
  },
  {
   "cell_type": "markdown",
   "metadata": {},
   "source": [
    "tags come valori ha un array di stringhe con parole chiave\n",
    "\n",
    "83549 record hanno come valore un array vuoto\n"
   ]
  },
  {
   "cell_type": "markdown",
   "metadata": {},
   "source": [
    "\n",
    "## title"
   ]
  },
  {
   "cell_type": "code",
   "execution_count": 79,
   "metadata": {},
   "outputs": [
    {
     "data": {
      "text/plain": [
       "microSong Entries                                              310\n",
       "Sectioned v4.0                                                 200\n",
       "Live at the 2014 Golden Festival                               168\n",
       "INTO INFINITY: an exploration of on and on and on and on...    151\n",
       "Necktar Volume 6                                               150\n",
       "                                                              ... \n",
       "The Bulgarian Secret Police M&amp;M Torture Trick (Side 1)       1\n",
       "Live at CKUT on New Shit October 2010                            1\n",
       "Peyote Road                                                      1\n",
       "Lighten Up                                                       1\n",
       "Prelude To An Eon                                                1\n",
       "Name: title, Length: 14298, dtype: int64"
      ]
     },
     "execution_count": 79,
     "metadata": {},
     "output_type": "execute_result"
    }
   ],
   "source": [
    "album['title'].value_counts()"
   ]
  },
  {
   "cell_type": "markdown",
   "metadata": {},
   "source": [
    "title è il titolo della track\n",
    "\n",
    "attributo categorico\n",
    "\n",
    "1025 valore null\n",
    "\n",
    "14298 record con title unico distinto, gli id diversi sono 14854. Qualcosa non torna del tutto\n",
    "\n",
    "\n"
   ]
  },
  {
   "cell_type": "markdown",
   "metadata": {},
   "source": [
    "## tracks"
   ]
  },
  {
   "cell_type": "code",
   "execution_count": 80,
   "metadata": {},
   "outputs": [
    {
     "data": {
      "text/plain": [
       "10     7115\n",
       "9      6314\n",
       "8      6241\n",
       "6      6006\n",
       "11     5903\n",
       "       ... \n",
       "164      17\n",
       "82       17\n",
       "142      16\n",
       "153      15\n",
       "149      14\n",
       "Name: tracks, Length: 115, dtype: int64"
      ]
     },
     "execution_count": 80,
     "metadata": {},
     "output_type": "execute_result"
    }
   ],
   "source": [
    "album['tracks'].value_counts()"
   ]
  },
  {
   "cell_type": "code",
   "execution_count": 81,
   "metadata": {},
   "outputs": [
    {
     "data": {
      "text/html": [
       "<div>\n",
       "<style scoped>\n",
       "    .dataframe tbody tr th:only-of-type {\n",
       "        vertical-align: middle;\n",
       "    }\n",
       "\n",
       "    .dataframe tbody tr th {\n",
       "        vertical-align: top;\n",
       "    }\n",
       "\n",
       "    .dataframe thead th {\n",
       "        text-align: right;\n",
       "    }\n",
       "</style>\n",
       "<table border=\"1\" class=\"dataframe\">\n",
       "  <thead>\n",
       "    <tr style=\"text-align: right;\">\n",
       "      <th></th>\n",
       "      <th>tracks</th>\n",
       "    </tr>\n",
       "    <tr>\n",
       "      <th>track_id</th>\n",
       "      <th></th>\n",
       "    </tr>\n",
       "  </thead>\n",
       "  <tbody>\n",
       "    <tr>\n",
       "      <th>554</th>\n",
       "      <td>-1</td>\n",
       "    </tr>\n",
       "    <tr>\n",
       "      <th>555</th>\n",
       "      <td>-1</td>\n",
       "    </tr>\n",
       "    <tr>\n",
       "      <th>556</th>\n",
       "      <td>-1</td>\n",
       "    </tr>\n",
       "    <tr>\n",
       "      <th>557</th>\n",
       "      <td>-1</td>\n",
       "    </tr>\n",
       "    <tr>\n",
       "      <th>558</th>\n",
       "      <td>-1</td>\n",
       "    </tr>\n",
       "    <tr>\n",
       "      <th>...</th>\n",
       "      <td>...</td>\n",
       "    </tr>\n",
       "    <tr>\n",
       "      <th>155060</th>\n",
       "      <td>-1</td>\n",
       "    </tr>\n",
       "    <tr>\n",
       "      <th>155061</th>\n",
       "      <td>-1</td>\n",
       "    </tr>\n",
       "    <tr>\n",
       "      <th>155244</th>\n",
       "      <td>-1</td>\n",
       "    </tr>\n",
       "    <tr>\n",
       "      <th>155248</th>\n",
       "      <td>-1</td>\n",
       "    </tr>\n",
       "    <tr>\n",
       "      <th>155288</th>\n",
       "      <td>-1</td>\n",
       "    </tr>\n",
       "  </tbody>\n",
       "</table>\n",
       "<p>3529 rows × 1 columns</p>\n",
       "</div>"
      ],
      "text/plain": [
       "          tracks\n",
       "track_id        \n",
       "554           -1\n",
       "555           -1\n",
       "556           -1\n",
       "557           -1\n",
       "558           -1\n",
       "...          ...\n",
       "155060        -1\n",
       "155061        -1\n",
       "155244        -1\n",
       "155248        -1\n",
       "155288        -1\n",
       "\n",
       "[3529 rows x 1 columns]"
      ]
     },
     "execution_count": 81,
     "metadata": {},
     "output_type": "execute_result"
    }
   ],
   "source": [
    "df = pd.DataFrame(album['tracks'], columns = ['tracks']) \n",
    "df2=pd.DataFrame(df.loc[df.tracks == -1])\n",
    "df2"
   ]
  },
  {
   "cell_type": "markdown",
   "metadata": {},
   "source": [
    "tracks indica il numero di tracks per ogni album\n",
    "\n",
    "attributo numerico discreto\n",
    "\n",
    "3529 record hanno valore -1"
   ]
  },
  {
   "cell_type": "markdown",
   "metadata": {},
   "source": [
    "## type"
   ]
  },
  {
   "cell_type": "code",
   "execution_count": 82,
   "metadata": {},
   "outputs": [
    {
     "data": {
      "text/plain": [
       "Album               87549\n",
       "Radio Program        6551\n",
       "Live Performance     5035\n",
       "Single Tracks         917\n",
       "Contest                14\n",
       "Name: type, dtype: int64"
      ]
     },
     "execution_count": 82,
     "metadata": {},
     "output_type": "execute_result"
    }
   ],
   "source": [
    "album['type'].value_counts()"
   ]
  },
  {
   "cell_type": "markdown",
   "metadata": {},
   "source": [
    "attributo type indica il tipo di album\n",
    "\n",
    "87549 record hanno valore generale 'Album'\n",
    "\n",
    "6508 null value"
   ]
  },
  {
   "cell_type": "markdown",
   "metadata": {},
   "source": [
    "## CAMPI ARTIST"
   ]
  },
  {
   "cell_type": "code",
   "execution_count": 120,
   "metadata": {},
   "outputs": [
    {
     "data": {
      "text/html": [
       "<div>\n",
       "<style scoped>\n",
       "    .dataframe tbody tr th:only-of-type {\n",
       "        vertical-align: middle;\n",
       "    }\n",
       "\n",
       "    .dataframe tbody tr th {\n",
       "        vertical-align: top;\n",
       "    }\n",
       "\n",
       "    .dataframe thead th {\n",
       "        text-align: right;\n",
       "    }\n",
       "</style>\n",
       "<table border=\"1\" class=\"dataframe\">\n",
       "  <thead>\n",
       "    <tr style=\"text-align: right;\">\n",
       "      <th></th>\n",
       "      <th>active_year_begin</th>\n",
       "      <th>active_year_end</th>\n",
       "      <th>associated_labels</th>\n",
       "      <th>bio</th>\n",
       "      <th>comments</th>\n",
       "      <th>date_created</th>\n",
       "      <th>favorites</th>\n",
       "      <th>id</th>\n",
       "      <th>latitude</th>\n",
       "      <th>location</th>\n",
       "      <th>longitude</th>\n",
       "      <th>members</th>\n",
       "      <th>name</th>\n",
       "      <th>related_projects</th>\n",
       "      <th>tags</th>\n",
       "      <th>website</th>\n",
       "      <th>wikipedia_page</th>\n",
       "    </tr>\n",
       "    <tr>\n",
       "      <th>track_id</th>\n",
       "      <th></th>\n",
       "      <th></th>\n",
       "      <th></th>\n",
       "      <th></th>\n",
       "      <th></th>\n",
       "      <th></th>\n",
       "      <th></th>\n",
       "      <th></th>\n",
       "      <th></th>\n",
       "      <th></th>\n",
       "      <th></th>\n",
       "      <th></th>\n",
       "      <th></th>\n",
       "      <th></th>\n",
       "      <th></th>\n",
       "      <th></th>\n",
       "      <th></th>\n",
       "    </tr>\n",
       "  </thead>\n",
       "  <tbody>\n",
       "    <tr>\n",
       "      <th>2</th>\n",
       "      <td>2006-01-01</td>\n",
       "      <td>NaT</td>\n",
       "      <td>NaN</td>\n",
       "      <td>&lt;p&gt;A Way Of Life, A Collective of Hip-Hop from...</td>\n",
       "      <td>0</td>\n",
       "      <td>2008-11-26 01:42:32</td>\n",
       "      <td>9</td>\n",
       "      <td>1</td>\n",
       "      <td>40.058324</td>\n",
       "      <td>New Jersey</td>\n",
       "      <td>-74.405661</td>\n",
       "      <td>Sajje Morocco,Brownbum,ZawidaGod,Custodian of ...</td>\n",
       "      <td>AWOL</td>\n",
       "      <td>The list of past projects is 2 long but every1...</td>\n",
       "      <td>[awol]</td>\n",
       "      <td>http://www.AzillionRecords.blogspot.com</td>\n",
       "      <td>NaN</td>\n",
       "    </tr>\n",
       "    <tr>\n",
       "      <th>3</th>\n",
       "      <td>2006-01-01</td>\n",
       "      <td>NaT</td>\n",
       "      <td>NaN</td>\n",
       "      <td>&lt;p&gt;A Way Of Life, A Collective of Hip-Hop from...</td>\n",
       "      <td>0</td>\n",
       "      <td>2008-11-26 01:42:32</td>\n",
       "      <td>9</td>\n",
       "      <td>1</td>\n",
       "      <td>40.058324</td>\n",
       "      <td>New Jersey</td>\n",
       "      <td>-74.405661</td>\n",
       "      <td>Sajje Morocco,Brownbum,ZawidaGod,Custodian of ...</td>\n",
       "      <td>AWOL</td>\n",
       "      <td>The list of past projects is 2 long but every1...</td>\n",
       "      <td>[awol]</td>\n",
       "      <td>http://www.AzillionRecords.blogspot.com</td>\n",
       "      <td>NaN</td>\n",
       "    </tr>\n",
       "    <tr>\n",
       "      <th>5</th>\n",
       "      <td>2006-01-01</td>\n",
       "      <td>NaT</td>\n",
       "      <td>NaN</td>\n",
       "      <td>&lt;p&gt;A Way Of Life, A Collective of Hip-Hop from...</td>\n",
       "      <td>0</td>\n",
       "      <td>2008-11-26 01:42:32</td>\n",
       "      <td>9</td>\n",
       "      <td>1</td>\n",
       "      <td>40.058324</td>\n",
       "      <td>New Jersey</td>\n",
       "      <td>-74.405661</td>\n",
       "      <td>Sajje Morocco,Brownbum,ZawidaGod,Custodian of ...</td>\n",
       "      <td>AWOL</td>\n",
       "      <td>The list of past projects is 2 long but every1...</td>\n",
       "      <td>[awol]</td>\n",
       "      <td>http://www.AzillionRecords.blogspot.com</td>\n",
       "      <td>NaN</td>\n",
       "    </tr>\n",
       "    <tr>\n",
       "      <th>10</th>\n",
       "      <td>NaT</td>\n",
       "      <td>NaT</td>\n",
       "      <td>Mexican Summer, Richie Records, Woodsist, Skul...</td>\n",
       "      <td>&lt;p&gt;&lt;span style=\"font-family:Verdana, Geneva, A...</td>\n",
       "      <td>3</td>\n",
       "      <td>2008-11-26 01:42:55</td>\n",
       "      <td>74</td>\n",
       "      <td>6</td>\n",
       "      <td>NaN</td>\n",
       "      <td>NaN</td>\n",
       "      <td>NaN</td>\n",
       "      <td>Kurt Vile, the Violators</td>\n",
       "      <td>Kurt Vile</td>\n",
       "      <td>NaN</td>\n",
       "      <td>[philly, kurt vile]</td>\n",
       "      <td>http://kurtvile.com</td>\n",
       "      <td>NaN</td>\n",
       "    </tr>\n",
       "    <tr>\n",
       "      <th>20</th>\n",
       "      <td>1990-01-01</td>\n",
       "      <td>2011-01-01</td>\n",
       "      <td>NaN</td>\n",
       "      <td>&lt;p&gt;Songs written by: Nicky Cook&lt;/p&gt;\\n&lt;p&gt;VOCALS...</td>\n",
       "      <td>2</td>\n",
       "      <td>2008-11-26 01:42:52</td>\n",
       "      <td>10</td>\n",
       "      <td>4</td>\n",
       "      <td>51.895927</td>\n",
       "      <td>Colchester England</td>\n",
       "      <td>0.891874</td>\n",
       "      <td>Nicky Cook\\n</td>\n",
       "      <td>Nicky Cook</td>\n",
       "      <td>NaN</td>\n",
       "      <td>[instrumentals, experimental pop, post punk, e...</td>\n",
       "      <td>NaN</td>\n",
       "      <td>NaN</td>\n",
       "    </tr>\n",
       "  </tbody>\n",
       "</table>\n",
       "</div>"
      ],
      "text/plain": [
       "         active_year_begin active_year_end  \\\n",
       "track_id                                     \n",
       "2               2006-01-01             NaT   \n",
       "3               2006-01-01             NaT   \n",
       "5               2006-01-01             NaT   \n",
       "10                     NaT             NaT   \n",
       "20              1990-01-01      2011-01-01   \n",
       "\n",
       "                                          associated_labels  \\\n",
       "track_id                                                      \n",
       "2                                                       NaN   \n",
       "3                                                       NaN   \n",
       "5                                                       NaN   \n",
       "10        Mexican Summer, Richie Records, Woodsist, Skul...   \n",
       "20                                                      NaN   \n",
       "\n",
       "                                                        bio  comments  \\\n",
       "track_id                                                                \n",
       "2         <p>A Way Of Life, A Collective of Hip-Hop from...         0   \n",
       "3         <p>A Way Of Life, A Collective of Hip-Hop from...         0   \n",
       "5         <p>A Way Of Life, A Collective of Hip-Hop from...         0   \n",
       "10        <p><span style=\"font-family:Verdana, Geneva, A...         3   \n",
       "20        <p>Songs written by: Nicky Cook</p>\\n<p>VOCALS...         2   \n",
       "\n",
       "                date_created  favorites  id   latitude            location  \\\n",
       "track_id                                                                     \n",
       "2        2008-11-26 01:42:32          9   1  40.058324          New Jersey   \n",
       "3        2008-11-26 01:42:32          9   1  40.058324          New Jersey   \n",
       "5        2008-11-26 01:42:32          9   1  40.058324          New Jersey   \n",
       "10       2008-11-26 01:42:55         74   6        NaN                 NaN   \n",
       "20       2008-11-26 01:42:52         10   4  51.895927  Colchester England   \n",
       "\n",
       "          longitude                                            members  \\\n",
       "track_id                                                                 \n",
       "2        -74.405661  Sajje Morocco,Brownbum,ZawidaGod,Custodian of ...   \n",
       "3        -74.405661  Sajje Morocco,Brownbum,ZawidaGod,Custodian of ...   \n",
       "5        -74.405661  Sajje Morocco,Brownbum,ZawidaGod,Custodian of ...   \n",
       "10              NaN                           Kurt Vile, the Violators   \n",
       "20         0.891874                                       Nicky Cook\\n   \n",
       "\n",
       "                name                                   related_projects  \\\n",
       "track_id                                                                  \n",
       "2               AWOL  The list of past projects is 2 long but every1...   \n",
       "3               AWOL  The list of past projects is 2 long but every1...   \n",
       "5               AWOL  The list of past projects is 2 long but every1...   \n",
       "10         Kurt Vile                                                NaN   \n",
       "20        Nicky Cook                                                NaN   \n",
       "\n",
       "                                                       tags  \\\n",
       "track_id                                                      \n",
       "2                                                    [awol]   \n",
       "3                                                    [awol]   \n",
       "5                                                    [awol]   \n",
       "10                                      [philly, kurt vile]   \n",
       "20        [instrumentals, experimental pop, post punk, e...   \n",
       "\n",
       "                                          website wikipedia_page  \n",
       "track_id                                                          \n",
       "2         http://www.AzillionRecords.blogspot.com            NaN  \n",
       "3         http://www.AzillionRecords.blogspot.com            NaN  \n",
       "5         http://www.AzillionRecords.blogspot.com            NaN  \n",
       "10                            http://kurtvile.com            NaN  \n",
       "20                                            NaN            NaN  "
      ]
     },
     "execution_count": 120,
     "metadata": {},
     "output_type": "execute_result"
    }
   ],
   "source": [
    "tracks['artist'].head()"
   ]
  },
  {
   "cell_type": "code",
   "execution_count": 85,
   "metadata": {},
   "outputs": [
    {
     "name": "stdout",
     "output_type": "stream",
     "text": [
      "<class 'pandas.core.frame.DataFrame'>\n",
      "Int64Index: 106574 entries, 2 to 155320\n",
      "Data columns (total 17 columns):\n",
      " #   Column             Non-Null Count   Dtype         \n",
      "---  ------             --------------   -----         \n",
      " 0   active_year_begin  22711 non-null   datetime64[ns]\n",
      " 1   active_year_end    5375 non-null    datetime64[ns]\n",
      " 2   associated_labels  14271 non-null   object        \n",
      " 3   bio                71156 non-null   category      \n",
      " 4   comments           106574 non-null  int64         \n",
      " 5   date_created       105718 non-null  datetime64[ns]\n",
      " 6   favorites          106574 non-null  int64         \n",
      " 7   id                 106574 non-null  int64         \n",
      " 8   latitude           44544 non-null   float64       \n",
      " 9   location           70210 non-null   object        \n",
      " 10  longitude          44544 non-null   float64       \n",
      " 11  members            46849 non-null   object        \n",
      " 12  name               106574 non-null  object        \n",
      " 13  related_projects   13152 non-null   object        \n",
      " 14  tags               106574 non-null  object        \n",
      " 15  website            79256 non-null   object        \n",
      " 16  wikipedia_page     5581 non-null    object        \n",
      "dtypes: category(1), datetime64[ns](3), float64(2), int64(3), object(8)\n",
      "memory usage: 14.2+ MB\n"
     ]
    }
   ],
   "source": [
    " tracks['artist'].info()"
   ]
  },
  {
   "cell_type": "code",
   "execution_count": 86,
   "metadata": {},
   "outputs": [
    {
     "data": {
      "text/plain": [
       "active_year_begin     83863\n",
       "active_year_end      101199\n",
       "associated_labels     92303\n",
       "bio                   35418\n",
       "comments                  0\n",
       "date_created            856\n",
       "favorites                 0\n",
       "id                        0\n",
       "latitude              62030\n",
       "location              36364\n",
       "longitude             62030\n",
       "members               59725\n",
       "name                      0\n",
       "related_projects      93422\n",
       "tags                      0\n",
       "website               27318\n",
       "wikipedia_page       100993\n",
       "dtype: int64"
      ]
     },
     "execution_count": 86,
     "metadata": {},
     "output_type": "execute_result"
    }
   ],
   "source": [
    " tracks['artist'].isnull().sum()"
   ]
  },
  {
   "cell_type": "code",
   "execution_count": 87,
   "metadata": {},
   "outputs": [
    {
     "data": {
      "text/html": [
       "<div>\n",
       "<style scoped>\n",
       "    .dataframe tbody tr th:only-of-type {\n",
       "        vertical-align: middle;\n",
       "    }\n",
       "\n",
       "    .dataframe tbody tr th {\n",
       "        vertical-align: top;\n",
       "    }\n",
       "\n",
       "    .dataframe thead th {\n",
       "        text-align: right;\n",
       "    }\n",
       "</style>\n",
       "<table border=\"1\" class=\"dataframe\">\n",
       "  <thead>\n",
       "    <tr style=\"text-align: right;\">\n",
       "      <th></th>\n",
       "      <th>comments</th>\n",
       "      <th>favorites</th>\n",
       "      <th>id</th>\n",
       "      <th>latitude</th>\n",
       "      <th>longitude</th>\n",
       "    </tr>\n",
       "  </thead>\n",
       "  <tbody>\n",
       "    <tr>\n",
       "      <th>count</th>\n",
       "      <td>106574.000000</td>\n",
       "      <td>106574.000000</td>\n",
       "      <td>106574.000000</td>\n",
       "      <td>44544.000000</td>\n",
       "      <td>44544.000000</td>\n",
       "    </tr>\n",
       "    <tr>\n",
       "      <th>mean</th>\n",
       "      <td>1.894702</td>\n",
       "      <td>30.041915</td>\n",
       "      <td>12036.770404</td>\n",
       "      <td>39.901626</td>\n",
       "      <td>-38.668642</td>\n",
       "    </tr>\n",
       "    <tr>\n",
       "      <th>std</th>\n",
       "      <td>6.297679</td>\n",
       "      <td>100.511408</td>\n",
       "      <td>6881.420867</td>\n",
       "      <td>18.240860</td>\n",
       "      <td>65.237220</td>\n",
       "    </tr>\n",
       "    <tr>\n",
       "      <th>min</th>\n",
       "      <td>-1.000000</td>\n",
       "      <td>-1.000000</td>\n",
       "      <td>1.000000</td>\n",
       "      <td>-45.878760</td>\n",
       "      <td>-157.526855</td>\n",
       "    </tr>\n",
       "    <tr>\n",
       "      <th>25%</th>\n",
       "      <td>0.000000</td>\n",
       "      <td>1.000000</td>\n",
       "      <td>6443.000000</td>\n",
       "      <td>39.271398</td>\n",
       "      <td>-79.997459</td>\n",
       "    </tr>\n",
       "    <tr>\n",
       "      <th>50%</th>\n",
       "      <td>0.000000</td>\n",
       "      <td>5.000000</td>\n",
       "      <td>12029.500000</td>\n",
       "      <td>41.387917</td>\n",
       "      <td>-73.554431</td>\n",
       "    </tr>\n",
       "    <tr>\n",
       "      <th>75%</th>\n",
       "      <td>1.000000</td>\n",
       "      <td>16.000000</td>\n",
       "      <td>18011.000000</td>\n",
       "      <td>48.856930</td>\n",
       "      <td>4.351710</td>\n",
       "    </tr>\n",
       "    <tr>\n",
       "      <th>max</th>\n",
       "      <td>79.000000</td>\n",
       "      <td>963.000000</td>\n",
       "      <td>24357.000000</td>\n",
       "      <td>67.286005</td>\n",
       "      <td>175.277000</td>\n",
       "    </tr>\n",
       "  </tbody>\n",
       "</table>\n",
       "</div>"
      ],
      "text/plain": [
       "            comments      favorites             id      latitude     longitude\n",
       "count  106574.000000  106574.000000  106574.000000  44544.000000  44544.000000\n",
       "mean        1.894702      30.041915   12036.770404     39.901626    -38.668642\n",
       "std         6.297679     100.511408    6881.420867     18.240860     65.237220\n",
       "min        -1.000000      -1.000000       1.000000    -45.878760   -157.526855\n",
       "25%         0.000000       1.000000    6443.000000     39.271398    -79.997459\n",
       "50%         0.000000       5.000000   12029.500000     41.387917    -73.554431\n",
       "75%         1.000000      16.000000   18011.000000     48.856930      4.351710\n",
       "max        79.000000     963.000000   24357.000000     67.286005    175.277000"
      ]
     },
     "execution_count": 87,
     "metadata": {},
     "output_type": "execute_result"
    }
   ],
   "source": [
    " tracks['artist'].describe()"
   ]
  },
  {
   "cell_type": "code",
   "execution_count": 88,
   "metadata": {},
   "outputs": [],
   "source": [
    "artist=tracks['artist']"
   ]
  },
  {
   "cell_type": "markdown",
   "metadata": {},
   "source": [
    "## active_year_begin     \n",
    "\n"
   ]
  },
  {
   "cell_type": "code",
   "execution_count": 90,
   "metadata": {},
   "outputs": [
    {
     "data": {
      "text/plain": [
       "2007-01-01    1789\n",
       "2005-01-01    1534\n",
       "2008-01-01    1468\n",
       "2006-01-01    1352\n",
       "2004-01-01    1237\n",
       "              ... \n",
       "1954-01-01       1\n",
       "1917-01-01       1\n",
       "1931-01-01       1\n",
       "1948-01-01       1\n",
       "1959-01-01       1\n",
       "Name: active_year_begin, Length: 76, dtype: int64"
      ]
     },
     "execution_count": 90,
     "metadata": {},
     "output_type": "execute_result"
    }
   ],
   "source": [
    "artist['active_year_begin'].value_counts()"
   ]
  },
  {
   "cell_type": "code",
   "execution_count": 91,
   "metadata": {},
   "outputs": [
    {
     "data": {
      "image/png": "[encoded data removed]",
      "text/plain": [
       "<Figure size 1224x360 with 1 Axes>"
      ]
     },
     "metadata": {
      "needs_background": "light"
     },
     "output_type": "display_data"
    }
   ],
   "source": [
    "artist['active_year_begin'].hist(bins=60)\n",
    "plt.title(\"active_year_begin\")\n",
    "plt.xlabel('')\n",
    "plt.ylabel('Count')\n",
    "\n",
    "plt.show()"
   ]
  },
  {
   "cell_type": "markdown",
   "metadata": {},
   "source": [
    "active_year_begin anno in cui l'artista ha debuttato\n",
    "\n",
    "distribuzione asimmetrica negativa, moda nel 2007\n",
    "\n",
    "83863 null value"
   ]
  },
  {
   "cell_type": "markdown",
   "metadata": {},
   "source": [
    "## active_year_end"
   ]
  },
  {
   "cell_type": "code",
   "execution_count": 92,
   "metadata": {},
   "outputs": [
    {
     "data": {
      "text/plain": [
       "2016-01-01    479\n",
       "2015-01-01    476\n",
       "2014-01-01    455\n",
       "2007-01-01    356\n",
       "2010-01-01    321\n",
       "2017-01-01    289\n",
       "2011-01-01    272\n",
       "2009-01-01    252\n",
       "2013-01-01    245\n",
       "2008-01-01    225\n",
       "2005-01-01    218\n",
       "2012-01-01    210\n",
       "1995-01-01    189\n",
       "2018-01-01    150\n",
       "2053-01-01    149\n",
       "1989-01-01    127\n",
       "2000-01-01    117\n",
       "2001-01-01     94\n",
       "2006-01-01     92\n",
       "1999-01-01     68\n",
       "2036-01-01     61\n",
       "1998-01-01     56\n",
       "1993-01-01     51\n",
       "2002-01-01     51\n",
       "2003-01-01     47\n",
       "2004-01-01     43\n",
       "1983-01-01     36\n",
       "1992-01-01     32\n",
       "1996-01-01     29\n",
       "1975-01-01     28\n",
       "1997-01-01     27\n",
       "2086-01-01     21\n",
       "1945-01-01     12\n",
       "1950-01-01     12\n",
       "1994-01-01     11\n",
       "2025-01-01     11\n",
       "1991-01-01     10\n",
       "1985-01-01      7\n",
       "1980-01-01      6\n",
       "1929-01-01      5\n",
       "1928-01-01      5\n",
       "1922-01-01      4\n",
       "1957-01-01      4\n",
       "1927-01-01      4\n",
       "1917-01-01      3\n",
       "1935-01-01      2\n",
       "1976-01-01      2\n",
       "1913-01-01      2\n",
       "1926-01-01      1\n",
       "1948-01-01      1\n",
       "1931-01-01      1\n",
       "1958-01-01      1\n",
       "1937-01-01      1\n",
       "1910-01-01      1\n",
       "1932-01-01      1\n",
       "1903-01-01      1\n",
       "1954-01-01      1\n",
       "Name: active_year_end, dtype: int64"
      ]
     },
     "execution_count": 92,
     "metadata": {},
     "output_type": "execute_result"
    }
   ],
   "source": [
    "artist['active_year_end'].value_counts()"
   ]
  },
  {
   "cell_type": "code",
   "execution_count": 93,
   "metadata": {},
   "outputs": [
    {
     "data": {
      "image/png": "[encoded data removed]",
      "text/plain": [
       "<Figure size 1224x360 with 1 Axes>"
      ]
     },
     "metadata": {
      "needs_background": "light"
     },
     "output_type": "display_data"
    }
   ],
   "source": [
    "artist['active_year_end'].hist(bins=60)\n",
    "plt.title(\"active_year_end\")\n",
    "plt.xlabel('')\n",
    "plt.ylabel('Count')\n",
    "\n",
    "plt.show()"
   ]
  },
  {
   "cell_type": "markdown",
   "metadata": {},
   "source": [
    "active_year_end anno in cui l'artist si è ritirato\n",
    "\n",
    "101199 null value"
   ]
  },
  {
   "cell_type": "markdown",
   "metadata": {},
   "source": [
    "## associated_labels"
   ]
  },
  {
   "cell_type": "code",
   "execution_count": 95,
   "metadata": {},
   "outputs": [
    {
     "data": {
      "text/plain": [
       "HUSH Records                                                                                                       604\n",
       "Care in the Community Recordings, Gagarin Records, Soleilmoon Recordings, Womb Records                             499\n",
       "eg0cide, Withering Trees, Art1ficial Records, Black Circle Records, Kava Karvup Recordings, Effluvia Recordings    333\n",
       "Daddy Tank Records                                                                                                 290\n",
       "Parenthetical Records                                                                                              286\n",
       "                                                                                                                  ... \n",
       "appears courtesy of RCA/ATO Records                                                                                  1\n",
       "Super 6 Records, \\nPharmacom Records, \\nSäurebad Records,\\nChillzone Records                                         1\n",
       "Breathmint                                                                                                           1\n",
       "The Broadway To Boundary, \\nINW\\n                                                                                    1\n",
       "Organized Sound Recordings                                                                                           1\n",
       "Name: associated_labels, Length: 754, dtype: int64"
      ]
     },
     "execution_count": 95,
     "metadata": {},
     "output_type": "execute_result"
    }
   ],
   "source": [
    "artist['associated_labels'].value_counts()"
   ]
  },
  {
   "cell_type": "markdown",
   "metadata": {},
   "source": [
    "associated_labels etichette associate all'artista\n",
    "\n",
    "92303 null value"
   ]
  },
  {
   "cell_type": "markdown",
   "metadata": {},
   "source": [
    "## bio                   "
   ]
  },
  {
   "cell_type": "code",
   "execution_count": 96,
   "metadata": {},
   "outputs": [
    {
     "data": {
      "text/plain": [
       "<p><span style=\"color: #333333; font-family: Georgia, 'Times New Roman', 'Bitstream Charter', Times, serif; font-size: 13px; line-height: 19px; text-align: left;\">Kosta T / Konstantin Trokay is a formative Russian musician with an interest in contemporary music, looking for new ways of expressing his particular world view...</span></p>                                                                                                                                                                                                                                                                                                                                                                                                                                                                                                                                                                                                                                                                                                                                                                                                                                                                                                                                                                                                                                                                                                                                                                                                                                                                                                                                                                                                                                                                                                                                                                                                                                                                                                                                                                                                                        745\n",
       "<p>A mysterious bear named Podington took the Internet by storm in 2007, releasing three beautifully crafted songs a week. Podington's podcast rubbed shoulders with <em>KEXP's Song of the Day</em> and <em>NPR's All Songs Considered</em> atop the the iTunes charts, while his story captivated <em>Morning Edition</em>, <em>The Globe and Mail</em>, <em>Wired.com's</em> Listening Post, and and dozens of influential music blogs. The experiment inspired countless new works of art, and translated into commercial success.</p>\\n<p>The true identity of Podington Bear remained a mystery throughout the entire project. Then, upon the release of a retrospective box set in July 2008 his identity was revealed.  <strong>Chad Crouch</strong>, proprietor of Portland Oregon's influential HUSH Records, and former bandleader for the group Blanket Music was the big-eared culprit.</p>\\n<p>Since then, Crouch has continued to record instrumental music as Podington Bear, while significantly broadening his ouevre to include minimalism, neoclassical, ambient, soul, and simply more of what people were attracted to in the first place:  Music that surprises and delights, regardless of genre.</p>\\n<p>Crouch released an extensive library of music entitled <a href=\"http://soundofpicture.com/\">The Sound Of Picture Production Library</a> for creative pros and amateurs, free to download and free to use under the <a href=\"http://creativecommons.org/licenses/by-nc/3.0/\">Creative Commons Attribution-NonCommercial 3.0 License</a>.  (For a commercial license, or clarification of terms please contact <a href=\"mailto:%20podingtonbear@gmail.com\">podingtonbear@gmail.com</a>)</p>                                                                                                                                                                                                                                                                                                                                                                                                                                              604\n",
       "<p>Ergo Phizmiz is one of the most productive artists in the world. Over the past 13 years he has created a body of work of hundreds of hours across theatre, songwriting, text, electronic music, collage exhibitions, installations, opera, video, and radioplays that has constantly defied categorisation and been performed or broadcast all over the world.His work has included \"The Faust Cycle\" (a 15 hour audio adventure); \"M: 1000 Year Mix\" (a collage spanning a millennium), the unique operas \"Gala\", \"Gargantua\", \"The Mourning Show\", \"UOEIA\" and \"Fulcanelli's Shoes\"; the songwriting albums \"Things to Do and Make\" and \"Eleven Songs\"; his cover-versions of music by Beyonce, the Velvet Underground, Aphex Twin, and the Pet Shop Boys; and award-winning radioplays \"Disappearing Boxes\", \"Conversations With Birds\", \"Paul Klee, a Balloon, the Moon, Music and Me\", and \"Boojum\".Places that have presented Ergo Phizmiz's work include BBC 6 Music, BBC Radio 3, Bayerischer Rundfunk, Tete a Tete: The Opera Festival, Deutschlandradiokultur, Channel 4 television, WDR3, DePlayer, Soundart Radio, WFMU, Resonance FM, Sonic Arts Network, the Royal Festival Hall, and Tate Modern. Record labels that have released his music include Care in the Community Recordings, UpItUp Records, Touch, Illegal Art, Headphonica, Soleilmoon, and Populista.Ergo has been a prominent figure in the Creative Commons music world for almost ten years, and has given away vast troves of his work online, which has become very popular with video-makers internationally (Youtube alone now features over 1500 videos with Ergo Phizmiz music). He has also composed film and television scores for Vicki Bennett / People Like Us, Christian Marclay, and Frankie Boyle.The work of Ergo Phizmiz is characterised by restless change and playful toying with history, art, music, science, and the limits between creativity and charlatanism, copyrights and copywrongs, words and music.He lives in Bridport, UK.If you are interested in booking a performance or commission from Ergo Phizmiz, contact ergophizmiz at gmail dot com</p>    499\n",
       "<p><a title=\"Blue Dot Website\" href=\"/contribute/artist/www.sessions.blue/sessions\">Download and license the complete Session at www.sessions.blue/sessions. </a></p>\\n<p>Blue Dot Sessions hosts a huge collection of recordings made at the studio here in Oregon.  Browse recordings by mood, performers and instruments.  A lot of what we record is improvisational and put together on the spot with the performers that are present.  </p>\\n<p> </p>\\n<p> Many of the recordings are freely downloadable and usable under a <a style=\"color:#808080;text-decoration:none;background:transparent;\" href=\"http://www.sessions.blue/licensing/\">creative commons license</a>.  We offer a simple inexpensive license for commercial projects.</p>                                                                                                                                                                                                                                                                                                                                                                                                                                                                                                                                                                                                                                                                                                                                                                                                                                                                                                                                                                                                                                                                                                                                                                                                                                                                                                                                                                                                                    416\n",
       "<p>Canadian artist <a href=\"/music/Lee_Rosevere/\">Lee Rosevere</a> (pron. rose-veer) has been riding on the crest of the free digital music wave for about as long as the web has been able to provide music files. His music has been heard in films, documentaries, podcasts (NPR's Planet Money & Invisibilia, ABC, BBC, CBC) and operates his own quality and low key free netlabel, <a href=\"http://happypuppyrecords.ca\" target=\"_blank\">Happy Puppy Records</a> and a few things available on <a href=\"http://leerosevere.bandcamp.com\" target=\"_blank\">Bandcamp</a> in lossless quality. He works in the radio industry by day.</p>\\n<p>Most of Lee's music here on the FMA is available for non-commercial usage.  Licenses for commercial uses are determined on an individual basis - if you have any questions,  just <a href=\"mailto:leerosevere@gmail.com\" target=\"_blank\">contact Lee for details</a>.</p>                                                                                                                                                                                                                                                                                                                                                                                                                                                                                                                                                                                                                                                                                                                                                                                                                                                                                                                                                                                                                                                                                                                                                                                                                                                371\n",
       "                                                                                                                                                                                                                                                                                                                                                                                                                                                                                                                                                                                                                                                                                                                                                                                                                                                                                                                                                                                                                                                                                                                                                                                                                                                                                                                                                                                                                                                                                                                                                                                                                                                                                                                                                                                                                                                                                                                                                                                                                                                                                                                                                                        ... \n",
       "<p>Composer/Performer Ned Rothenberg has been internationally acclaimed for  both his solo and ensemble music, presented for the past 30 years in  North and South America, Europe and Asia. He performs primarily on the  alto saxophone, clarinet , bass clarinet, and the shakuhachi - an  endblown Japanese bamboo flute. He leads the trio Sync, with Jerome  Harris, guitars and Samir Chatterjee, tabla. Recent recordings include  Quintet for Clarinet and Strings, Ryu Nashi (new music for shakuhachi),  Inner Diaspora, The Lumina Recordings and Ghost Stories, all on Tzadik,  as well as Live at Roulette with Evan Parker, Are You Be and The Fell  Clutch, on Rothenberg’s Animul label.</p>                                                                                                                                                                                                                                                                                                                                                                                                                                                                                                                                                                                                                                                                                                                                                                                                                                                                                                                                                                                                                                                                                                                                                                                                                                                                                                                                                                                                                                                              1\n",
       "<p><span class=\"Apple-style-span\" style=\"font-family:arial, sans-serif;font-size:11px;border-collapse:collapse;\"></span></p><p>...photos of Vampire Cows at a VCU Anderson Gallery \\nopening performing \"Idiot Piano at Night\" and \"Bongos over Sandors\". \\nBillie Burke in Jumpsuit, Bonnie Biggs at Idiot Piano on table, Bruce \\nCooper is on bass wearing a hockey goalie mask under the table, yours \\ntruly in sparkling tux on bass &amp; drums . The Vampire Cows cut on the [Artifacts] sampler is definitely one of \\nthe more \\nchallenging and least musically accessible. Kinda like a David Lynch \\nsoundtrack to a torture scene shot in a bowling alley.<br /><br /><em>From Phil Trumbo (the tall guy), who's an animator in Seattle and \\nused to work on \"Peewee's Playhouse\"</em></p><p>THE VAMPIRE COWS - \"The Old Endicott Building\" Recorded March, 1975, \\nlive on WGOE radio.</p>                                                                                                                                                                                                                                                                                                                                                                                                                                                                                                                                                                                                                                                                                                                                                                                                                                                                                                                                                                                                                                                                                                                                                                                                                                                                 1\n",
       "<p><span class=\"Apple-style-span\" style=\"font-family:georgia, serif, arial, helvetica, sans-serif;font-size:12px;\"></span></p><p style=\"font-size:12px;width:350px;margin-top:0px;margin-right:20px;margin-bottom:10px;margin-left:0px;\"><span class=\"text_italic\" style=\"font-style:italic;\">Michael Teploff</span> is known for his Ill Doggy releases on Salo Records, Berlin and as one half of Multipliar (the other half being Anton Kubikov aka SCSI-9) on the infamous Cologne imprint Trapez. Here he has teamed up with ambient producer <span class=\"text_italic\" style=\"font-style:italic;\">Igor Ivanov</span> and local DJ <span class=\"text_italic\" style=\"font-style:italic;\">Vladimir Kochenov</span> to push his own limits.</p><p style=\"font-size:12px;width:350px;margin-top:0px;margin-right:20px;margin-bottom:10px;margin-left:0px;\">The result coming out of this creative pool is not only proof of outstanding handicraft skills, but also the combination of several disparate sources of influence, far beyond the expected minimal heroes. Pioneer composers within art music as well as film scores and visual artists have all played an indirect role in forming the Wunderblock sound - an eclectic mix of minimal techno, house and dub with a touch of ambience and a jazzy feel. The use of not only synths and drum-machines, but also live instruments like acoustic and electric guitars, live percussion and wind instruments, adds to the organic flavour.</p><p style=\"font-size:12px;width:350px;margin-top:0px;margin-right:20px;margin-bottom:10px;margin-left:0px;\">-from Astor Bell</p>                                                                                                                                                                                                                                                                                                                                                                                                                                                                                                                                     1\n",
       "<p><strong style=\"font-weight:bold;\">Bill Nace </strong>is an itinerant guitarist in the improv-minstrel mode. He plays with X.O.4, Northampton Wools, Vampire Belt, and in a uo with Chris Cooper. Nace will join Jooklo Duo for a final trio set.</p>                                                                                                                                                                                                                                                                                                                                                                                                                                                                                                                                                                                                                                                                                                                                                                                                                                                                                                                                                                                                                                                                                                                                                                                                                                                                                                                                                                                                                                                                                                                                                                                                                                                                                                                                                                                                                                                                                                                    1\n",
       "<p>I’m returning to India for a track by Master Laloo, a singer from Gujarat, presumably. Collecting Indian music has always been daunting to me - I love it, but there are so many excellent artists out there, I’m overwhelmed. That said, I enjoy what I have, and what I continue to pick up. Hell, it’s all a giant experiment, for the most part, and that’s what continues to make it fun.</p>\\n<p>While Laloo doesn’t perform some of the same vocal gymnastics as other masters of Indian classical music, there’s something very appealing to me about the combination of voice, harmonium, and tabla. Basically, what I’m trying to say is that I enjoy listening to this record, which is what it’s all about. Judging by the label and the pressing (which was made in the Gramophone Company’s Indian plant, at Dum Dum), I would guess this stems from the early to mid-1930s.</p>\\n<p>I could find nothing on the Master in question, although I am in the process of trying to obtain a title translation. If anyone else can step up to the plate, please do! However, the label is quite difficult to read due to the gold on green background.</p>\\n<p>On a side note, R. and I went to a concert of Central Asian music in Los Angeles the other night. I always feel nervous beforehand that a concert like that will be too faux world-y for me, but it was very good, and one artist stood out: the Kazakh singer and dombra player Ulzhan Baibussynova. Although she performed only three songs, they were riveting. She appears on the recent Smithsonian Folkways release <a href=\"http://www.folkways.si.edu/search/AlbumDetails.aspx?ID=3184#\">Bardic Divas</a>.</p>\\n<p><strong>Technical Notes<br /></strong>Label: HMV<br /> Issue Number: N. 2569<br /> Matrix Number: BX. 4884</p>                                                                                                                                                                                                                                                                                                                                                       1\n",
       "Name: bio, Length: 6084, dtype: int64"
      ]
     },
     "execution_count": 96,
     "metadata": {},
     "output_type": "execute_result"
    }
   ],
   "source": [
    "artist['bio'].value_counts()"
   ]
  },
  {
   "cell_type": "markdown",
   "metadata": {},
   "source": [
    "bio biografia in formato html dell'artista\n",
    "\n",
    "35418 null value"
   ]
  },
  {
   "cell_type": "markdown",
   "metadata": {},
   "source": [
    "## comments"
   ]
  },
  {
   "cell_type": "code",
   "execution_count": 97,
   "metadata": {},
   "outputs": [
    {
     "data": {
      "text/plain": [
       " 0     70496\n",
       " 1     12927\n",
       " 2      6875\n",
       " 3      3049\n",
       " 4      2437\n",
       " 5      1163\n",
       " 7      1106\n",
       " 6      1100\n",
       "-1       856\n",
       " 12      673\n",
       " 29      604\n",
       " 13      570\n",
       " 8       540\n",
       " 15      528\n",
       " 10      491\n",
       " 11      488\n",
       " 55      471\n",
       " 21      433\n",
       " 18      406\n",
       " 9       303\n",
       " 28      248\n",
       " 32      162\n",
       " 31      155\n",
       " 79      109\n",
       " 14       78\n",
       " 68       68\n",
       " 16       62\n",
       " 17       59\n",
       " 25       58\n",
       " 26       30\n",
       " 35       29\n",
       "Name: comments, dtype: int64"
      ]
     },
     "execution_count": 97,
     "metadata": {},
     "output_type": "execute_result"
    }
   ],
   "source": [
    "artist['comments'].value_counts()"
   ]
  },
  {
   "cell_type": "markdown",
   "metadata": {},
   "source": [
    "comments numero di commenti lasciati per ogni artista\n",
    "\n",
    "70496 record presentano zero commenti\n",
    "\n",
    "856 presentano -1 commenti \n",
    "\n",
    "0 null value"
   ]
  },
  {
   "cell_type": "markdown",
   "metadata": {},
   "source": [
    "## date_created"
   ]
  },
  {
   "cell_type": "code",
   "execution_count": 99,
   "metadata": {},
   "outputs": [
    {
     "data": {
      "text/plain": [
       "2013-03-31 02:17:41    745\n",
       "2010-04-19 14:21:56    604\n",
       "2008-11-26 02:09:09    499\n",
       "2015-02-03 12:05:36    416\n",
       "2009-03-19 12:01:38    371\n",
       "                      ... \n",
       "2016-09-26 08:25:41      1\n",
       "2012-07-19 13:12:58      1\n",
       "2014-11-01 19:42:57      1\n",
       "2009-08-13 08:04:46      1\n",
       "2013-12-30 17:15:59      1\n",
       "Name: date_created, Length: 15970, dtype: int64"
      ]
     },
     "execution_count": 99,
     "metadata": {},
     "output_type": "execute_result"
    }
   ],
   "source": [
    "artist['date_created'].value_counts()"
   ]
  },
  {
   "cell_type": "code",
   "execution_count": 100,
   "metadata": {},
   "outputs": [
    {
     "data": {
      "image/png": "[encoded data removed]",
      "text/plain": [
       "<Figure size 1224x360 with 1 Axes>"
      ]
     },
     "metadata": {
      "needs_background": "light"
     },
     "output_type": "display_data"
    }
   ],
   "source": [
    "artist['date_created'].hist(bins=60)\n",
    "plt.title(\"date_created\")\n",
    "plt.xlabel('')\n",
    "plt.ylabel('Count')\n",
    "\n",
    "plt.show()"
   ]
  },
  {
   "cell_type": "markdown",
   "metadata": {},
   "source": [
    "date_created data in cui l'artista è stato inserito nel database\n",
    "\n",
    "856 null value "
   ]
  },
  {
   "cell_type": "markdown",
   "metadata": {},
   "source": [
    "## favorites"
   ]
  },
  {
   "cell_type": "code",
   "execution_count": 102,
   "metadata": {},
   "outputs": [
    {
     "data": {
      "text/plain": [
       "0      18056\n",
       "1      12177\n",
       "2       8591\n",
       "3       6533\n",
       "4       5816\n",
       "       ...  \n",
       "61        16\n",
       "119       15\n",
       "50        10\n",
       "74         7\n",
       "69         7\n",
       "Name: favorites, Length: 128, dtype: int64"
      ]
     },
     "execution_count": 102,
     "metadata": {},
     "output_type": "execute_result"
    }
   ],
   "source": [
    "artist['favorites'].value_counts()"
   ]
  },
  {
   "cell_type": "markdown",
   "metadata": {},
   "source": [
    "favorites numero di utenti che hanno selezionato l'artista come preferito\n",
    "\n",
    "0 null value"
   ]
  },
  {
   "cell_type": "markdown",
   "metadata": {},
   "source": [
    "## id"
   ]
  },
  {
   "cell_type": "code",
   "execution_count": 106,
   "metadata": {},
   "outputs": [
    {
     "data": {
      "text/plain": [
       "15891    745\n",
       "7168     604\n",
       "129      499\n",
       "19461    416\n",
       "2008     371\n",
       "        ... \n",
       "19536      1\n",
       "22458      1\n",
       "11356      1\n",
       "10164      1\n",
       "2049       1\n",
       "Name: id, Length: 16341, dtype: int64"
      ]
     },
     "execution_count": 106,
     "metadata": {},
     "output_type": "execute_result"
    }
   ],
   "source": [
    "artist['id'].value_counts()"
   ]
  },
  {
   "cell_type": "code",
   "execution_count": 107,
   "metadata": {},
   "outputs": [
    {
     "data": {
      "image/png": "[encoded data removed]",
      "text/plain": [
       "<Figure size 1224x360 with 1 Axes>"
      ]
     },
     "metadata": {
      "needs_background": "light"
     },
     "output_type": "display_data"
    }
   ],
   "source": [
    "artist['id'].hist(bins=60)\n",
    "plt.title(\"id\")\n",
    "plt.xlabel('')\n",
    "plt.ylabel('Count')\n",
    "\n",
    "plt.show()"
   ]
  },
  {
   "cell_type": "markdown",
   "metadata": {},
   "source": [
    "id identificativo artista\n",
    "\n",
    "il grafico mostra come alcuni artisti presentino più canzoni di altri\n",
    "\n",
    "0 null value"
   ]
  },
  {
   "cell_type": "markdown",
   "metadata": {},
   "source": [
    "## latitude"
   ]
  },
  {
   "cell_type": "code",
   "execution_count": 108,
   "metadata": {},
   "outputs": [
    {
     "data": {
      "text/plain": [
       " 40.650000    1339\n",
       " 45.523452    1255\n",
       " 40.692455     976\n",
       " 40.714550     937\n",
       " 40.714353     775\n",
       "              ... \n",
       " 55.794941       1\n",
       " 42.746071       1\n",
       " 43.250439       1\n",
       "-35.308235       1\n",
       " 65.010300       1\n",
       "Name: latitude, Length: 1306, dtype: int64"
      ]
     },
     "execution_count": 108,
     "metadata": {},
     "output_type": "execute_result"
    }
   ],
   "source": [
    "artist['latitude'].value_counts()"
   ]
  },
  {
   "cell_type": "code",
   "execution_count": 109,
   "metadata": {},
   "outputs": [
    {
     "data": {
      "image/png": "[encoded data removed]",
      "text/plain": [
       "<Figure size 1224x360 with 1 Axes>"
      ]
     },
     "metadata": {
      "needs_background": "light"
     },
     "output_type": "display_data"
    }
   ],
   "source": [
    "artist['latitude'].hist(bins=60)\n",
    "plt.title(\"latitude\")\n",
    "plt.xlabel('')\n",
    "plt.ylabel('Count')\n",
    "\n",
    "plt.show()"
   ]
  },
  {
   "cell_type": "markdown",
   "metadata": {},
   "source": [
    "latitudine di provenienza dell'artista\n",
    "\n",
    "62030 null value"
   ]
  },
  {
   "cell_type": "markdown",
   "metadata": {},
   "source": [
    "## longitude"
   ]
  },
  {
   "cell_type": "code",
   "execution_count": 111,
   "metadata": {},
   "outputs": [
    {
     "data": {
      "text/plain": [
       "-73.950000     1339\n",
       "-122.676207    1255\n",
       "-73.990364      976\n",
       "-74.007124      896\n",
       "-74.005973      775\n",
       "               ... \n",
       "-97.742561        1\n",
       " 12.354722        1\n",
       "-122.661486       1\n",
       " 27.563100        1\n",
       "-74.744652        1\n",
       "Name: longitude, Length: 1296, dtype: int64"
      ]
     },
     "execution_count": 111,
     "metadata": {},
     "output_type": "execute_result"
    }
   ],
   "source": [
    "artist['longitude'].value_counts()"
   ]
  },
  {
   "cell_type": "code",
   "execution_count": 113,
   "metadata": {},
   "outputs": [
    {
     "data": {
      "image/png": "[encoded data removed]",
      "text/plain": [
       "<Figure size 1224x360 with 1 Axes>"
      ]
     },
     "metadata": {
      "needs_background": "light"
     },
     "output_type": "display_data"
    }
   ],
   "source": [
    "artist['longitude'].hist(bins=60)\n",
    "plt.title(\"longitude\")\n",
    "plt.xlabel('')\n",
    "plt.ylabel('Count')\n",
    "\n",
    "plt.show()"
   ]
  },
  {
   "cell_type": "markdown",
   "metadata": {},
   "source": [
    "longitudine di provenienza dell'artista\n",
    "\n",
    "62030 null value"
   ]
  },
  {
   "cell_type": "markdown",
   "metadata": {},
   "source": [
    "## location"
   ]
  },
  {
   "cell_type": "code",
   "execution_count": 114,
   "metadata": {},
   "outputs": [
    {
     "data": {
      "text/plain": [
       "Brooklyn, NY                  2327\n",
       "France                        1737\n",
       "New York, NY                  1218\n",
       "Chicago, IL                    783\n",
       "Perm, Russia                   745\n",
       "                              ... \n",
       "Sacramento, California           1\n",
       "Brisbane and Tokyo               1\n",
       "Brooklyn & New Jersey            1\n",
       "Amsterdam, The Netherlands       1\n",
       "94110                            1\n",
       "Name: location, Length: 2329, dtype: int64"
      ]
     },
     "execution_count": 114,
     "metadata": {},
     "output_type": "execute_result"
    }
   ],
   "source": [
    "artist['location'].value_counts()"
   ]
  },
  {
   "cell_type": "markdown",
   "metadata": {},
   "source": [
    "location città di provenienza dell'artista\n",
    "\n",
    "36364 null value"
   ]
  },
  {
   "cell_type": "markdown",
   "metadata": {},
   "source": [
    "## members               "
   ]
  },
  {
   "cell_type": "code",
   "execution_count": 116,
   "metadata": {},
   "outputs": [
    {
     "data": {
      "text/plain": [
       "Konstantin Trokay                                                                                                                     745\n",
       "Chad Crouch                                                                                                                           615\n",
       "Lee Rosevere                                                                                                                          380\n",
       "Hollis Smith                                                                                                                          353\n",
       "Jared C. Balogh                                                                                                                       248\n",
       "                                                                                                                                     ... \n",
       "Chuck Bettis - electronics + throat\\nToshio Kajiwara - turntables + electronics\\nBarry Weisblat - electronics + home made devices       1\n",
       "Tuukka Tervo, Jari Koho                                                                                                                 1\n",
       "Martijn Schackmann                                                                                                                      1\n",
       "Eli Spindel, conductor                                                                                                                  1\n",
       "Helicalin\\nlost-radio\\nCJ Antares\\nSirius Radiance                                                                                      1\n",
       "Name: members, Length: 4015, dtype: int64"
      ]
     },
     "execution_count": 116,
     "metadata": {},
     "output_type": "execute_result"
    }
   ],
   "source": [
    "artist['members'].value_counts()"
   ]
  },
  {
   "cell_type": "markdown",
   "metadata": {},
   "source": [
    "members sembra indicare i nomi dei membri del gruppo se sono più di 1 o del solo artista se è da solo. \n",
    "Non torna molro con l'attributo name successivo\n",
    "\n",
    "59725 null value"
   ]
  },
  {
   "cell_type": "markdown",
   "metadata": {},
   "source": [
    "## name"
   ]
  },
  {
   "cell_type": "code",
   "execution_count": 117,
   "metadata": {},
   "outputs": [
    {
     "data": {
      "text/plain": [
       "Kosta T                              745\n",
       "Podington Bear                       604\n",
       "Ergo Phizmiz                         499\n",
       "Blue Dot Sessions                    416\n",
       "Lee Rosevere                         371\n",
       "                                    ... \n",
       "Gamaliel                               1\n",
       "Mat Gabo and Beurklaid                 1\n",
       "Love Cult & Bedroom Bear               1\n",
       "Travis Johnson and Jaan Patterson      1\n",
       "Rejections                             1\n",
       "Name: name, Length: 16294, dtype: int64"
      ]
     },
     "execution_count": 117,
     "metadata": {},
     "output_type": "execute_result"
    }
   ],
   "source": [
    "artist['name'].value_counts()"
   ]
  },
  {
   "cell_type": "markdown",
   "metadata": {},
   "source": [
    "name indica il nome dell'artist\n",
    "\n",
    "0 null value"
   ]
  },
  {
   "cell_type": "markdown",
   "metadata": {},
   "source": [
    "## related_projects"
   ]
  },
  {
   "cell_type": "code",
   "execution_count": 118,
   "metadata": {},
   "outputs": [
    {
     "data": {
      "text/plain": [
       "Ratatat, Lullatone, Nightmares On Wax, Air, Mouse On Mars, Helios, Goldmund                                                                                                                                         604\n",
       "The Electric Amygdala\\nRockit Maxx                                                                                                                                                                                  371\n",
       "Hafrsfjord\\nThe Pardos                                                                                                                                                                                              286\n",
       "Trans Atlantic Rage\\nTrans Atlantic Rage/Balogh\\nBad Night Moon Shadow\\nBohorquez/Balogh Project\\nAniqatia\\nPink Hex\\nLife Like Thunderstorms\\nWondertaker\\nCharles Rice Goff III/Jared C. Balogh\\nDMAH/Balogh\\n    248\n",
       "Jubal, Boudewijn                                                                                                                                                                                                    203\n",
       "                                                                                                                                                                                                                   ... \n",
       "The Ex\\nDogfaced Hermans                                                                                                                                                                                              1\n",
       "MEND HAM\\nSUBTLE LIP CAN\\nJOE GRASS BAND\\nLIL'ANDY\\nSam Shalabi's LAND OF KUSH and Egyptian Light Orchestra\\nENSEMBLE SUPERMUSIQUE\\nHOLOBODY                                                                          1\n",
       "sunof81.bandcamp.com                                                                                                                                                                                                  1\n",
       "Type Records (UK label run by John)                                                                                                                                                                                   1\n",
       "Dj Balli\\n                                                                                                                                                                                                            1\n",
       "Name: related_projects, Length: 752, dtype: int64"
      ]
     },
     "execution_count": 118,
     "metadata": {},
     "output_type": "execute_result"
    }
   ],
   "source": [
    "artist['related_projects'].value_counts()"
   ]
  },
  {
   "cell_type": "markdown",
   "metadata": {},
   "source": [
    "related_projects non si capisce bene il significato\n",
    "\n",
    "93422 null value"
   ]
  },
  {
   "cell_type": "markdown",
   "metadata": {},
   "source": [
    "## tags"
   ]
  },
  {
   "cell_type": "code",
   "execution_count": 121,
   "metadata": {},
   "outputs": [
    {
     "data": {
      "text/plain": [
       "[]                                                                                                                                                                                                   3061\n",
       "[skripka, improv, ambient, reverb, acoustic, free improvisation, psychedelic, melancholic, surrism-phonethics, kosta t, surrism-phonoethics, violin, avant garde, modern classical, experimental]     745\n",
       "[vimeo, bed music, instrumental, production music, melodic, podington bear, simple, moody, film music]                                                                                                604\n",
       "[ergo phizmiz, surrism-phonoethics]                                                                                                                                                                   499\n",
       "[blue dot sessions]                                                                                                                                                                                   416\n",
       "                                                                                                                                                                                                     ... \n",
       "[bombshelter experiment]                                                                                                                                                                                1\n",
       "[mind map that]                                                                                                                                                                                         1\n",
       "[desert gears, khoomei, overtone singing, throat-singing]                                                                                                                                               1\n",
       "[kschzt]                                                                                                                                                                                                1\n",
       "[ayato and natalia kamia]                                                                                                                                                                               1\n",
       "Name: tags, Length: 15660, dtype: int64"
      ]
     },
     "execution_count": 121,
     "metadata": {},
     "output_type": "execute_result"
    }
   ],
   "source": [
    "artist['tags'].value_counts()"
   ]
  },
  {
   "cell_type": "markdown",
   "metadata": {},
   "source": [
    "tags array con parole chiave associate ad ogni artista\n",
    "\n",
    "3061 record presentano array vuoto"
   ]
  },
  {
   "cell_type": "markdown",
   "metadata": {},
   "source": [
    "## website             "
   ]
  },
  {
   "cell_type": "code",
   "execution_count": 122,
   "metadata": {},
   "outputs": [
    {
     "data": {
      "text/plain": [
       "https://soundcloud.com/konstantin-trokay    745\n",
       "http://soundofpicture.com                   604\n",
       "http://www.ergophizmiz.net                  519\n",
       "http://www.alteredstateofmine.net           430\n",
       "http://www.sessions.blue/sessions/          416\n",
       "                                           ... \n",
       "http://astorbell.com/?artist=donnykarson      1\n",
       "http://bmossman.com                           1\n",
       "www.thesnakerecords.com                       1\n",
       "http://www.duttyartz.com/                     1\n",
       "http://www.gstringorchestra.com/              1\n",
       "Name: website, Length: 6642, dtype: int64"
      ]
     },
     "execution_count": 122,
     "metadata": {},
     "output_type": "execute_result"
    }
   ],
   "source": [
    "artist['website'].value_counts()"
   ]
  },
  {
   "cell_type": "markdown",
   "metadata": {},
   "source": [
    "website sito web ufficiale dell'artista\n",
    "\n",
    "27318 null value"
   ]
  },
  {
   "cell_type": "markdown",
   "metadata": {},
   "source": [
    "## wikipedia_page       "
   ]
  },
  {
   "cell_type": "code",
   "execution_count": 124,
   "metadata": {},
   "outputs": [
    {
     "data": {
      "text/plain": [
       "http://en.wikipedia.org/wiki/Josh_Woodward            284\n",
       "http://translate.google.com/translate?hl=en&amp;sl    248\n",
       "http://en.wikipedia.org/wiki/Kevin_MacLeod_(musici    162\n",
       "hitherto unkown                                       150\n",
       "http://en.wikipedia.org/wiki/Obits                    126\n",
       "                                                     ... \n",
       "http://en.wikipedia.org/wiki/Cornelius_(musician)       1\n",
       "http://en.wikipedia.org/wiki/Michael_Yonkers            1\n",
       "http://en.wikipedia.org/wiki/Vladimir_de_Pachmann       1\n",
       "http://en.wikipedia.org/wiki/Vladimir_Sofronitsky       1\n",
       "http://en.wikipedia.org/wiki/Alva_Noto                  1\n",
       "Name: wikipedia_page, Length: 389, dtype: int64"
      ]
     },
     "execution_count": 124,
     "metadata": {},
     "output_type": "execute_result"
    }
   ],
   "source": [
    "artist['wikipedia_page'].value_counts()"
   ]
  },
  {
   "cell_type": "markdown",
   "metadata": {},
   "source": [
    "wikipedia_page pagina wikipedia dell'artista\n",
    "\n",
    "100993 null value"
   ]
  },
  {
   "cell_type": "markdown",
   "metadata": {},
   "source": []
  },
  {
   "cell_type": "markdown",
   "metadata": {},
   "source": [
    "## CAMPI SET"
   ]
  },
  {
   "cell_type": "code",
   "execution_count": 125,
   "metadata": {},
   "outputs": [
    {
     "data": {
      "text/html": [
       "<div>\n",
       "<style scoped>\n",
       "    .dataframe tbody tr th:only-of-type {\n",
       "        vertical-align: middle;\n",
       "    }\n",
       "\n",
       "    .dataframe tbody tr th {\n",
       "        vertical-align: top;\n",
       "    }\n",
       "\n",
       "    .dataframe thead th {\n",
       "        text-align: right;\n",
       "    }\n",
       "</style>\n",
       "<table border=\"1\" class=\"dataframe\">\n",
       "  <thead>\n",
       "    <tr style=\"text-align: right;\">\n",
       "      <th></th>\n",
       "      <th>split</th>\n",
       "      <th>subset</th>\n",
       "    </tr>\n",
       "    <tr>\n",
       "      <th>track_id</th>\n",
       "      <th></th>\n",
       "      <th></th>\n",
       "    </tr>\n",
       "  </thead>\n",
       "  <tbody>\n",
       "    <tr>\n",
       "      <th>2</th>\n",
       "      <td>training</td>\n",
       "      <td>small</td>\n",
       "    </tr>\n",
       "    <tr>\n",
       "      <th>3</th>\n",
       "      <td>training</td>\n",
       "      <td>medium</td>\n",
       "    </tr>\n",
       "    <tr>\n",
       "      <th>5</th>\n",
       "      <td>training</td>\n",
       "      <td>small</td>\n",
       "    </tr>\n",
       "    <tr>\n",
       "      <th>10</th>\n",
       "      <td>training</td>\n",
       "      <td>small</td>\n",
       "    </tr>\n",
       "    <tr>\n",
       "      <th>20</th>\n",
       "      <td>training</td>\n",
       "      <td>large</td>\n",
       "    </tr>\n",
       "  </tbody>\n",
       "</table>\n",
       "</div>"
      ],
      "text/plain": [
       "             split  subset\n",
       "track_id                  \n",
       "2         training   small\n",
       "3         training  medium\n",
       "5         training   small\n",
       "10        training   small\n",
       "20        training   large"
      ]
     },
     "execution_count": 125,
     "metadata": {},
     "output_type": "execute_result"
    }
   ],
   "source": [
    "tracks['set'].head()"
   ]
  },
  {
   "cell_type": "code",
   "execution_count": 126,
   "metadata": {},
   "outputs": [
    {
     "name": "stdout",
     "output_type": "stream",
     "text": [
      "<class 'pandas.core.frame.DataFrame'>\n",
      "Int64Index: 106574 entries, 2 to 155320\n",
      "Data columns (total 2 columns):\n",
      " #   Column  Non-Null Count   Dtype   \n",
      "---  ------  --------------   -----   \n",
      " 0   split   106574 non-null  object  \n",
      " 1   subset  106574 non-null  category\n",
      "dtypes: category(1), object(1)\n",
      "memory usage: 1.7+ MB\n"
     ]
    }
   ],
   "source": [
    " tracks['set'].info()"
   ]
  },
  {
   "cell_type": "code",
   "execution_count": 127,
   "metadata": {},
   "outputs": [
    {
     "data": {
      "text/plain": [
       "split     0\n",
       "subset    0\n",
       "dtype: int64"
      ]
     },
     "execution_count": 127,
     "metadata": {},
     "output_type": "execute_result"
    }
   ],
   "source": [
    "tracks['set'].isnull().sum() "
   ]
  },
  {
   "cell_type": "code",
   "execution_count": 128,
   "metadata": {},
   "outputs": [
    {
     "data": {
      "text/html": [
       "<div>\n",
       "<style scoped>\n",
       "    .dataframe tbody tr th:only-of-type {\n",
       "        vertical-align: middle;\n",
       "    }\n",
       "\n",
       "    .dataframe tbody tr th {\n",
       "        vertical-align: top;\n",
       "    }\n",
       "\n",
       "    .dataframe thead th {\n",
       "        text-align: right;\n",
       "    }\n",
       "</style>\n",
       "<table border=\"1\" class=\"dataframe\">\n",
       "  <thead>\n",
       "    <tr style=\"text-align: right;\">\n",
       "      <th></th>\n",
       "      <th>split</th>\n",
       "      <th>subset</th>\n",
       "    </tr>\n",
       "  </thead>\n",
       "  <tbody>\n",
       "    <tr>\n",
       "      <th>count</th>\n",
       "      <td>106574</td>\n",
       "      <td>106574</td>\n",
       "    </tr>\n",
       "    <tr>\n",
       "      <th>unique</th>\n",
       "      <td>3</td>\n",
       "      <td>3</td>\n",
       "    </tr>\n",
       "    <tr>\n",
       "      <th>top</th>\n",
       "      <td>training</td>\n",
       "      <td>large</td>\n",
       "    </tr>\n",
       "    <tr>\n",
       "      <th>freq</th>\n",
       "      <td>84353</td>\n",
       "      <td>81574</td>\n",
       "    </tr>\n",
       "  </tbody>\n",
       "</table>\n",
       "</div>"
      ],
      "text/plain": [
       "           split  subset\n",
       "count     106574  106574\n",
       "unique         3       3\n",
       "top     training   large\n",
       "freq       84353   81574"
      ]
     },
     "execution_count": 128,
     "metadata": {},
     "output_type": "execute_result"
    }
   ],
   "source": [
    "tracks['set'].describe()"
   ]
  },
  {
   "cell_type": "code",
   "execution_count": 129,
   "metadata": {},
   "outputs": [],
   "source": [
    "set=tracks['set']"
   ]
  },
  {
   "cell_type": "markdown",
   "metadata": {},
   "source": [
    "## split"
   ]
  },
  {
   "cell_type": "code",
   "execution_count": 131,
   "metadata": {},
   "outputs": [
    {
     "data": {
      "text/plain": [
       "training      84353\n",
       "test          11263\n",
       "validation    10958\n",
       "Name: split, dtype: int64"
      ]
     },
     "execution_count": 131,
     "metadata": {},
     "output_type": "execute_result"
    }
   ],
   "source": [
    "set['split'].value_counts()"
   ]
  },
  {
   "cell_type": "markdown",
   "metadata": {},
   "source": [
    "split se questo record è stato usato per il training il validation o il test set nello studio fatto dagli autori del database\n",
    "    \n",
    "0 null value"
   ]
  },
  {
   "cell_type": "markdown",
   "metadata": {},
   "source": [
    "## subset"
   ]
  },
  {
   "cell_type": "code",
   "execution_count": 132,
   "metadata": {},
   "outputs": [
    {
     "data": {
      "text/plain": [
       "large     81574\n",
       "medium    17000\n",
       "small      8000\n",
       "Name: subset, dtype: int64"
      ]
     },
     "execution_count": 132,
     "metadata": {},
     "output_type": "execute_result"
    }
   ],
   "source": [
    "set['subset'].value_counts()"
   ]
  },
  {
   "cell_type": "markdown",
   "metadata": {},
   "source": [
    "subset indica in quale sottoinsieme gli autori del database hanno inserito la track\n",
    "\n",
    "se una track appartiene a small appartiene anche a large e medium\n",
    "\n",
    "in large tutti i track con però solo 30 secondi di musica\n",
    "\n",
    "in medium le track con root genre single value, unbalanced database\n",
    "\n",
    "in small le track con root genre single value, balanced database"
   ]
  },
  {
   "cell_type": "code",
   "execution_count": null,
   "metadata": {},
   "outputs": [],
   "source": []
  }
 ],
 "metadata": {
  "kernelspec": {
   "display_name": "Python 3",
   "language": "python",
   "name": "python3"
  },
  "language_info": {
   "codemirror_mode": {
    "name": "ipython",
    "version": 3
   },
   "file_extension": ".py",
   "mimetype": "text/x-python",
   "name": "python",
   "nbconvert_exporter": "python",
   "pygments_lexer": "ipython3",
   "version": "3.8.3"
  }
 },
 "nbformat": 4,
 "nbformat_minor": 4
}
